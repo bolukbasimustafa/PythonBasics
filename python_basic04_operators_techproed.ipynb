{
 "cells": [
  {
   "cell_type": "code",
   "execution_count": null,
   "id": "b831b6a8",
   "metadata": {},
   "outputs": [],
   "source": [
    "# python_basic04 ilk 2 saati python_basic03_string_techproed çalışmasında"
   ]
  },
  {
   "cell_type": "code",
   "execution_count": null,
   "id": "754674c6",
   "metadata": {},
   "outputs": [],
   "source": [
    "# python_basic04 son saati"
   ]
  },
  {
   "cell_type": "code",
   "execution_count": null,
   "id": "5ac0da0c",
   "metadata": {},
   "outputs": [],
   "source": []
  },
  {
   "cell_type": "code",
   "execution_count": null,
   "id": "52019128",
   "metadata": {},
   "outputs": [],
   "source": [
    "# numeric values"
   ]
  },
  {
   "cell_type": "code",
   "execution_count": null,
   "id": "3ec67dc1",
   "metadata": {},
   "outputs": [],
   "source": [
    "# integer"
   ]
  },
  {
   "cell_type": "code",
   "execution_count": 1,
   "id": "4490abbb",
   "metadata": {},
   "outputs": [],
   "source": [
    "x=5000"
   ]
  },
  {
   "cell_type": "code",
   "execution_count": 2,
   "id": "026123f4",
   "metadata": {},
   "outputs": [
    {
     "data": {
      "text/plain": [
       "int"
      ]
     },
     "execution_count": 2,
     "metadata": {},
     "output_type": "execute_result"
    }
   ],
   "source": [
    "type(x)"
   ]
  },
  {
   "cell_type": "code",
   "execution_count": 3,
   "id": "dca99b27",
   "metadata": {},
   "outputs": [
    {
     "data": {
      "text/plain": [
       "int"
      ]
     },
     "execution_count": 3,
     "metadata": {},
     "output_type": "execute_result"
    }
   ],
   "source": [
    "type(5000)"
   ]
  },
  {
   "cell_type": "code",
   "execution_count": 4,
   "id": "79673d54",
   "metadata": {},
   "outputs": [
    {
     "ename": "SyntaxError",
     "evalue": "leading zeros in decimal integer literals are not permitted; use an 0o prefix for octal integers (1299878489.py, line 1)",
     "output_type": "error",
     "traceback": [
      "\u001b[1;36m  Input \u001b[1;32mIn [4]\u001b[1;36m\u001b[0m\n\u001b[1;33m    y=012345\u001b[0m\n\u001b[1;37m           ^\u001b[0m\n\u001b[1;31mSyntaxError\u001b[0m\u001b[1;31m:\u001b[0m leading zeros in decimal integer literals are not permitted; use an 0o prefix for octal integers\n"
     ]
    }
   ],
   "source": [
    "y=012345                    # integer lar 0 ile başlamaz"
   ]
  },
  {
   "cell_type": "code",
   "execution_count": 5,
   "id": "0068e771",
   "metadata": {},
   "outputs": [],
   "source": [
    "z=0b1010101                 # int lar binary olarak yazılabilir"
   ]
  },
  {
   "cell_type": "code",
   "execution_count": 6,
   "id": "8008837f",
   "metadata": {},
   "outputs": [
    {
     "data": {
      "text/plain": [
       "85"
      ]
     },
     "execution_count": 6,
     "metadata": {},
     "output_type": "execute_result"
    }
   ],
   "source": [
    "z"
   ]
  },
  {
   "cell_type": "code",
   "execution_count": 7,
   "id": "532916a7",
   "metadata": {},
   "outputs": [
    {
     "data": {
      "text/plain": [
       "int"
      ]
     },
     "execution_count": 7,
     "metadata": {},
     "output_type": "execute_result"
    }
   ],
   "source": [
    "type(z)"
   ]
  },
  {
   "cell_type": "code",
   "execution_count": null,
   "id": "274d25f4",
   "metadata": {},
   "outputs": [],
   "source": []
  },
  {
   "cell_type": "code",
   "execution_count": null,
   "id": "9ed6191a",
   "metadata": {},
   "outputs": [],
   "source": [
    "# boolean values            \n",
    "\n",
    "# her değerin her veri tipinin booleans olarak bir karşılığı vardır"
   ]
  },
  {
   "cell_type": "code",
   "execution_count": 8,
   "id": "18109975",
   "metadata": {},
   "outputs": [
    {
     "data": {
      "text/plain": [
       "True"
      ]
     },
     "execution_count": 8,
     "metadata": {},
     "output_type": "execute_result"
    }
   ],
   "source": [
    "bool(\"hello\")"
   ]
  },
  {
   "cell_type": "code",
   "execution_count": 9,
   "id": "ac85f9f2",
   "metadata": {},
   "outputs": [
    {
     "data": {
      "text/plain": [
       "True"
      ]
     },
     "execution_count": 9,
     "metadata": {},
     "output_type": "execute_result"
    }
   ],
   "source": [
    "bool(True)"
   ]
  },
  {
   "cell_type": "code",
   "execution_count": 17,
   "id": "26ab5928",
   "metadata": {},
   "outputs": [
    {
     "data": {
      "text/plain": [
       "True"
      ]
     },
     "execution_count": 17,
     "metadata": {},
     "output_type": "execute_result"
    }
   ],
   "source": [
    "bool(2>1)"
   ]
  },
  {
   "cell_type": "code",
   "execution_count": 18,
   "id": "234e1f11",
   "metadata": {},
   "outputs": [
    {
     "data": {
      "text/plain": [
       "True"
      ]
     },
     "execution_count": 18,
     "metadata": {},
     "output_type": "execute_result"
    }
   ],
   "source": [
    "bool(\"merhaba\")"
   ]
  },
  {
   "cell_type": "code",
   "execution_count": 19,
   "id": "aaa496f6",
   "metadata": {},
   "outputs": [
    {
     "data": {
      "text/plain": [
       "True"
      ]
     },
     "execution_count": 19,
     "metadata": {},
     "output_type": "execute_result"
    }
   ],
   "source": [
    "bool(\" \")"
   ]
  },
  {
   "cell_type": "code",
   "execution_count": null,
   "id": "1b6eb05d",
   "metadata": {},
   "outputs": [],
   "source": []
  },
  {
   "cell_type": "code",
   "execution_count": 3,
   "id": "2384dea5",
   "metadata": {
    "scrolled": true
   },
   "outputs": [
    {
     "name": "stdout",
     "output_type": "stream",
     "text": [
      "isim girinizmustafa\n",
      "True\n"
     ]
    }
   ],
   "source": [
    "# kullanıcıdan alınan kullanıcı adının bizim belirlediğimiz isimle aynı olup olmadığını kontrol eden programı yazın\n",
    "\n",
    "name=\"Mustafa\"\n",
    "\n",
    "username=input(\"isim giriniz\").lower().capitalize()\n",
    "print(name==username)"
   ]
  },
  {
   "cell_type": "code",
   "execution_count": 2,
   "id": "79af33e2",
   "metadata": {},
   "outputs": [
    {
     "data": {
      "text/plain": [
       "'\\n\\nFALSE VALUES : false döndürülürler\\n\\nbool(False)\\nbool(None)\\nbool(0)\\nbool(\"\")\\nbool(())\\nbool([])\\nbool({})\\n\\n'"
      ]
     },
     "execution_count": 2,
     "metadata": {},
     "output_type": "execute_result"
    }
   ],
   "source": [
    "\"\"\"\n",
    "\n",
    "FALSE VALUES : false döndürülürler\n",
    "\n",
    "bool(False)\n",
    "bool(None)\n",
    "bool(0)\n",
    "bool(\"\")\n",
    "bool(())\n",
    "bool([])\n",
    "bool({})\n",
    "\n",
    "\"\"\""
   ]
  },
  {
   "cell_type": "code",
   "execution_count": null,
   "id": "c5c7ec7f",
   "metadata": {},
   "outputs": [],
   "source": []
  },
  {
   "cell_type": "markdown",
   "id": "3748a2bc",
   "metadata": {},
   "source": [
    "aritmetic operators"
   ]
  },
  {
   "cell_type": "code",
   "execution_count": null,
   "id": "269ac358",
   "metadata": {},
   "outputs": [],
   "source": [
    "\"\"\"\n",
    "+       addition               x+y          : toplama\n",
    "-       subtraction            x-y          : cıkarma\n",
    "*       multiplication         x*y          : carpma\n",
    "/       division               x/y          : bölme\n",
    "%       modulus                x%y          : mod verir. yani bölme işleminde kalanı verir\n",
    "**      exponentiation         x**y         : üssünü alma\n",
    "//      floor division         x//y         : bölme işleminde bölümü verir\n",
    "\n",
    "\"\"\""
   ]
  },
  {
   "cell_type": "code",
   "execution_count": 6,
   "id": "0caae8ff",
   "metadata": {},
   "outputs": [
    {
     "name": "stdout",
     "output_type": "stream",
     "text": [
      "sayı girin: 20\n",
      "girilen sayı çift sayıdır: True\n"
     ]
    }
   ],
   "source": [
    "sayi=int(input(\"sayı girin: \"))\n",
    "tekçift=str(sayi%2==0)\n",
    "print(\"girilen sayı çift sayıdır: \"+ tekçift)"
   ]
  },
  {
   "cell_type": "code",
   "execution_count": null,
   "id": "632ce820",
   "metadata": {},
   "outputs": [],
   "source": []
  },
  {
   "cell_type": "markdown",
   "id": "cbd6f5ca",
   "metadata": {},
   "source": [
    "assigment operators          : atama operatorleri (matematiksel işlem yoktur"
   ]
  },
  {
   "cell_type": "code",
   "execution_count": null,
   "id": "d003804b",
   "metadata": {},
   "outputs": [],
   "source": [
    "\"\"\"\n",
    "operator                kısa kullanım           uzun kullanım\n",
    "\n",
    "=                       x=y                     x=y\n",
    "+=                      x+=y                    x=x+y\n",
    "-=                      x-=y                    x=x-y\n",
    "*=                      x*=y                    x=x*y\n",
    "/=                      x/=y                    x=x/y\n",
    "%=                      x%=y                    x=x%y\n",
    "**=                     x**=y                   x=x**y\n",
    "//=                     x//=y                   x=x//y\n",
    "\n",
    "\n",
    "\n",
    "\"\"\""
   ]
  },
  {
   "cell_type": "code",
   "execution_count": null,
   "id": "9b265ed2",
   "metadata": {},
   "outputs": [],
   "source": [
    "sayi=int(input(\"sayı girin: \"))\n",
    "tekçift=str(sayi%2==0)\n",
    "print(\"girilen sayı çift sayıdır: \"+ tekçift)"
   ]
  },
  {
   "cell_type": "markdown",
   "id": "7194a366",
   "metadata": {},
   "source": [
    "comparison operators (matematiksel olarak sorgulanır)"
   ]
  },
  {
   "cell_type": "code",
   "execution_count": null,
   "id": "84ec4f2f",
   "metadata": {},
   "outputs": [],
   "source": [
    "\"\"\"\n",
    "x==y             equal\n",
    "x!=y             not equal\n",
    "x>y              greather then\n",
    "x<y              less then\n",
    "x>=y             greather then or equal to\n",
    "x<=y             less then or equal to\n",
    "\n",
    "\"\"\""
   ]
  },
  {
   "cell_type": "code",
   "execution_count": null,
   "id": "c6ce6eed",
   "metadata": {},
   "outputs": [],
   "source": []
  },
  {
   "cell_type": "markdown",
   "id": "f2272b2b",
   "metadata": {},
   "source": [
    "logical operators"
   ]
  },
  {
   "cell_type": "code",
   "execution_count": null,
   "id": "bf8d7b7b",
   "metadata": {},
   "outputs": [],
   "source": [
    "\"\"\"\n",
    "and         True and True             True        : and de tüm koşullar True olmalı yoksa False döner\n",
    "and         True and False            False\n",
    "\n",
    "or          True or True              True        : or da bir tane True varsa True döndürür. True hiç yoksa False döndürür\n",
    "or          True or False             True  \n",
    "\n",
    "not         not(True or True)         False       : \n",
    "not         not(False or True)        False\n",
    "\"\"\""
   ]
  },
  {
   "cell_type": "code",
   "execution_count": null,
   "id": "5e407413",
   "metadata": {},
   "outputs": [],
   "source": []
  },
  {
   "cell_type": "markdown",
   "id": "43408f02",
   "metadata": {},
   "source": [
    "identity operators"
   ]
  },
  {
   "cell_type": "code",
   "execution_count": null,
   "id": "f39ce2d4",
   "metadata": {},
   "outputs": [],
   "source": [
    "# is          : eşittir yada aynısıdır\n",
    "# is not      : eşit değildir yada aynısı değildir"
   ]
  },
  {
   "cell_type": "code",
   "execution_count": 10,
   "id": "8f28ff12",
   "metadata": {},
   "outputs": [],
   "source": [
    "x=5  ;   y=6"
   ]
  },
  {
   "cell_type": "code",
   "execution_count": 11,
   "id": "2d5d3562",
   "metadata": {},
   "outputs": [
    {
     "data": {
      "text/plain": [
       "False"
      ]
     },
     "execution_count": 11,
     "metadata": {},
     "output_type": "execute_result"
    }
   ],
   "source": [
    "x is y"
   ]
  },
  {
   "cell_type": "code",
   "execution_count": 12,
   "id": "62df093b",
   "metadata": {},
   "outputs": [
    {
     "data": {
      "text/plain": [
       "True"
      ]
     },
     "execution_count": 12,
     "metadata": {},
     "output_type": "execute_result"
    }
   ],
   "source": [
    "x is not y"
   ]
  },
  {
   "cell_type": "code",
   "execution_count": null,
   "id": "5688ba7c",
   "metadata": {},
   "outputs": [],
   "source": []
  },
  {
   "cell_type": "markdown",
   "id": "8f2a6602",
   "metadata": {},
   "source": [
    "membership operators"
   ]
  },
  {
   "cell_type": "code",
   "execution_count": null,
   "id": "c11657ef",
   "metadata": {},
   "outputs": [],
   "source": [
    "# in         : içinde varmı\n",
    "# not in     : içinde yokmu"
   ]
  },
  {
   "cell_type": "code",
   "execution_count": 13,
   "id": "af407485",
   "metadata": {},
   "outputs": [],
   "source": [
    "x=\"merhaba\""
   ]
  },
  {
   "cell_type": "code",
   "execution_count": 15,
   "id": "eb6b92bc",
   "metadata": {},
   "outputs": [
    {
     "data": {
      "text/plain": [
       "True"
      ]
     },
     "execution_count": 15,
     "metadata": {},
     "output_type": "execute_result"
    }
   ],
   "source": [
    "\"a\" in x"
   ]
  },
  {
   "cell_type": "code",
   "execution_count": 16,
   "id": "6c7b4dc5",
   "metadata": {},
   "outputs": [
    {
     "data": {
      "text/plain": [
       "False"
      ]
     },
     "execution_count": 16,
     "metadata": {},
     "output_type": "execute_result"
    }
   ],
   "source": [
    "\"a\" not in x"
   ]
  },
  {
   "cell_type": "code",
   "execution_count": null,
   "id": "6dd89bc6",
   "metadata": {},
   "outputs": [],
   "source": []
  },
  {
   "cell_type": "code",
   "execution_count": null,
   "id": "b24e1f12",
   "metadata": {},
   "outputs": [],
   "source": [
    "# ödev : saniye cinsinden alınan bir zaman dilimini gün saat dakika ve saniye cinsinden döndüren programı yazalım"
   ]
  },
  {
   "cell_type": "code",
   "execution_count": 1,
   "id": "ab3ab9a1",
   "metadata": {},
   "outputs": [
    {
     "name": "stdout",
     "output_type": "stream",
     "text": [
      "bir saniye değeri giriniz: 375855\n",
      "girilen değer olan 375855 saniye; 4 gün 8 saat 24 dakika 15 saniyedir \n"
     ]
    }
   ],
   "source": [
    "day=86400\n",
    "hour=3600\n",
    "minut=60\n",
    "\n",
    "\n",
    "saniye=int(input(\"bir saniye değeri giriniz: \"))\n",
    "gun=saniye//day\n",
    "saniye2=saniye%day    # gün cıkınca kalan saniye\n",
    "saat=saniye2//hour\n",
    "saniye3=saniye2%hour  # gün ve saat cıkınca kalan saniye\n",
    "dakika=saniye3//minut\n",
    "saniyeson=saniye3%minut # kalan saniye\n",
    "\n",
    "print(\"girilen değer olan {} saniye; {} gün {} saat {} dakika {} saniyedir \".format(saniye,gun,saat,dakika,saniyeson))\n"
   ]
  },
  {
   "cell_type": "code",
   "execution_count": null,
   "id": "a042d981",
   "metadata": {},
   "outputs": [],
   "source": []
  },
  {
   "cell_type": "code",
   "execution_count": null,
   "id": "b0a1d8c2",
   "metadata": {},
   "outputs": [],
   "source": []
  }
 ],
 "metadata": {
  "kernelspec": {
   "display_name": "Python 3 (ipykernel)",
   "language": "python",
   "name": "python3"
  },
  "language_info": {
   "codemirror_mode": {
    "name": "ipython",
    "version": 3
   },
   "file_extension": ".py",
   "mimetype": "text/x-python",
   "name": "python",
   "nbconvert_exporter": "python",
   "pygments_lexer": "ipython3",
   "version": "3.9.12"
  }
 },
 "nbformat": 4,
 "nbformat_minor": 5
}
