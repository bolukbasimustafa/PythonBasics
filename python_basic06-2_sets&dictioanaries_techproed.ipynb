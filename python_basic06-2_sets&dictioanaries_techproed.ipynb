{
 "cells": [
  {
   "cell_type": "markdown",
   "id": "79a21002",
   "metadata": {},
   "source": [
    "setler"
   ]
  },
  {
   "cell_type": "code",
   "execution_count": null,
   "id": "0233a3b9",
   "metadata": {},
   "outputs": [],
   "source": [
    "# unordered/ unindexed      : index değeri olmadığı için slicing yada access işlemi yapılamaz\n",
    "# unchangeable              : normalde listeler gibi elemanları değiştirilebilir fakat frozen yapılırsa değiştirmek mümkün olmaz\n",
    "# duplicates not allowed    : duplicates olmaz. set tanımlanırken olabilir fakat döndürünce olmaz\n",
    "\n",
    "# kümeler mantığında çalışır\n",
    "# {} ile gösterilir\n",
    "# listeler ve dictionary ler değiştirilebilir yapuıda olduğu için set in elemanı olmaz. tuple lar olabilir\n",
    "# boş bir set set() fonksiyonu ile tanımlanır"
   ]
  },
  {
   "cell_type": "code",
   "execution_count": 1,
   "id": "81eaa322",
   "metadata": {},
   "outputs": [],
   "source": [
    "myset={\"apple\", \"banana\", \"cherry\", \"apple\"}    # duplicate olmaz. set tanımlanırken olabilir fakat döndürünce olmaz"
   ]
  },
  {
   "cell_type": "code",
   "execution_count": 2,
   "id": "1c50036b",
   "metadata": {},
   "outputs": [
    {
     "data": {
      "text/plain": [
       "{'apple', 'banana', 'cherry'}"
      ]
     },
     "execution_count": 2,
     "metadata": {},
     "output_type": "execute_result"
    }
   ],
   "source": [
    "myset                       "
   ]
  },
  {
   "cell_type": "code",
   "execution_count": null,
   "id": "d4b1c68e",
   "metadata": {},
   "outputs": [],
   "source": []
  },
  {
   "cell_type": "code",
   "execution_count": 54,
   "id": "a083ff56",
   "metadata": {},
   "outputs": [
    {
     "ename": "TypeError",
     "evalue": "unhashable type: 'list'",
     "output_type": "error",
     "traceback": [
      "\u001b[1;31m---------------------------------------------------------------------------\u001b[0m",
      "\u001b[1;31mTypeError\u001b[0m                                 Traceback (most recent call last)",
      "Input \u001b[1;32mIn [54]\u001b[0m, in \u001b[0;36m<cell line: 1>\u001b[1;34m()\u001b[0m\n\u001b[1;32m----> 1\u001b[0m {[\u001b[38;5;241m1\u001b[39m,\u001b[38;5;241m2\u001b[39m,\u001b[38;5;241m3\u001b[39m],\u001b[38;5;124m\"\u001b[39m\u001b[38;5;124mhello\u001b[39m\u001b[38;5;124m\"\u001b[39m,\u001b[38;5;241m1\u001b[39m,\u001b[38;5;241m2\u001b[39m}\n",
      "\u001b[1;31mTypeError\u001b[0m: unhashable type: 'list'"
     ]
    }
   ],
   "source": [
    "{[1,2,3],\"hello\",1,2}      # set lerde eleman olarak liste bulunmaz"
   ]
  },
  {
   "cell_type": "code",
   "execution_count": 56,
   "id": "95dbf20c",
   "metadata": {},
   "outputs": [
    {
     "ename": "TypeError",
     "evalue": "unhashable type: 'dict'",
     "output_type": "error",
     "traceback": [
      "\u001b[1;31m---------------------------------------------------------------------------\u001b[0m",
      "\u001b[1;31mTypeError\u001b[0m                                 Traceback (most recent call last)",
      "Input \u001b[1;32mIn [56]\u001b[0m, in \u001b[0;36m<cell line: 1>\u001b[1;34m()\u001b[0m\n\u001b[1;32m----> 1\u001b[0m {{\u001b[38;5;241m1\u001b[39m:\u001b[38;5;124m\"\u001b[39m\u001b[38;5;124mone\u001b[39m\u001b[38;5;124m\"\u001b[39m, \u001b[38;5;241m2\u001b[39m:\u001b[38;5;124m\"\u001b[39m\u001b[38;5;124mtwo\u001b[39m\u001b[38;5;124m\"\u001b[39m},\u001b[38;5;124m\"\u001b[39m\u001b[38;5;124mhello\u001b[39m\u001b[38;5;124m\"\u001b[39m,\u001b[38;5;241m1\u001b[39m,\u001b[38;5;241m2\u001b[39m}\n",
      "\u001b[1;31mTypeError\u001b[0m: unhashable type: 'dict'"
     ]
    }
   ],
   "source": [
    "{{1:\"one\", 2:\"two\"},\"hello\",1,2}   # set lerde eleman olarak dictionary bulunmaz bulunmaz"
   ]
  },
  {
   "cell_type": "code",
   "execution_count": 55,
   "id": "2c9a8ef6",
   "metadata": {},
   "outputs": [
    {
     "data": {
      "text/plain": [
       "{(1, 2, 3), 1, 2, 'hello'}"
      ]
     },
     "execution_count": 55,
     "metadata": {},
     "output_type": "execute_result"
    }
   ],
   "source": [
    "{(1,2,3),\"hello\",1,2}      # set lerde eleman olarak tuple olabilir"
   ]
  },
  {
   "cell_type": "code",
   "execution_count": null,
   "id": "dcb92ce3",
   "metadata": {},
   "outputs": [],
   "source": []
  },
  {
   "cell_type": "code",
   "execution_count": 57,
   "id": "b6364f4b",
   "metadata": {},
   "outputs": [],
   "source": [
    "boşset=set()"
   ]
  },
  {
   "cell_type": "code",
   "execution_count": 58,
   "id": "3d78e3e0",
   "metadata": {},
   "outputs": [
    {
     "data": {
      "text/plain": [
       "set()"
      ]
     },
     "execution_count": 58,
     "metadata": {},
     "output_type": "execute_result"
    }
   ],
   "source": [
    "boşset"
   ]
  },
  {
   "cell_type": "code",
   "execution_count": null,
   "id": "39e19e3c",
   "metadata": {},
   "outputs": [],
   "source": []
  },
  {
   "cell_type": "code",
   "execution_count": null,
   "id": "af5ebbf7",
   "metadata": {},
   "outputs": [],
   "source": [
    "# add()\n",
    "\n",
    "# sete yeni bir eleman eklemek için kullanılır, index değeri tutulmadığı için rastgele yerleştirir \n",
    "# set frozen hale getirildiyse bu işlem yapılmaz"
   ]
  },
  {
   "cell_type": "code",
   "execution_count": 3,
   "id": "6c6552fc",
   "metadata": {},
   "outputs": [],
   "source": [
    "thisset={'apple', 'banana', 'cherry'}"
   ]
  },
  {
   "cell_type": "code",
   "execution_count": 4,
   "id": "fdaaee3a",
   "metadata": {},
   "outputs": [],
   "source": [
    "thisset.add(\"orange\")"
   ]
  },
  {
   "cell_type": "code",
   "execution_count": 5,
   "id": "37b1549a",
   "metadata": {},
   "outputs": [
    {
     "data": {
      "text/plain": [
       "{'apple', 'banana', 'cherry', 'orange'}"
      ]
     },
     "execution_count": 5,
     "metadata": {},
     "output_type": "execute_result"
    }
   ],
   "source": [
    "thisset"
   ]
  },
  {
   "cell_type": "code",
   "execution_count": null,
   "id": "b22aef07",
   "metadata": {},
   "outputs": [],
   "source": []
  },
  {
   "cell_type": "code",
   "execution_count": null,
   "id": "50e8c93e",
   "metadata": {},
   "outputs": [],
   "source": [
    "# update()\n",
    "\n",
    "# bir setin elemanlarını diğer bir setin elemanları ile update eder, duplicate olursa birini yazar\n",
    "# index değeri olmadığı için belirli bir düzende birleştirme yapmaz"
   ]
  },
  {
   "cell_type": "code",
   "execution_count": 11,
   "id": "7ca0b252",
   "metadata": {},
   "outputs": [],
   "source": [
    "thisset={'apple', 'banana', 'cherry'}"
   ]
  },
  {
   "cell_type": "code",
   "execution_count": 12,
   "id": "e1372aca",
   "metadata": {},
   "outputs": [],
   "source": [
    "tropical={\"pineapple\", \"mango\", \"papaya\"}"
   ]
  },
  {
   "cell_type": "code",
   "execution_count": 13,
   "id": "f6b17e71",
   "metadata": {},
   "outputs": [],
   "source": [
    "thisset.update(tropical)"
   ]
  },
  {
   "cell_type": "code",
   "execution_count": 14,
   "id": "20995cc7",
   "metadata": {},
   "outputs": [
    {
     "data": {
      "text/plain": [
       "{'apple', 'banana', 'cherry', 'mango', 'papaya', 'pineapple'}"
      ]
     },
     "execution_count": 14,
     "metadata": {},
     "output_type": "execute_result"
    }
   ],
   "source": [
    "thisset"
   ]
  },
  {
   "cell_type": "code",
   "execution_count": null,
   "id": "2088d516",
   "metadata": {},
   "outputs": [],
   "source": []
  },
  {
   "cell_type": "code",
   "execution_count": 63,
   "id": "a2eb1aeb",
   "metadata": {},
   "outputs": [],
   "source": [
    "num1={1,2,3}\n",
    "num2={3,4,5}\n",
    "num3={5,6,7}\n",
    "num4={7,8,9}\n",
    "\n",
    "num1.update(num2,num3,num4)          # birden fazla set update yapılabilir"
   ]
  },
  {
   "cell_type": "code",
   "execution_count": 64,
   "id": "2df1cd7b",
   "metadata": {},
   "outputs": [
    {
     "data": {
      "text/plain": [
       "{1, 2, 3, 4, 5, 6, 7, 8, 9}"
      ]
     },
     "execution_count": 64,
     "metadata": {},
     "output_type": "execute_result"
    }
   ],
   "source": [
    "num1"
   ]
  },
  {
   "cell_type": "code",
   "execution_count": null,
   "id": "ebdab68e",
   "metadata": {},
   "outputs": [],
   "source": []
  },
  {
   "cell_type": "code",
   "execution_count": 65,
   "id": "5f5fd727",
   "metadata": {},
   "outputs": [],
   "source": [
    "thisset={'apple', 'banana', 'cherry'}\n",
    "sözlük= {1:\"one\", 2:\"two\"}\n",
    "\n",
    "thisset.update(sözlük)                # set e dictionary lerde update edilebilir. key değerleri alır"
   ]
  },
  {
   "cell_type": "code",
   "execution_count": 66,
   "id": "cad2874b",
   "metadata": {},
   "outputs": [
    {
     "data": {
      "text/plain": [
       "{1, 2, 'apple', 'banana', 'cherry'}"
      ]
     },
     "execution_count": 66,
     "metadata": {},
     "output_type": "execute_result"
    }
   ],
   "source": [
    "thisset"
   ]
  },
  {
   "cell_type": "code",
   "execution_count": null,
   "id": "91f8e802",
   "metadata": {},
   "outputs": [],
   "source": []
  },
  {
   "cell_type": "code",
   "execution_count": null,
   "id": "f69ce055",
   "metadata": {},
   "outputs": [],
   "source": [
    "# remove()  /    discard()   /   pop()\n",
    "\n",
    "# remove()    : setten eleman çıkarmak için kullanılır, cıkarılmak istenen eleman sette yoksa hata döndürür\n",
    "# discard()   : setten eleman çıkarmak için kullanılır, cıkarılmak istenen eleman sette yoksa hata döndürmez. aralarındaki fark bu\n",
    "\n",
    "# pop()       : setten rastgele eleman cıkarır ve onu döndürür. index değerleri olmadığı için bu şekilde oluyor"
   ]
  },
  {
   "cell_type": "code",
   "execution_count": 20,
   "id": "cc3c63b9",
   "metadata": {},
   "outputs": [],
   "source": [
    "thisset={'apple', 'banana', 'cherry'}"
   ]
  },
  {
   "cell_type": "code",
   "execution_count": 21,
   "id": "8e1ca4cb",
   "metadata": {},
   "outputs": [],
   "source": [
    "thisset.remove(\"banana\")"
   ]
  },
  {
   "cell_type": "code",
   "execution_count": 22,
   "id": "32f37bb0",
   "metadata": {},
   "outputs": [
    {
     "data": {
      "text/plain": [
       "{'apple', 'cherry'}"
      ]
     },
     "execution_count": 22,
     "metadata": {},
     "output_type": "execute_result"
    }
   ],
   "source": [
    "thisset"
   ]
  },
  {
   "cell_type": "code",
   "execution_count": 26,
   "id": "012d59aa",
   "metadata": {},
   "outputs": [
    {
     "ename": "KeyError",
     "evalue": "'mango'",
     "output_type": "error",
     "traceback": [
      "\u001b[1;31m---------------------------------------------------------------------------\u001b[0m",
      "\u001b[1;31mKeyError\u001b[0m                                  Traceback (most recent call last)",
      "Input \u001b[1;32mIn [26]\u001b[0m, in \u001b[0;36m<cell line: 1>\u001b[1;34m()\u001b[0m\n\u001b[1;32m----> 1\u001b[0m \u001b[43mthisset\u001b[49m\u001b[38;5;241;43m.\u001b[39;49m\u001b[43mremove\u001b[49m\u001b[43m(\u001b[49m\u001b[38;5;124;43m\"\u001b[39;49m\u001b[38;5;124;43mmango\u001b[39;49m\u001b[38;5;124;43m\"\u001b[39;49m\u001b[43m)\u001b[49m\n",
      "\u001b[1;31mKeyError\u001b[0m: 'mango'"
     ]
    }
   ],
   "source": [
    "thisset.remove(\"mango\")               # hata döndürür"
   ]
  },
  {
   "cell_type": "code",
   "execution_count": null,
   "id": "b65915cf",
   "metadata": {},
   "outputs": [],
   "source": []
  },
  {
   "cell_type": "code",
   "execution_count": 23,
   "id": "6295275a",
   "metadata": {},
   "outputs": [],
   "source": [
    "tropical={\"pineapple\", \"mango\", \"papaya\"}"
   ]
  },
  {
   "cell_type": "code",
   "execution_count": 24,
   "id": "c00878fc",
   "metadata": {},
   "outputs": [],
   "source": [
    "tropical.discard(\"apple\")             # hata döndürmez"
   ]
  },
  {
   "cell_type": "code",
   "execution_count": 25,
   "id": "7fd937e6",
   "metadata": {},
   "outputs": [
    {
     "data": {
      "text/plain": [
       "{'mango', 'papaya', 'pineapple'}"
      ]
     },
     "execution_count": 25,
     "metadata": {},
     "output_type": "execute_result"
    }
   ],
   "source": [
    "tropical"
   ]
  },
  {
   "cell_type": "code",
   "execution_count": 27,
   "id": "d106b83b",
   "metadata": {},
   "outputs": [],
   "source": [
    "tropical.discard(\"mango\")"
   ]
  },
  {
   "cell_type": "code",
   "execution_count": 28,
   "id": "f2ff5f6f",
   "metadata": {},
   "outputs": [
    {
     "data": {
      "text/plain": [
       "{'papaya', 'pineapple'}"
      ]
     },
     "execution_count": 28,
     "metadata": {},
     "output_type": "execute_result"
    }
   ],
   "source": [
    "tropical"
   ]
  },
  {
   "cell_type": "code",
   "execution_count": null,
   "id": "8fdbe3e8",
   "metadata": {},
   "outputs": [],
   "source": []
  },
  {
   "cell_type": "code",
   "execution_count": 29,
   "id": "4919c682",
   "metadata": {},
   "outputs": [],
   "source": [
    "newset={'apple', 'banana', 'cherry', \"pineapple\", \"mango\", \"papaya\"}"
   ]
  },
  {
   "cell_type": "code",
   "execution_count": 30,
   "id": "f20cfabc",
   "metadata": {},
   "outputs": [
    {
     "data": {
      "text/plain": [
       "'cherry'"
      ]
     },
     "execution_count": 30,
     "metadata": {},
     "output_type": "execute_result"
    }
   ],
   "source": [
    "newset.pop()"
   ]
  },
  {
   "cell_type": "code",
   "execution_count": 31,
   "id": "20d1021a",
   "metadata": {},
   "outputs": [
    {
     "data": {
      "text/plain": [
       "{'apple', 'banana', 'mango', 'papaya', 'pineapple'}"
      ]
     },
     "execution_count": 31,
     "metadata": {},
     "output_type": "execute_result"
    }
   ],
   "source": [
    "newset"
   ]
  },
  {
   "cell_type": "code",
   "execution_count": null,
   "id": "d089c72e",
   "metadata": {},
   "outputs": [],
   "source": []
  },
  {
   "cell_type": "code",
   "execution_count": null,
   "id": "df89c8f6",
   "metadata": {},
   "outputs": [],
   "source": [
    "# joining \n",
    "\n",
    "# union()                 : iki seti birleştirir. kümelerdeki birleşme, benzer elemanları bir kez yazar.\n",
    "# update()                : bir sete başka bir seti update eder yani birleştirme yapar\n",
    "# intersection_update()   : bir setin başka birsete olan kesişimini alarak update yapar\n",
    "# difference()            : bir setin diğer setten farkını update yapara\n",
    "# issuperset()            : bir setin başka bir setin üst kümesi olup olmadığını sorgular True/False doner\n",
    "# issubset()              : bir setin başka bir setin alt kümesi olup olmadığını sorgular True/False doner"
   ]
  },
  {
   "cell_type": "code",
   "execution_count": 35,
   "id": "54ceb2a6",
   "metadata": {},
   "outputs": [],
   "source": [
    "fruit1= {'apple', 'banana', 'cherry', \"mango\"}\n",
    "fruit2= {\"apple\", \"pineapple\", \"mango\", \"papaya\"}"
   ]
  },
  {
   "cell_type": "code",
   "execution_count": 36,
   "id": "cd5c41fb",
   "metadata": {},
   "outputs": [
    {
     "data": {
      "text/plain": [
       "{'apple', 'banana', 'cherry', 'mango', 'papaya', 'pineapple'}"
      ]
     },
     "execution_count": 36,
     "metadata": {},
     "output_type": "execute_result"
    }
   ],
   "source": [
    "fruit1.union(fruit2)"
   ]
  },
  {
   "cell_type": "code",
   "execution_count": 38,
   "id": "eae53e01",
   "metadata": {},
   "outputs": [
    {
     "data": {
      "text/plain": [
       "{'apple', 'banana', 'cherry', 'mango'}"
      ]
     },
     "execution_count": 38,
     "metadata": {},
     "output_type": "execute_result"
    }
   ],
   "source": [
    "fruit1               # sette değişiklik yapmaz. union ile birleşenleri baska bir değişkene atarsak kullanabiliriz"
   ]
  },
  {
   "cell_type": "code",
   "execution_count": 39,
   "id": "5356ea99",
   "metadata": {},
   "outputs": [],
   "source": [
    "fruitset=fruit1.union(fruit2)"
   ]
  },
  {
   "cell_type": "code",
   "execution_count": 40,
   "id": "561a17bb",
   "metadata": {},
   "outputs": [
    {
     "data": {
      "text/plain": [
       "{'apple', 'banana', 'cherry', 'mango', 'papaya', 'pineapple'}"
      ]
     },
     "execution_count": 40,
     "metadata": {},
     "output_type": "execute_result"
    }
   ],
   "source": [
    "fruitset"
   ]
  },
  {
   "cell_type": "code",
   "execution_count": null,
   "id": "37353fe2",
   "metadata": {},
   "outputs": [],
   "source": []
  },
  {
   "cell_type": "code",
   "execution_count": 45,
   "id": "99655e62",
   "metadata": {},
   "outputs": [],
   "source": [
    "fruit1= {'apple', 'banana', 'cherry', \"mango\"}\n",
    "fruit2= {\"apple\", \"pineapple\", \"mango\", \"papaya\"}"
   ]
  },
  {
   "cell_type": "code",
   "execution_count": 46,
   "id": "63d7e36f",
   "metadata": {},
   "outputs": [],
   "source": [
    "fruit1.update(fruit2)         # fruit1 ile fruit2 birlişimi fruit1 e update edilir"
   ]
  },
  {
   "cell_type": "code",
   "execution_count": 47,
   "id": "14893c5f",
   "metadata": {},
   "outputs": [
    {
     "data": {
      "text/plain": [
       "{'apple', 'banana', 'cherry', 'mango', 'papaya', 'pineapple'}"
      ]
     },
     "execution_count": 47,
     "metadata": {},
     "output_type": "execute_result"
    }
   ],
   "source": [
    "fruit1"
   ]
  },
  {
   "cell_type": "code",
   "execution_count": null,
   "id": "4adc2c6a",
   "metadata": {},
   "outputs": [],
   "source": []
  },
  {
   "cell_type": "code",
   "execution_count": 43,
   "id": "d7fc2968",
   "metadata": {},
   "outputs": [],
   "source": [
    "fruit1.intersection_update(fruit2)"
   ]
  },
  {
   "cell_type": "code",
   "execution_count": 44,
   "id": "4a6a10e1",
   "metadata": {},
   "outputs": [
    {
     "data": {
      "text/plain": [
       "{'apple', 'mango'}"
      ]
     },
     "execution_count": 44,
     "metadata": {},
     "output_type": "execute_result"
    }
   ],
   "source": [
    "fruit1                # iki setin kesişimi fruit1 e update edildi"
   ]
  },
  {
   "cell_type": "code",
   "execution_count": null,
   "id": "cd8b683b",
   "metadata": {},
   "outputs": [],
   "source": []
  },
  {
   "cell_type": "code",
   "execution_count": null,
   "id": "d02b4f83",
   "metadata": {},
   "outputs": [],
   "source": [
    "fruit1= {'apple', 'banana', 'cherry', \"mango\"}\n",
    "fruit2= {\"apple\", \"pineapple\", \"mango\", \"papaya\"}"
   ]
  },
  {
   "cell_type": "code",
   "execution_count": 49,
   "id": "4514e0ea",
   "metadata": {},
   "outputs": [
    {
     "data": {
      "text/plain": [
       "{'banana', 'cherry'}"
      ]
     },
     "execution_count": 49,
     "metadata": {},
     "output_type": "execute_result"
    }
   ],
   "source": [
    "fruit1.difference(fruit2)    # fruit1 in fruit2 den farkını fruit1 e update eder"
   ]
  },
  {
   "cell_type": "code",
   "execution_count": null,
   "id": "2884cbba",
   "metadata": {},
   "outputs": [],
   "source": []
  },
  {
   "cell_type": "code",
   "execution_count": 51,
   "id": "ddfedfdb",
   "metadata": {},
   "outputs": [],
   "source": [
    "bigset = {'apple', 'banana', 'cherry', \"pineapple\", \"mango\", \"papaya\"}\n",
    "smallset = {'apple', 'banana', 'cherry', \"mango\"}"
   ]
  },
  {
   "cell_type": "code",
   "execution_count": 52,
   "id": "79f3af02",
   "metadata": {},
   "outputs": [
    {
     "data": {
      "text/plain": [
       "True"
      ]
     },
     "execution_count": 52,
     "metadata": {},
     "output_type": "execute_result"
    }
   ],
   "source": [
    "bigset.issuperset(smallset)     # bigset smallset in üst kümesi mi"
   ]
  },
  {
   "cell_type": "code",
   "execution_count": 53,
   "id": "c1e6d1f0",
   "metadata": {},
   "outputs": [
    {
     "data": {
      "text/plain": [
       "True"
      ]
     },
     "execution_count": 53,
     "metadata": {},
     "output_type": "execute_result"
    }
   ],
   "source": [
    "smallset.issubset(bigset)       # smallset bigset in alt kümesimi"
   ]
  },
  {
   "cell_type": "code",
   "execution_count": null,
   "id": "096258f3",
   "metadata": {},
   "outputs": [],
   "source": []
  },
  {
   "cell_type": "code",
   "execution_count": 1,
   "id": "a1797605",
   "metadata": {},
   "outputs": [],
   "source": [
    "s1={1,3,5,7,9}\n",
    "s2={3,5,11,13,15}"
   ]
  },
  {
   "cell_type": "code",
   "execution_count": 2,
   "id": "7673c77a",
   "metadata": {},
   "outputs": [
    {
     "data": {
      "text/plain": [
       "{1, 3, 5, 7, 9, 11, 13, 15}"
      ]
     },
     "execution_count": 2,
     "metadata": {},
     "output_type": "execute_result"
    }
   ],
   "source": [
    "s1.union(s2)"
   ]
  },
  {
   "cell_type": "code",
   "execution_count": 3,
   "id": "8d2a3a13",
   "metadata": {},
   "outputs": [
    {
     "data": {
      "text/plain": [
       "{1, 3, 5, 7, 9, 11, 13, 15}"
      ]
     },
     "execution_count": 3,
     "metadata": {},
     "output_type": "execute_result"
    }
   ],
   "source": [
    "s1|s2     #s1.union(s2) aynı işlevi görür"
   ]
  },
  {
   "cell_type": "code",
   "execution_count": 4,
   "id": "04178d55",
   "metadata": {},
   "outputs": [
    {
     "data": {
      "text/plain": [
       "{3, 5}"
      ]
     },
     "execution_count": 4,
     "metadata": {},
     "output_type": "execute_result"
    }
   ],
   "source": [
    "s1.intersection(s2)"
   ]
  },
  {
   "cell_type": "code",
   "execution_count": 5,
   "id": "1a808584",
   "metadata": {},
   "outputs": [],
   "source": [
    "s1.intersection_update(s2)"
   ]
  },
  {
   "cell_type": "code",
   "execution_count": 6,
   "id": "bc607c31",
   "metadata": {},
   "outputs": [
    {
     "data": {
      "text/plain": [
       "{3, 5}"
      ]
     },
     "execution_count": 6,
     "metadata": {},
     "output_type": "execute_result"
    }
   ],
   "source": [
    "s1"
   ]
  },
  {
   "cell_type": "code",
   "execution_count": 8,
   "id": "ab0775e2",
   "metadata": {},
   "outputs": [
    {
     "data": {
      "text/plain": [
       "{11, 13, 15}"
      ]
     },
     "execution_count": 8,
     "metadata": {},
     "output_type": "execute_result"
    }
   ],
   "source": [
    "s2.difference(s1)"
   ]
  },
  {
   "cell_type": "code",
   "execution_count": 9,
   "id": "3c18359d",
   "metadata": {},
   "outputs": [
    {
     "data": {
      "text/plain": [
       "{11, 13, 15}"
      ]
     },
     "execution_count": 9,
     "metadata": {},
     "output_type": "execute_result"
    }
   ],
   "source": [
    "s2-s1     # s2.difference(s1) aynı işlev"
   ]
  },
  {
   "cell_type": "code",
   "execution_count": null,
   "id": "a3b43d6b",
   "metadata": {},
   "outputs": [],
   "source": []
  },
  {
   "cell_type": "code",
   "execution_count": null,
   "id": "9f391b05",
   "metadata": {},
   "outputs": [],
   "source": []
  },
  {
   "cell_type": "code",
   "execution_count": null,
   "id": "96347ed5",
   "metadata": {},
   "outputs": [],
   "source": [
    "# frozenset"
   ]
  },
  {
   "cell_type": "code",
   "execution_count": 10,
   "id": "21001c24",
   "metadata": {},
   "outputs": [],
   "source": [
    "s1 = {1,3,5,7,9}"
   ]
  },
  {
   "cell_type": "code",
   "execution_count": 11,
   "id": "aab94057",
   "metadata": {},
   "outputs": [],
   "source": [
    "s = frozenset(s1)"
   ]
  },
  {
   "cell_type": "code",
   "execution_count": 12,
   "id": "98e509ea",
   "metadata": {},
   "outputs": [
    {
     "data": {
      "text/plain": [
       "frozenset({1, 3, 5, 7, 9})"
      ]
     },
     "execution_count": 12,
     "metadata": {},
     "output_type": "execute_result"
    }
   ],
   "source": [
    "s"
   ]
  },
  {
   "cell_type": "code",
   "execution_count": 13,
   "id": "b2172608",
   "metadata": {},
   "outputs": [
    {
     "ename": "AttributeError",
     "evalue": "'frozenset' object has no attribute 'update'",
     "output_type": "error",
     "traceback": [
      "\u001b[1;31m---------------------------------------------------------------------------\u001b[0m",
      "\u001b[1;31mAttributeError\u001b[0m                            Traceback (most recent call last)",
      "Input \u001b[1;32mIn [13]\u001b[0m, in \u001b[0;36m<cell line: 1>\u001b[1;34m()\u001b[0m\n\u001b[1;32m----> 1\u001b[0m \u001b[43ms\u001b[49m\u001b[38;5;241;43m.\u001b[39;49m\u001b[43mupdate\u001b[49m({\u001b[38;5;241m2\u001b[39m,\u001b[38;5;241m3\u001b[39m})\n",
      "\u001b[1;31mAttributeError\u001b[0m: 'frozenset' object has no attribute 'update'"
     ]
    }
   ],
   "source": [
    "s.update({2,3})             # frozensetlerde update olmaz. "
   ]
  },
  {
   "cell_type": "code",
   "execution_count": null,
   "id": "1061064c",
   "metadata": {},
   "outputs": [],
   "source": []
  },
  {
   "cell_type": "code",
   "execution_count": null,
   "id": "abcbcf1c",
   "metadata": {},
   "outputs": [],
   "source": [
    "# kullanıcıdan alınan bir kelimenin içinde tekrar eden elemanları teke düşürerek bir liste halinde döndüren programı yazın"
   ]
  },
  {
   "cell_type": "code",
   "execution_count": 61,
   "id": "f3487b33",
   "metadata": {},
   "outputs": [
    {
     "name": "stdout",
     "output_type": "stream",
     "text": [
      "kelime giriniz: alaattin\n",
      "['n', 'i', 'a', 't', 'l']\n"
     ]
    }
   ],
   "source": [
    "kelime=input(\"kelime giriniz: \")\n",
    "kelime=list(set(kelime))           # kelime değişkeni önce sete dönüştürülerek duplicate ler yok edildi. sonrada listeye dönüştü\n",
    "\n",
    "print(kelime)"
   ]
  },
  {
   "cell_type": "code",
   "execution_count": null,
   "id": "883bda61",
   "metadata": {},
   "outputs": [],
   "source": []
  },
  {
   "cell_type": "code",
   "execution_count": 62,
   "id": "7d8e454f",
   "metadata": {},
   "outputs": [
    {
     "data": {
      "text/plain": [
       "{1, 2}"
      ]
     },
     "execution_count": 62,
     "metadata": {},
     "output_type": "execute_result"
    }
   ],
   "source": [
    "sözlük = {1:\"one\", 2:\"two\"}        # dictionary ler set e dönüşünce key değerleri alınır\n",
    "set(sözlük)"
   ]
  },
  {
   "cell_type": "code",
   "execution_count": null,
   "id": "f31dc9fd",
   "metadata": {},
   "outputs": [],
   "source": []
  },
  {
   "cell_type": "markdown",
   "id": "0e87163b",
   "metadata": {},
   "source": [
    "dictionaries"
   ]
  },
  {
   "cell_type": "code",
   "execution_count": null,
   "id": "77c6bb77",
   "metadata": {},
   "outputs": [],
   "source": [
    "# unordered            : belirli bir index değeri ile tutulmazlar. key ve value değerleri ile tutulur\n",
    "# changeable           : elemanları üzerinde değişiklik yapılabilir\n",
    "# dose not allow duplicates\n",
    "\n",
    "# {} içerisinde yazılırlar. key ve value değerleri olur. her ne kadar index değerleri olmasada key değerleri üzerinden \n",
    "# istenilen elemana ulaşıp değişiklik yapılabilir \n",
    "\n",
    "# key değeri string, int, float, tuple olabilir fakat liste olamaz"
   ]
  },
  {
   "cell_type": "code",
   "execution_count": 14,
   "id": "e2f47f48",
   "metadata": {},
   "outputs": [],
   "source": [
    "myDict = {\"one\":1, \"two\":2, \"three\":3, \"four\":4, \"five\":5}"
   ]
  },
  {
   "cell_type": "code",
   "execution_count": 51,
   "id": "d6641571",
   "metadata": {},
   "outputs": [
    {
     "data": {
      "text/plain": [
       "{}"
      ]
     },
     "execution_count": 51,
     "metadata": {},
     "output_type": "execute_result"
    }
   ],
   "source": [
    "{}               # boş sözlük "
   ]
  },
  {
   "cell_type": "code",
   "execution_count": null,
   "id": "a358b397",
   "metadata": {},
   "outputs": [],
   "source": []
  },
  {
   "cell_type": "code",
   "execution_count": 52,
   "id": "9428e669",
   "metadata": {},
   "outputs": [],
   "source": [
    "myDict = {\"one\":1, 2:\"two\", (1,5,7):[11,12,13], 4.4:\"merhaba\", \"hello\":5.5}     \n",
    "\n",
    "# sırasıyla key değeri str value değeri int, key değeri int value değeri str, key değeri tuple value değeri liste, key değeri \n",
    "# float value değeri str, key değeri str value değeri float"
   ]
  },
  {
   "cell_type": "code",
   "execution_count": 54,
   "id": "6e8cb047",
   "metadata": {},
   "outputs": [
    {
     "ename": "TypeError",
     "evalue": "unhashable type: 'list'",
     "output_type": "error",
     "traceback": [
      "\u001b[1;31m---------------------------------------------------------------------------\u001b[0m",
      "\u001b[1;31mTypeError\u001b[0m                                 Traceback (most recent call last)",
      "Input \u001b[1;32mIn [54]\u001b[0m, in \u001b[0;36m<cell line: 1>\u001b[1;34m()\u001b[0m\n\u001b[1;32m----> 1\u001b[0m myDict1\u001b[38;5;241m=\u001b[39m{[\u001b[38;5;241m1\u001b[39m,\u001b[38;5;241m2\u001b[39m,\u001b[38;5;241m3\u001b[39m]:\u001b[38;5;124m\"\u001b[39m\u001b[38;5;124mmerhaba\u001b[39m\u001b[38;5;124m\"\u001b[39m, {\u001b[38;5;124m\"\u001b[39m\u001b[38;5;124mone\u001b[39m\u001b[38;5;124m\"\u001b[39m:\u001b[38;5;241m1\u001b[39m}:\u001b[38;5;124m\"\u001b[39m\u001b[38;5;124mhello\u001b[39m\u001b[38;5;124m\"\u001b[39m}\n",
      "\u001b[1;31mTypeError\u001b[0m: unhashable type: 'list'"
     ]
    }
   ],
   "source": [
    "myDict1={[1,2,3]:\"merhaba\", {\"one\":1}:\"hello\"}   \n",
    "\n",
    "# key değeri sözlük ve liste yapısında olamaz. key değeri değiştirilebilir yapıda olmaz"
   ]
  },
  {
   "cell_type": "code",
   "execution_count": null,
   "id": "7edcbd3f",
   "metadata": {},
   "outputs": [],
   "source": []
  },
  {
   "cell_type": "code",
   "execution_count": null,
   "id": "1ab57b1f",
   "metadata": {},
   "outputs": [],
   "source": [
    "# sözlük içerisine eleman ekleme"
   ]
  },
  {
   "cell_type": "code",
   "execution_count": 67,
   "id": "41a6c9dc",
   "metadata": {},
   "outputs": [],
   "source": [
    "myDict = {\"one\":1, \"two\":2, \"three\":3, \"four\":4, \"five\":5}"
   ]
  },
  {
   "cell_type": "code",
   "execution_count": 68,
   "id": "5880db17",
   "metadata": {},
   "outputs": [],
   "source": [
    "myDict[\"six\"]=6                # bir sözlük içerisine yeni eleman ekleme"
   ]
  },
  {
   "cell_type": "code",
   "execution_count": null,
   "id": "ac749d08",
   "metadata": {},
   "outputs": [],
   "source": []
  },
  {
   "cell_type": "code",
   "execution_count": 73,
   "id": "6f7313fe",
   "metadata": {},
   "outputs": [],
   "source": [
    "myDict1={\"one\":[1,2,3,4], \"two\":{11,12,13,14}}     # value değerleri liste yada set ise liste ve sete ait yöntemlerle value lara\n",
    "                                                   # eleman eklenebilir"
   ]
  },
  {
   "cell_type": "code",
   "execution_count": 74,
   "id": "b1afde60",
   "metadata": {},
   "outputs": [
    {
     "data": {
      "text/plain": [
       "[1, 2, 3, 4]"
      ]
     },
     "execution_count": 74,
     "metadata": {},
     "output_type": "execute_result"
    }
   ],
   "source": [
    "myDict1[\"one\"]"
   ]
  },
  {
   "cell_type": "code",
   "execution_count": 76,
   "id": "584cc4c3",
   "metadata": {},
   "outputs": [],
   "source": [
    "myDict1[\"one\"].append(99)"
   ]
  },
  {
   "cell_type": "code",
   "execution_count": 77,
   "id": "d5b88d00",
   "metadata": {},
   "outputs": [
    {
     "data": {
      "text/plain": [
       "{'one': [1, 2, 3, 4, 99], 'two': {11, 12, 13, 14}}"
      ]
     },
     "execution_count": 77,
     "metadata": {},
     "output_type": "execute_result"
    }
   ],
   "source": [
    "myDict1"
   ]
  },
  {
   "cell_type": "code",
   "execution_count": 78,
   "id": "b43222ee",
   "metadata": {},
   "outputs": [
    {
     "data": {
      "text/plain": [
       "{11, 12, 13, 14}"
      ]
     },
     "execution_count": 78,
     "metadata": {},
     "output_type": "execute_result"
    }
   ],
   "source": [
    "myDict1[\"two\"]"
   ]
  },
  {
   "cell_type": "code",
   "execution_count": 79,
   "id": "0ed83596",
   "metadata": {},
   "outputs": [],
   "source": [
    "myDict1[\"two\"].add(100)"
   ]
  },
  {
   "cell_type": "code",
   "execution_count": 80,
   "id": "b43637f1",
   "metadata": {},
   "outputs": [
    {
     "data": {
      "text/plain": [
       "{'one': [1, 2, 3, 4, 99], 'two': {11, 12, 13, 14, 100}}"
      ]
     },
     "execution_count": 80,
     "metadata": {},
     "output_type": "execute_result"
    }
   ],
   "source": [
    "myDict1"
   ]
  },
  {
   "cell_type": "code",
   "execution_count": null,
   "id": "ac582678",
   "metadata": {},
   "outputs": [],
   "source": []
  },
  {
   "cell_type": "code",
   "execution_count": null,
   "id": "7e7d4039",
   "metadata": {},
   "outputs": [],
   "source": []
  },
  {
   "cell_type": "code",
   "execution_count": 82,
   "id": "e358a031",
   "metadata": {},
   "outputs": [],
   "source": [
    "myDict={'one': 1, 'two': 2, 'three': 3, 'four': 4, 'five': 5, 'six': 6}"
   ]
  },
  {
   "cell_type": "code",
   "execution_count": 70,
   "id": "9973f222",
   "metadata": {},
   "outputs": [
    {
     "data": {
      "text/plain": [
       "True"
      ]
     },
     "execution_count": 70,
     "metadata": {},
     "output_type": "execute_result"
    }
   ],
   "source": [
    "\"five\" in myDict         # key değerlerinde varmı yok mu onu sorgular"
   ]
  },
  {
   "cell_type": "code",
   "execution_count": 71,
   "id": "9c719f61",
   "metadata": {},
   "outputs": [
    {
     "data": {
      "text/plain": [
       "False"
      ]
     },
     "execution_count": 71,
     "metadata": {},
     "output_type": "execute_result"
    }
   ],
   "source": [
    "3 in myDict"
   ]
  },
  {
   "cell_type": "code",
   "execution_count": null,
   "id": "8ccb5f5b",
   "metadata": {},
   "outputs": [],
   "source": []
  },
  {
   "cell_type": "code",
   "execution_count": null,
   "id": "72f79914",
   "metadata": {},
   "outputs": [],
   "source": [
    "# Accessing items\n",
    "\n",
    "# access\n",
    "# accessing by get()   : get() function ile access yapılabilir\n",
    "# keys()               : sözlükteki key değerlerini liste döndürür\n",
    "# values()             : sözlükteki value değerleri liste döndürür\n",
    "# items()              : sözlükteki key ve value değerlerini ikili tuple olarak liste olarak döndürür"
   ]
  },
  {
   "cell_type": "code",
   "execution_count": 65,
   "id": "fee871ce",
   "metadata": {},
   "outputs": [],
   "source": [
    "myDict = {\"one\":1, \"two\":2, \"three\":3, \"four\":4, \"five\":5}"
   ]
  },
  {
   "cell_type": "code",
   "execution_count": 15,
   "id": "f80ee439",
   "metadata": {},
   "outputs": [
    {
     "data": {
      "text/plain": [
       "3"
      ]
     },
     "execution_count": 15,
     "metadata": {},
     "output_type": "execute_result"
    }
   ],
   "source": [
    "myDict[\"three\"]         # [] içeriisne key değeri yazılarak normal access işlemi yapılabilir. \n",
    "                        # index olmadığı için key değeri üzerinden yapılır bu işlem"
   ]
  },
  {
   "cell_type": "code",
   "execution_count": 16,
   "id": "d1fd471b",
   "metadata": {},
   "outputs": [
    {
     "data": {
      "text/plain": [
       "1"
      ]
     },
     "execution_count": 16,
     "metadata": {},
     "output_type": "execute_result"
    }
   ],
   "source": [
    "myDict[\"one\"] "
   ]
  },
  {
   "cell_type": "code",
   "execution_count": null,
   "id": "26bbcea2",
   "metadata": {},
   "outputs": [],
   "source": []
  },
  {
   "cell_type": "code",
   "execution_count": 17,
   "id": "aebaa154",
   "metadata": {},
   "outputs": [
    {
     "data": {
      "text/plain": [
       "4"
      ]
     },
     "execution_count": 17,
     "metadata": {},
     "output_type": "execute_result"
    }
   ],
   "source": [
    "myDict.get(\"four\")"
   ]
  },
  {
   "cell_type": "code",
   "execution_count": 18,
   "id": "9f8bc41f",
   "metadata": {},
   "outputs": [
    {
     "data": {
      "text/plain": [
       "2"
      ]
     },
     "execution_count": 18,
     "metadata": {},
     "output_type": "execute_result"
    }
   ],
   "source": [
    "myDict.get(\"two\")"
   ]
  },
  {
   "cell_type": "code",
   "execution_count": 66,
   "id": "164a3bab",
   "metadata": {},
   "outputs": [
    {
     "data": {
      "text/plain": [
       "'malesef yok'"
      ]
     },
     "execution_count": 66,
     "metadata": {},
     "output_type": "execute_result"
    }
   ],
   "source": [
    "myDict.get(\"ten\", \"malesef yok\")   # aranan key olan \"ten\" yoksa girilen ikinci parametre döner "
   ]
  },
  {
   "cell_type": "code",
   "execution_count": null,
   "id": "ddc47c7f",
   "metadata": {},
   "outputs": [],
   "source": []
  },
  {
   "cell_type": "code",
   "execution_count": 19,
   "id": "76ebd2ec",
   "metadata": {},
   "outputs": [
    {
     "data": {
      "text/plain": [
       "dict_keys(['one', 'two', 'three', 'four', 'five'])"
      ]
     },
     "execution_count": 19,
     "metadata": {},
     "output_type": "execute_result"
    }
   ],
   "source": [
    "myDict.keys()"
   ]
  },
  {
   "cell_type": "code",
   "execution_count": 23,
   "id": "dd7f410e",
   "metadata": {},
   "outputs": [
    {
     "data": {
      "text/plain": [
       "dict_values([1, 2, 3, 4, 5])"
      ]
     },
     "execution_count": 23,
     "metadata": {},
     "output_type": "execute_result"
    }
   ],
   "source": [
    "myDict.values()"
   ]
  },
  {
   "cell_type": "code",
   "execution_count": 24,
   "id": "acc61943",
   "metadata": {},
   "outputs": [
    {
     "data": {
      "text/plain": [
       "dict_items([('one', 1), ('two', 2), ('three', 3), ('four', 4), ('five', 5)])"
      ]
     },
     "execution_count": 24,
     "metadata": {},
     "output_type": "execute_result"
    }
   ],
   "source": [
    "myDict.items()"
   ]
  },
  {
   "cell_type": "code",
   "execution_count": null,
   "id": "29a162f8",
   "metadata": {},
   "outputs": [],
   "source": []
  },
  {
   "cell_type": "code",
   "execution_count": null,
   "id": "921d5810",
   "metadata": {},
   "outputs": [],
   "source": [
    "# change items\n",
    "\n",
    "# update()            : istenilen key değerinin karşılığı olan value değerini update eder. key ve yeni value {} içinde yazılır\n",
    "# [] içinde access işlemi ile de update yapılabilir"
   ]
  },
  {
   "cell_type": "code",
   "execution_count": 25,
   "id": "16b98cbd",
   "metadata": {},
   "outputs": [],
   "source": [
    "myDict = {\"one\":1, \"two\":2, \"three\":3, \"four\":4, \"five\":5}"
   ]
  },
  {
   "cell_type": "code",
   "execution_count": 32,
   "id": "3cccca3e",
   "metadata": {},
   "outputs": [],
   "source": [
    "myDict.update({\"three\" : \"uc\",\"five\" : \"bes\"})"
   ]
  },
  {
   "cell_type": "code",
   "execution_count": 33,
   "id": "b69194af",
   "metadata": {},
   "outputs": [
    {
     "data": {
      "text/plain": [
       "{'one': 1, 'two': 2, 'three': 'uc', 'four': 4, 'five': 'bes'}"
      ]
     },
     "execution_count": 33,
     "metadata": {},
     "output_type": "execute_result"
    }
   ],
   "source": [
    "myDict"
   ]
  },
  {
   "cell_type": "code",
   "execution_count": 35,
   "id": "2b0920ba",
   "metadata": {},
   "outputs": [],
   "source": [
    "myDict[\"three\"]=3"
   ]
  },
  {
   "cell_type": "code",
   "execution_count": 36,
   "id": "0394d2e3",
   "metadata": {},
   "outputs": [
    {
     "data": {
      "text/plain": [
       "{'one': 1, 'two': 2, 'three': 3, 'four': 4, 'five': 'bes'}"
      ]
     },
     "execution_count": 36,
     "metadata": {},
     "output_type": "execute_result"
    }
   ],
   "source": [
    "myDict"
   ]
  },
  {
   "cell_type": "code",
   "execution_count": null,
   "id": "ca4588c8",
   "metadata": {},
   "outputs": [],
   "source": []
  },
  {
   "cell_type": "code",
   "execution_count": null,
   "id": "8dc12cea",
   "metadata": {},
   "outputs": [],
   "source": [
    "# removing items\n",
    "\n",
    "# pop()     : içine yazılan key ve karşılığı olan value sözlükten cıkarır ve döndürür\n",
    "# clear()   : sözlüğün içini temizler boşaltır. boş sözlük kalır\n",
    "# del       : sözlüğün tamamını komple siler ve yok eder. key değeri yazılırsa karşılığı value ile birlikte sadece onları siler"
   ]
  },
  {
   "cell_type": "code",
   "execution_count": 37,
   "id": "2a9b628b",
   "metadata": {},
   "outputs": [
    {
     "data": {
      "text/plain": [
       "{'one': 1, 'two': 2, 'three': 3, 'four': 4, 'five': 'bes'}"
      ]
     },
     "execution_count": 37,
     "metadata": {},
     "output_type": "execute_result"
    }
   ],
   "source": [
    "myDict"
   ]
  },
  {
   "cell_type": "code",
   "execution_count": 38,
   "id": "28a7d0cb",
   "metadata": {},
   "outputs": [
    {
     "data": {
      "text/plain": [
       "'bes'"
      ]
     },
     "execution_count": 38,
     "metadata": {},
     "output_type": "execute_result"
    }
   ],
   "source": [
    "myDict.pop(\"five\")"
   ]
  },
  {
   "cell_type": "code",
   "execution_count": 39,
   "id": "f5f9eb90",
   "metadata": {},
   "outputs": [
    {
     "data": {
      "text/plain": [
       "{'one': 1, 'two': 2, 'three': 3, 'four': 4}"
      ]
     },
     "execution_count": 39,
     "metadata": {},
     "output_type": "execute_result"
    }
   ],
   "source": [
    "myDict"
   ]
  },
  {
   "cell_type": "code",
   "execution_count": null,
   "id": "caa99881",
   "metadata": {},
   "outputs": [],
   "source": []
  },
  {
   "cell_type": "code",
   "execution_count": 40,
   "id": "8e8e4255",
   "metadata": {},
   "outputs": [],
   "source": [
    "myDict.clear()"
   ]
  },
  {
   "cell_type": "code",
   "execution_count": 41,
   "id": "3bcd757f",
   "metadata": {},
   "outputs": [
    {
     "data": {
      "text/plain": [
       "{}"
      ]
     },
     "execution_count": 41,
     "metadata": {},
     "output_type": "execute_result"
    }
   ],
   "source": [
    "myDict"
   ]
  },
  {
   "cell_type": "code",
   "execution_count": null,
   "id": "9c0fb16e",
   "metadata": {},
   "outputs": [],
   "source": []
  },
  {
   "cell_type": "code",
   "execution_count": 42,
   "id": "5bfedc65",
   "metadata": {},
   "outputs": [],
   "source": [
    "myDict = {\"one\":1, \"two\":2, \"three\":3, \"four\":4, \"five\":5}"
   ]
  },
  {
   "cell_type": "code",
   "execution_count": 43,
   "id": "b998b88f",
   "metadata": {},
   "outputs": [],
   "source": [
    "del myDict[\"one\"]"
   ]
  },
  {
   "cell_type": "code",
   "execution_count": 44,
   "id": "d6c1c9bb",
   "metadata": {},
   "outputs": [
    {
     "data": {
      "text/plain": [
       "{'two': 2, 'three': 3, 'four': 4, 'five': 5}"
      ]
     },
     "execution_count": 44,
     "metadata": {},
     "output_type": "execute_result"
    }
   ],
   "source": [
    "myDict"
   ]
  },
  {
   "cell_type": "code",
   "execution_count": 45,
   "id": "224aa726",
   "metadata": {},
   "outputs": [],
   "source": [
    "del myDict"
   ]
  },
  {
   "cell_type": "code",
   "execution_count": 46,
   "id": "82b7951a",
   "metadata": {},
   "outputs": [
    {
     "ename": "NameError",
     "evalue": "name 'myDict' is not defined",
     "output_type": "error",
     "traceback": [
      "\u001b[1;31m---------------------------------------------------------------------------\u001b[0m",
      "\u001b[1;31mNameError\u001b[0m                                 Traceback (most recent call last)",
      "Input \u001b[1;32mIn [46]\u001b[0m, in \u001b[0;36m<cell line: 1>\u001b[1;34m()\u001b[0m\n\u001b[1;32m----> 1\u001b[0m \u001b[43mmyDict\u001b[49m\n",
      "\u001b[1;31mNameError\u001b[0m: name 'myDict' is not defined"
     ]
    }
   ],
   "source": [
    "myDict"
   ]
  },
  {
   "cell_type": "code",
   "execution_count": null,
   "id": "36e33674",
   "metadata": {},
   "outputs": [],
   "source": []
  },
  {
   "cell_type": "code",
   "execution_count": null,
   "id": "5626084d",
   "metadata": {},
   "outputs": [],
   "source": [
    "# nested dictionaries\n",
    "\n",
    "# bir sözlükteki key değerlerinin karşılığı olan valueler de sözlük olabilir"
   ]
  },
  {
   "cell_type": "code",
   "execution_count": 49,
   "id": "d5b6cf5b",
   "metadata": {},
   "outputs": [],
   "source": [
    "myFamily={\n",
    "    \n",
    "    \"dad\":{\n",
    "        \"name\":\"mustafa\",\n",
    "        \"age\":35\n",
    "    },\n",
    "    \"mother\":{\n",
    "        \"name\":\"ayse\",\n",
    "        \"age\":30\n",
    "    },\n",
    "    \"child1\":{\n",
    "        \"name\":\"mahir\",\n",
    "        \"age\":3\n",
    "    },\n",
    "    \"child2\":{\n",
    "        \"name\":\"fatma nilda\",\n",
    "        \"age\":0\n",
    "    }\n",
    "}"
   ]
  },
  {
   "cell_type": "code",
   "execution_count": 50,
   "id": "063cd4a3",
   "metadata": {},
   "outputs": [
    {
     "data": {
      "text/plain": [
       "30"
      ]
     },
     "execution_count": 50,
     "metadata": {},
     "output_type": "execute_result"
    }
   ],
   "source": [
    "myFamily[\"mother\"][\"age\"]"
   ]
  },
  {
   "cell_type": "code",
   "execution_count": null,
   "id": "263c6a83",
   "metadata": {},
   "outputs": [],
   "source": []
  },
  {
   "cell_type": "code",
   "execution_count": null,
   "id": "0c016272",
   "metadata": {},
   "outputs": [],
   "source": [
    "# fromkeys"
   ]
  },
  {
   "cell_type": "code",
   "execution_count": 84,
   "id": "ed8a0cb2",
   "metadata": {},
   "outputs": [],
   "source": [
    "isimler=[\"ahmet\", \"mehmet\", \"hakan\"]"
   ]
  },
  {
   "cell_type": "code",
   "execution_count": 88,
   "id": "13944b97",
   "metadata": {},
   "outputs": [],
   "source": [
    "adresler= dict.fromkeys(isimler, \"istanbul\")        # key değerleri tanımlanmış bir listeden alındı. value \"istanbul\" oldu.\n",
    "                                                    # her key değeri için bir value yazarakta yapabiliriz"
   ]
  },
  {
   "cell_type": "code",
   "execution_count": 86,
   "id": "4e44314d",
   "metadata": {},
   "outputs": [
    {
     "data": {
      "text/plain": [
       "{'ahmet': 'istanbul', 'mehmet': 'istanbul', 'hakan': 'istanbul'}"
      ]
     },
     "execution_count": 86,
     "metadata": {},
     "output_type": "execute_result"
    }
   ],
   "source": [
    "adresler"
   ]
  },
  {
   "cell_type": "code",
   "execution_count": null,
   "id": "8b71c7c1",
   "metadata": {},
   "outputs": [],
   "source": []
  },
  {
   "cell_type": "code",
   "execution_count": null,
   "id": "9b6a3e1b",
   "metadata": {},
   "outputs": [],
   "source": []
  },
  {
   "cell_type": "code",
   "execution_count": 89,
   "id": "d82d2186",
   "metadata": {},
   "outputs": [
    {
     "name": "stdout",
     "output_type": "stream",
     "text": [
      "bir sayı girin54\n",
      "bir sayı girin698\n"
     ]
    },
    {
     "data": {
      "text/plain": [
       "['5', '4', '6', '9', '8']"
      ]
     },
     "execution_count": 89,
     "metadata": {},
     "output_type": "execute_result"
    }
   ],
   "source": [
    "# kullanıcıdan iki ayrı sayı alınız ve her iki sayının rakamlarından birer liste oluştuurp \n",
    "# bu listeleri tek bir liste halinde yazan programı yazın\n",
    "\n",
    "sayi1=list(str(input(\"bir sayı girin\")))\n",
    "sayi2=list(str(input(\"bir sayı girin\")))\n",
    "\n",
    "sonList=sayi1+sayi2\n",
    "sonList"
   ]
  },
  {
   "cell_type": "code",
   "execution_count": null,
   "id": "cd9e980c",
   "metadata": {},
   "outputs": [],
   "source": []
  },
  {
   "cell_type": "code",
   "execution_count": 91,
   "id": "69c52743",
   "metadata": {},
   "outputs": [
    {
     "name": "stdout",
     "output_type": "stream",
     "text": [
      "yas giriniz23\n"
     ]
    },
    {
     "data": {
      "text/plain": [
       "{'userName': 'mustafa', 'userLastName': 'bölükbaşı', 'userAge': '23'}"
      ]
     },
     "execution_count": 91,
     "metadata": {},
     "output_type": "execute_result"
    }
   ],
   "source": [
    "# kullanıc adı ve soyadının olduğu bir sözlük yapısı oluşturun ve kullanıcıdan alacağınız yaş bilgisini sözlüğe \n",
    "# ekleyen bir program yazın\n",
    "\n",
    "sözlük={\"userName\":\"mustafa\", \"userLastName\":\"bölükbaşı\"}\n",
    "Age=int(input(\"yas giriniz\"))\n",
    "sözlük[\"userAge\"]=Age\n",
    "sözlük"
   ]
  },
  {
   "cell_type": "code",
   "execution_count": null,
   "id": "868bf946",
   "metadata": {},
   "outputs": [],
   "source": []
  },
  {
   "cell_type": "code",
   "execution_count": 101,
   "id": "dd88db35",
   "metadata": {},
   "outputs": [
    {
     "name": "stdout",
     "output_type": "stream",
     "text": [
      "kelime girinzzz\n",
      "kelime girinaaa\n"
     ]
    },
    {
     "data": {
      "text/plain": [
       "'aaa'"
      ]
     },
     "execution_count": 101,
     "metadata": {},
     "output_type": "execute_result"
    }
   ],
   "source": [
    "# boş bir listeye kullanıcıdan alınan 2 kelimeyı ekleyin, alfabetik olarak ilk sırada olaı yazdıırın\n",
    "liste=[]\n",
    "kelime1= input(\"kelime girin\")\n",
    "kelime2= input(\"kelime girin\")\n",
    "liste.append(kelime1)\n",
    "liste.append(kelime2)\n",
    "liste.sort()\n",
    "liste[0]"
   ]
  },
  {
   "cell_type": "code",
   "execution_count": null,
   "id": "d3efc701",
   "metadata": {},
   "outputs": [],
   "source": []
  },
  {
   "cell_type": "code",
   "execution_count": null,
   "id": "938c9012",
   "metadata": {},
   "outputs": [],
   "source": []
  },
  {
   "cell_type": "code",
   "execution_count": null,
   "id": "0a0cc18e",
   "metadata": {},
   "outputs": [],
   "source": []
  },
  {
   "cell_type": "code",
   "execution_count": null,
   "id": "f4bac6cd",
   "metadata": {},
   "outputs": [],
   "source": []
  },
  {
   "cell_type": "code",
   "execution_count": null,
   "id": "b5a94027",
   "metadata": {},
   "outputs": [],
   "source": []
  },
  {
   "cell_type": "code",
   "execution_count": null,
   "id": "6ecffe97",
   "metadata": {},
   "outputs": [],
   "source": []
  },
  {
   "cell_type": "code",
   "execution_count": null,
   "id": "d858d470",
   "metadata": {},
   "outputs": [],
   "source": []
  },
  {
   "cell_type": "code",
   "execution_count": null,
   "id": "c5b8ed03",
   "metadata": {},
   "outputs": [],
   "source": []
  },
  {
   "cell_type": "code",
   "execution_count": null,
   "id": "90594f14",
   "metadata": {},
   "outputs": [],
   "source": []
  },
  {
   "cell_type": "code",
   "execution_count": null,
   "id": "cbf573da",
   "metadata": {},
   "outputs": [],
   "source": []
  },
  {
   "cell_type": "code",
   "execution_count": null,
   "id": "220efe56",
   "metadata": {},
   "outputs": [],
   "source": []
  },
  {
   "cell_type": "code",
   "execution_count": null,
   "id": "9362e1f3",
   "metadata": {},
   "outputs": [],
   "source": []
  },
  {
   "cell_type": "code",
   "execution_count": null,
   "id": "15c79f91",
   "metadata": {},
   "outputs": [],
   "source": []
  },
  {
   "cell_type": "code",
   "execution_count": null,
   "id": "56295391",
   "metadata": {},
   "outputs": [],
   "source": []
  },
  {
   "cell_type": "code",
   "execution_count": null,
   "id": "50395d89",
   "metadata": {},
   "outputs": [],
   "source": []
  },
  {
   "cell_type": "code",
   "execution_count": null,
   "id": "6cf98303",
   "metadata": {},
   "outputs": [],
   "source": []
  },
  {
   "cell_type": "code",
   "execution_count": null,
   "id": "4809b2dc",
   "metadata": {},
   "outputs": [],
   "source": []
  },
  {
   "cell_type": "code",
   "execution_count": null,
   "id": "88ea2dd3",
   "metadata": {},
   "outputs": [],
   "source": []
  },
  {
   "cell_type": "code",
   "execution_count": null,
   "id": "14688e3d",
   "metadata": {},
   "outputs": [],
   "source": []
  },
  {
   "cell_type": "code",
   "execution_count": null,
   "id": "2b0ad46d",
   "metadata": {},
   "outputs": [],
   "source": []
  },
  {
   "cell_type": "code",
   "execution_count": null,
   "id": "082591f7",
   "metadata": {},
   "outputs": [],
   "source": []
  },
  {
   "cell_type": "code",
   "execution_count": null,
   "id": "bdb89b03",
   "metadata": {},
   "outputs": [],
   "source": []
  },
  {
   "cell_type": "code",
   "execution_count": null,
   "id": "fb53a6e3",
   "metadata": {},
   "outputs": [],
   "source": []
  },
  {
   "cell_type": "code",
   "execution_count": null,
   "id": "fe36e4e1",
   "metadata": {},
   "outputs": [],
   "source": []
  },
  {
   "cell_type": "code",
   "execution_count": null,
   "id": "5cd9d287",
   "metadata": {},
   "outputs": [],
   "source": []
  },
  {
   "cell_type": "code",
   "execution_count": null,
   "id": "dd2f1b23",
   "metadata": {},
   "outputs": [],
   "source": []
  },
  {
   "cell_type": "code",
   "execution_count": null,
   "id": "5e73bf5c",
   "metadata": {},
   "outputs": [],
   "source": []
  }
 ],
 "metadata": {
  "kernelspec": {
   "display_name": "Python 3 (ipykernel)",
   "language": "python",
   "name": "python3"
  },
  "language_info": {
   "codemirror_mode": {
    "name": "ipython",
    "version": 3
   },
   "file_extension": ".py",
   "mimetype": "text/x-python",
   "name": "python",
   "nbconvert_exporter": "python",
   "pygments_lexer": "ipython3",
   "version": "3.9.12"
  }
 },
 "nbformat": 4,
 "nbformat_minor": 5
}
