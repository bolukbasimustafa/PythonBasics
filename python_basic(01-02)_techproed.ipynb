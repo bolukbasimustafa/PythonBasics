{
 "cells": [
  {
   "cell_type": "markdown",
   "id": "4564f3bc",
   "metadata": {},
   "source": [
    "assignment= bir değişkene (variable) değer atama"
   ]
  },
  {
   "cell_type": "code",
   "execution_count": 1,
   "id": "5d99af37",
   "metadata": {},
   "outputs": [],
   "source": [
    "x=5                  \n",
    "\n",
    "# = ile atama yapılır. matematikteki eşitlik değildir. x variable na 5 değeri atanır. "
   ]
  },
  {
   "cell_type": "code",
   "execution_count": 2,
   "id": "66a71cab",
   "metadata": {},
   "outputs": [
    {
     "name": "stdout",
     "output_type": "stream",
     "text": [
      "5\n"
     ]
    }
   ],
   "source": [
    "print(x)"
   ]
  },
  {
   "cell_type": "code",
   "execution_count": 3,
   "id": "ef0d24e6",
   "metadata": {},
   "outputs": [
    {
     "name": "stdout",
     "output_type": "stream",
     "text": [
      "30\n"
     ]
    }
   ],
   "source": [
    "print(x*6)"
   ]
  },
  {
   "cell_type": "code",
   "execution_count": 4,
   "id": "13715717",
   "metadata": {},
   "outputs": [],
   "source": [
    "y=\"hello\"\n",
    "\n",
    "# string variable lar \"\" içinde yazılır"
   ]
  },
  {
   "cell_type": "code",
   "execution_count": 5,
   "id": "b31e9b82",
   "metadata": {},
   "outputs": [
    {
     "name": "stdout",
     "output_type": "stream",
     "text": [
      "hello\n"
     ]
    }
   ],
   "source": [
    "print(y)"
   ]
  },
  {
   "cell_type": "markdown",
   "id": "1ebab99b",
   "metadata": {},
   "source": [
    "print()\n",
    "\n",
    "bir fonksiyondur. () varsa fonksiyon olduğunu gösterir. içine parametreler alır. sep= ile parametreler arasında olmasını\n",
    "istediğmiz karakteri yazarız. default değeri boşluktur"
   ]
  },
  {
   "cell_type": "code",
   "execution_count": 6,
   "id": "410a9523",
   "metadata": {},
   "outputs": [
    {
     "name": "stdout",
     "output_type": "stream",
     "text": [
      "5 hello\n"
     ]
    }
   ],
   "source": [
    "print(x,y)"
   ]
  },
  {
   "cell_type": "code",
   "execution_count": 7,
   "id": "e7c1ad14",
   "metadata": {},
   "outputs": [
    {
     "name": "stdout",
     "output_type": "stream",
     "text": [
      "5---hello\n"
     ]
    }
   ],
   "source": [
    "print(x,y, sep=\"---\")"
   ]
  },
  {
   "cell_type": "markdown",
   "id": "ee3214cf",
   "metadata": {},
   "source": [
    "input()\n",
    "\n",
    "bu fonksiyon ile kullanıcıdan alınan bir değer bir variable olarak atanır"
   ]
  },
  {
   "cell_type": "code",
   "execution_count": 8,
   "id": "1c2c06a6",
   "metadata": {},
   "outputs": [
    {
     "name": "stdout",
     "output_type": "stream",
     "text": [
      "adınız nedirmustafa\n"
     ]
    }
   ],
   "source": [
    "Name=input(\"adınız nedir\")"
   ]
  },
  {
   "cell_type": "code",
   "execution_count": 9,
   "id": "99bc84cb",
   "metadata": {},
   "outputs": [
    {
     "name": "stdout",
     "output_type": "stream",
     "text": [
      "mustafa\n"
     ]
    }
   ],
   "source": [
    "print(Name)"
   ]
  },
  {
   "cell_type": "code",
   "execution_count": 10,
   "id": "53f11a03",
   "metadata": {},
   "outputs": [
    {
     "name": "stdout",
     "output_type": "stream",
     "text": [
      "kaç yaşındasınız45\n"
     ]
    }
   ],
   "source": [
    "Age=input(\"kaç yaşındasınız\")"
   ]
  },
  {
   "cell_type": "code",
   "execution_count": 11,
   "id": "b73b3ad2",
   "metadata": {},
   "outputs": [
    {
     "data": {
      "text/plain": [
       "'45'"
      ]
     },
     "execution_count": 11,
     "metadata": {},
     "output_type": "execute_result"
    }
   ],
   "source": [
    "Age"
   ]
  },
  {
   "cell_type": "code",
   "execution_count": null,
   "id": "b5a20152",
   "metadata": {},
   "outputs": [],
   "source": [
    "# kullanıcıdan aldığımız yaş bilgisinin iki katını ekrana yazdıran bir program yazalım"
   ]
  },
  {
   "cell_type": "code",
   "execution_count": 12,
   "id": "0211e118",
   "metadata": {},
   "outputs": [
    {
     "name": "stdout",
     "output_type": "stream",
     "text": [
      "kaç yaşındasınız45\n"
     ]
    }
   ],
   "source": [
    "UserAge=input(\"kaç yaşındasınız\")"
   ]
  },
  {
   "cell_type": "code",
   "execution_count": 13,
   "id": "cf86ed87",
   "metadata": {},
   "outputs": [
    {
     "data": {
      "text/plain": [
       "'4545'"
      ]
     },
     "execution_count": 13,
     "metadata": {},
     "output_type": "execute_result"
    }
   ],
   "source": [
    "UserAge*2                             # kullanıcıdan alınan değer string bir değer olduğu için yanyana yazdı "
   ]
  },
  {
   "cell_type": "code",
   "execution_count": 14,
   "id": "504dd7b8",
   "metadata": {},
   "outputs": [
    {
     "data": {
      "text/plain": [
       "str"
      ]
     },
     "execution_count": 14,
     "metadata": {},
     "output_type": "execute_result"
    }
   ],
   "source": [
    "type(UserAge)                         # input() ile alınan değer str type dadır. matematiksel işlemler için float yada int dönüşümü yapılmalı"
   ]
  },
  {
   "cell_type": "code",
   "execution_count": 15,
   "id": "95b31d27",
   "metadata": {},
   "outputs": [
    {
     "data": {
      "text/plain": [
       "90"
      ]
     },
     "execution_count": 15,
     "metadata": {},
     "output_type": "execute_result"
    }
   ],
   "source": [
    "int(UserAge)*2"
   ]
  },
  {
   "cell_type": "code",
   "execution_count": 22,
   "id": "3c137329",
   "metadata": {},
   "outputs": [
    {
     "name": "stdout",
     "output_type": "stream",
     "text": [
      "kaç yaşındasınız?49\n"
     ]
    },
    {
     "data": {
      "text/plain": [
       "98"
      ]
     },
     "execution_count": 22,
     "metadata": {},
     "output_type": "execute_result"
    }
   ],
   "source": [
    "UserAge1=input(\"kaç yaşındasınız?\")\n",
    "int(UserAge1)*2"
   ]
  },
  {
   "cell_type": "code",
   "execution_count": null,
   "id": "66447e3e",
   "metadata": {},
   "outputs": [],
   "source": [
    "# kullanıcıdan alınan iki sayının ortalamasını bulma"
   ]
  },
  {
   "cell_type": "code",
   "execution_count": 1,
   "id": "ff273f89",
   "metadata": {},
   "outputs": [
    {
     "name": "stdout",
     "output_type": "stream",
     "text": [
      " sayi 1 giriniz:45\n",
      " sayi 2 giriniz:56\n",
      "girilen iki sayının ortalaması:50.5\n"
     ]
    }
   ],
   "source": [
    "sayi1=int(input(\" sayi 1 giriniz:\"))\n",
    "sayi2=int(input(\" sayi 2 giriniz:\"))\n",
    "ortalama=(sayi1+sayi2)/2\n",
    "print(\"girilen iki sayının ortalaması:\" + str(ortalama))\n",
    "# print fonksiyonu içerisinde yazılan değişkenler aynı tipte olmalı"
   ]
  },
  {
   "cell_type": "code",
   "execution_count": 18,
   "id": "c73d851e",
   "metadata": {},
   "outputs": [
    {
     "name": "stdout",
     "output_type": "stream",
     "text": [
      "please enter a number: 45\n",
      "please enter a number: 65\n",
      "55.0\n"
     ]
    }
   ],
   "source": [
    "answer=0\n",
    "\n",
    "for i in range(2):\n",
    "    x=input(\"please enter a number: \")\n",
    "    answer+=int(x)\n",
    "print(answer/2)"
   ]
  },
  {
   "cell_type": "code",
   "execution_count": 2,
   "id": "aa651363",
   "metadata": {},
   "outputs": [
    {
     "name": "stdout",
     "output_type": "stream",
     "text": [
      "sayı giriniz65\n",
      "sayı giriniz85\n",
      "75.0\n"
     ]
    }
   ],
   "source": [
    "x=float(input(\"sayı giriniz\"))\n",
    "y=float(input(\"sayı giriniz\"))\n",
    "sonuc=(x+y)/2\n",
    "print(sonuc)"
   ]
  },
  {
   "cell_type": "code",
   "execution_count": 3,
   "id": "81ddd93f",
   "metadata": {},
   "outputs": [
    {
     "name": "stdout",
     "output_type": "stream",
     "text": [
      "sayı giriniz45\n",
      "sayı giriniz77\n",
      "61.0\n"
     ]
    }
   ],
   "source": [
    "s1=int(input(\"sayı giriniz\"))\n",
    "s2=int(input(\"sayı giriniz\"))\n",
    "print((s1+s2)/2)"
   ]
  },
  {
   "cell_type": "code",
   "execution_count": 2,
   "id": "8b2c0f9d",
   "metadata": {},
   "outputs": [
    {
     "name": "stdout",
     "output_type": "stream",
     "text": [
      " sayi 1 giriniz:15\n",
      " sayi 2 giriniz:25\n",
      "girilen iki sayının toplamı:40\n"
     ]
    }
   ],
   "source": [
    "sayi1=int(input(\" sayi 1 giriniz:\"))\n",
    "sayi2=int(input(\" sayi 2 giriniz:\"))\n",
    "toplam=(sayi1+sayi2)\n",
    "print(\"girilen iki sayının toplamı:\" + str(toplam))"
   ]
  },
  {
   "cell_type": "code",
   "execution_count": null,
   "id": "67b39e1c",
   "metadata": {},
   "outputs": [],
   "source": []
  },
  {
   "cell_type": "code",
   "execution_count": 20,
   "id": "dd7e7e28",
   "metadata": {},
   "outputs": [
    {
     "data": {
      "text/plain": [
       "'hellohello'"
      ]
     },
     "execution_count": 20,
     "metadata": {},
     "output_type": "execute_result"
    }
   ],
   "source": [
    "\"hello\"*2                             # string type daki bir variable çarpma işlemi yapılırsa yanyana yazılır"
   ]
  },
  {
   "cell_type": "code",
   "execution_count": 21,
   "id": "f5f5f2e0",
   "metadata": {},
   "outputs": [
    {
     "data": {
      "text/plain": [
       "2500"
      ]
     },
     "execution_count": 21,
     "metadata": {},
     "output_type": "execute_result"
    }
   ],
   "source": [
    "5*500"
   ]
  },
  {
   "cell_type": "code",
   "execution_count": null,
   "id": "7baee857",
   "metadata": {},
   "outputs": [],
   "source": [
    "# python indentation   \n",
    "\n",
    "# bir alt satırın üst satırla ilişkili olduğunu göstermek için bir tab içerde yazılması, \n",
    "# bir iki yada üç boşlukta bırakılabilir ama ideal olan 1 tab boşluktur "
   ]
  },
  {
   "cell_type": "code",
   "execution_count": 23,
   "id": "8476e19c",
   "metadata": {},
   "outputs": [
    {
     "name": "stdout",
     "output_type": "stream",
     "text": [
      "doğru\n"
     ]
    }
   ],
   "source": [
    "if 6<10:\n",
    "    print(\"doğru\")"
   ]
  },
  {
   "cell_type": "code",
   "execution_count": 24,
   "id": "eb429216",
   "metadata": {},
   "outputs": [
    {
     "ename": "IndentationError",
     "evalue": "expected an indented block (2817232718.py, line 2)",
     "output_type": "error",
     "traceback": [
      "\u001b[1;36m  Input \u001b[1;32mIn [24]\u001b[1;36m\u001b[0m\n\u001b[1;33m    print(\"doğru\")\u001b[0m\n\u001b[1;37m    ^\u001b[0m\n\u001b[1;31mIndentationError\u001b[0m\u001b[1;31m:\u001b[0m expected an indented block\n"
     ]
    }
   ],
   "source": [
    "if 6<10:\n",
    "print(\"doğru\")"
   ]
  },
  {
   "cell_type": "code",
   "execution_count": null,
   "id": "c4b787c6",
   "metadata": {},
   "outputs": [],
   "source": [
    "# creating a comment\n",
    "\n",
    "# acıklama bilgisi yazma. satır başına # yazılırsa açıklama satırı olarak algılar\n",
    "# \"\"\"   \"\"\" 3tane çift tırnak arasına yazılan ifadelerde açıklama satrı olarak algılanır"
   ]
  },
  {
   "cell_type": "code",
   "execution_count": 25,
   "id": "ef80b532",
   "metadata": {},
   "outputs": [
    {
     "name": "stdout",
     "output_type": "stream",
     "text": [
      "mustafa\n"
     ]
    }
   ],
   "source": [
    "print(\"mustafa\")        # öylesine denemek için yazdım"
   ]
  },
  {
   "cell_type": "code",
   "execution_count": null,
   "id": "2945164d",
   "metadata": {},
   "outputs": [],
   "source": [
    "print(\"hello\")\n",
    "# print(\"test\")         # kod bloğunun başına # konursa kod satırı etkisiz hale gelir"
   ]
  },
  {
   "cell_type": "code",
   "execution_count": 26,
   "id": "ce8f6fbe",
   "metadata": {},
   "outputs": [
    {
     "name": "stdout",
     "output_type": "stream",
     "text": [
      "merhaba\n"
     ]
    }
   ],
   "source": [
    "\"\"\" bu çok önemli\n",
    "3 tırnak ile açıklama \n",
    "nasıl yazılır onu deniyoruz\"\"\"\n",
    "\n",
    "print(\"merhaba\")"
   ]
  },
  {
   "cell_type": "code",
   "execution_count": null,
   "id": "d1cc061f",
   "metadata": {},
   "outputs": [],
   "source": [
    "# variables"
   ]
  },
  {
   "cell_type": "code",
   "execution_count": 27,
   "id": "3412a285",
   "metadata": {},
   "outputs": [
    {
     "name": "stdout",
     "output_type": "stream",
     "text": [
      "555\n",
      "merhaba\n"
     ]
    }
   ],
   "source": [
    "x=555\n",
    "y=\"merhaba\"\n",
    "print(x)\n",
    "print(y)"
   ]
  },
  {
   "cell_type": "code",
   "execution_count": null,
   "id": "5e999e8b",
   "metadata": {},
   "outputs": [],
   "source": [
    "# variables case sensitive \n",
    "\n",
    "# değişkenlerde buyuk kucuk harf duyarlılığı"
   ]
  },
  {
   "cell_type": "code",
   "execution_count": 28,
   "id": "29eafcd9",
   "metadata": {},
   "outputs": [
    {
     "name": "stdout",
     "output_type": "stream",
     "text": [
      "555\n",
      "merhaba\n"
     ]
    }
   ],
   "source": [
    "A=555\n",
    "a=\"merhaba\"\n",
    "print(x)\n",
    "print(y)"
   ]
  },
  {
   "cell_type": "code",
   "execution_count": null,
   "id": "e6c068b2",
   "metadata": {},
   "outputs": [],
   "source": [
    "# variable names"
   ]
  },
  {
   "cell_type": "code",
   "execution_count": null,
   "id": "53e3b078",
   "metadata": {},
   "outputs": [],
   "source": [
    "\"\"\"\n",
    "myvar=\"john\"\n",
    "my_var=\"john\"\n",
    "_my_var=\"john\"\n",
    "myVar=\"john\"\n",
    "MYVAR=\"john\"\n",
    "myvar2=\"john\"\n",
    "\n",
    "değişkenlere bu şekilde isim verilebilir\n",
    "\"\"\""
   ]
  },
  {
   "cell_type": "code",
   "execution_count": null,
   "id": "a5046110",
   "metadata": {},
   "outputs": [],
   "source": [
    "\"\"\"\n",
    "2myvar=\"john\"\n",
    "my-var-=\"john\"\n",
    "my var=\"john\"\n",
    "\n",
    "değişkenlere bu şekilde isim verilmez\n",
    "\"\"\""
   ]
  },
  {
   "cell_type": "code",
   "execution_count": null,
   "id": "3ce478e2",
   "metadata": {},
   "outputs": [],
   "source": [
    "# many values to multiple variables"
   ]
  },
  {
   "cell_type": "code",
   "execution_count": 29,
   "id": "1b0847f1",
   "metadata": {},
   "outputs": [
    {
     "name": "stdout",
     "output_type": "stream",
     "text": [
      "apple\n",
      "banana\n",
      "cherry\n"
     ]
    }
   ],
   "source": [
    "x,y,z=\"apple\",\"banana\",\"cherry\"\n",
    "print(x)\n",
    "print(y)\n",
    "print(z)"
   ]
  },
  {
   "cell_type": "code",
   "execution_count": null,
   "id": "2d602938",
   "metadata": {},
   "outputs": [],
   "source": [
    "# unpack a collection"
   ]
  },
  {
   "cell_type": "code",
   "execution_count": 30,
   "id": "34d0af02",
   "metadata": {},
   "outputs": [
    {
     "name": "stdout",
     "output_type": "stream",
     "text": [
      "apple\n",
      "banana\n",
      "cherry\n"
     ]
    }
   ],
   "source": [
    "fruits=[\"apple\",\"banana\",\"cherry\"]\n",
    "x,y,z=fruits\n",
    "print(x)\n",
    "print(y)\n",
    "print(z)"
   ]
  },
  {
   "cell_type": "code",
   "execution_count": null,
   "id": "fefeb9ab",
   "metadata": {},
   "outputs": [],
   "source": []
  },
  {
   "cell_type": "markdown",
   "id": "b6299e17",
   "metadata": {},
   "source": [
    "# python_basic_02 videosu"
   ]
  },
  {
   "cell_type": "code",
   "execution_count": null,
   "id": "ccf608f7",
   "metadata": {},
   "outputs": [],
   "source": []
  },
  {
   "cell_type": "code",
   "execution_count": null,
   "id": "8ca26c2e",
   "metadata": {},
   "outputs": [],
   "source": [
    "# sequential steps   \n",
    "\n",
    "# kod satırları yukardan aşağıya sırasıyla çalışsır"
   ]
  },
  {
   "cell_type": "code",
   "execution_count": 36,
   "id": "6696b49f",
   "metadata": {},
   "outputs": [
    {
     "name": "stdout",
     "output_type": "stream",
     "text": [
      "2\n",
      "4\n"
     ]
    }
   ],
   "source": [
    "x=2\n",
    "print(x)\n",
    "x=x+2\n",
    "print(x)"
   ]
  },
  {
   "cell_type": "code",
   "execution_count": null,
   "id": "7dcaf4bc",
   "metadata": {},
   "outputs": [],
   "source": [
    "# conditional steps   \n",
    "\n",
    "# kod satırları şarta bağlı olarak çalışır"
   ]
  },
  {
   "cell_type": "code",
   "execution_count": 37,
   "id": "4887e97f",
   "metadata": {},
   "outputs": [
    {
     "name": "stdout",
     "output_type": "stream",
     "text": [
      "smaller\n",
      "finish\n"
     ]
    }
   ],
   "source": [
    "x=5\n",
    "if x<10:\n",
    "    print(\"smaller\")\n",
    "    \n",
    "if x>20:\n",
    "    print(\"bigger\")\n",
    "    \n",
    "print(\"finish\")"
   ]
  },
  {
   "cell_type": "code",
   "execution_count": null,
   "id": "1cd9921b",
   "metadata": {},
   "outputs": [],
   "source": [
    "# repeated steps\n",
    "\n",
    "# bir koşula bağlı olarak tekrar eden döngüsel bir şekilde çalışır"
   ]
  },
  {
   "cell_type": "code",
   "execution_count": 38,
   "id": "1b94622d",
   "metadata": {},
   "outputs": [
    {
     "name": "stdout",
     "output_type": "stream",
     "text": [
      "5\n",
      "4\n",
      "3\n",
      "2\n",
      "1\n",
      "blastoff!\n"
     ]
    }
   ],
   "source": [
    "n=5\n",
    "while n>0:\n",
    "    print(n)\n",
    "    n=n-1\n",
    "    \n",
    "print(\"blastoff!\")"
   ]
  },
  {
   "cell_type": "code",
   "execution_count": null,
   "id": "053a4a48",
   "metadata": {},
   "outputs": [],
   "source": []
  },
  {
   "cell_type": "code",
   "execution_count": null,
   "id": "8f71c478",
   "metadata": {},
   "outputs": [],
   "source": [
    "# resorved words\n",
    "\n"
   ]
  },
  {
   "cell_type": "code",
   "execution_count": null,
   "id": "a7cba831",
   "metadata": {},
   "outputs": [],
   "source": [
    "\"\"\"\n",
    "false, class, return, is, finally, None, if, for, lambda, continue,\n",
    "True, def, from, while, nonlocal, and, del, global, not, with, \n",
    "as, elif, try, or, yield, assert, import, pass, break, in, raise, except\n",
    "\"\"\""
   ]
  },
  {
   "cell_type": "code",
   "execution_count": null,
   "id": "0ce71341",
   "metadata": {},
   "outputs": [],
   "source": []
  },
  {
   "cell_type": "code",
   "execution_count": null,
   "id": "e97c8460",
   "metadata": {},
   "outputs": [],
   "source": [
    "# sentences or lines"
   ]
  },
  {
   "cell_type": "code",
   "execution_count": null,
   "id": "fed17e5e",
   "metadata": {},
   "outputs": [],
   "source": [
    "\"\"\"\n",
    "x=2          assignment statement\n",
    "x=x+2        assignment with expression\n",
    "print(x)     print statement\n",
    "\"\"\""
   ]
  },
  {
   "cell_type": "code",
   "execution_count": null,
   "id": "1164e5e9",
   "metadata": {},
   "outputs": [],
   "source": []
  },
  {
   "cell_type": "code",
   "execution_count": null,
   "id": "0c19740f",
   "metadata": {},
   "outputs": [],
   "source": [
    "# clean code\n",
    "\n",
    "# PEP 8- Python Coding Style   ( bir dokumantasyondur. temiz anlaşılır basit okunabilir kod yazmak için belirlenmiş kurallar )"
   ]
  },
  {
   "cell_type": "code",
   "execution_count": null,
   "id": "44dd60a2",
   "metadata": {},
   "outputs": [],
   "source": []
  },
  {
   "cell_type": "markdown",
   "id": "df37183e",
   "metadata": {},
   "source": [
    "python data types"
   ]
  },
  {
   "cell_type": "code",
   "execution_count": null,
   "id": "b968b720",
   "metadata": {},
   "outputs": [],
   "source": [
    "# text type : string\n",
    "\n",
    "    # immutable özelliktedir"
   ]
  },
  {
   "cell_type": "code",
   "execution_count": 1,
   "id": "08dd88d5",
   "metadata": {},
   "outputs": [],
   "source": [
    "x= \"hello everyone\""
   ]
  },
  {
   "cell_type": "code",
   "execution_count": 2,
   "id": "b167d892",
   "metadata": {},
   "outputs": [
    {
     "data": {
      "text/plain": [
       "'hello everyone'"
      ]
     },
     "execution_count": 2,
     "metadata": {},
     "output_type": "execute_result"
    }
   ],
   "source": [
    "x"
   ]
  },
  {
   "cell_type": "code",
   "execution_count": 3,
   "id": "5698433e",
   "metadata": {},
   "outputs": [
    {
     "name": "stdout",
     "output_type": "stream",
     "text": [
      "<class 'str'>\n"
     ]
    }
   ],
   "source": [
    "print(type(x))"
   ]
  },
  {
   "cell_type": "code",
   "execution_count": null,
   "id": "56d635a0",
   "metadata": {},
   "outputs": [],
   "source": []
  },
  {
   "cell_type": "code",
   "execution_count": null,
   "id": "79fad2c0",
   "metadata": {},
   "outputs": [],
   "source": [
    "# numeric types\n",
    "\n",
    "    # integer(int) : tam sayılar\n",
    "    # float        : ondalıklı sayılar, virgulden sonra değeri olan sayılar\n",
    "    # complex      : \n",
    "    \n",
    "    # immutable özelliktedirler"
   ]
  },
  {
   "cell_type": "code",
   "execution_count": 4,
   "id": "cd1eeafd",
   "metadata": {},
   "outputs": [
    {
     "name": "stdout",
     "output_type": "stream",
     "text": [
      "<class 'int'>\n",
      "<class 'float'>\n",
      "<class 'complex'>\n"
     ]
    }
   ],
   "source": [
    "x= 25\n",
    "y= 25.6\n",
    "z= 1j\n",
    "\n",
    "print(type(x))\n",
    "print(type(y))\n",
    "print(type(z))"
   ]
  },
  {
   "cell_type": "code",
   "execution_count": 6,
   "id": "a9f7038a",
   "metadata": {},
   "outputs": [
    {
     "data": {
      "text/plain": [
       "25"
      ]
     },
     "execution_count": 6,
     "metadata": {},
     "output_type": "execute_result"
    }
   ],
   "source": [
    "int(y)               # type dönüşümü, y variable ı int type yapılıyor"
   ]
  },
  {
   "cell_type": "code",
   "execution_count": 5,
   "id": "90f626bc",
   "metadata": {},
   "outputs": [
    {
     "data": {
      "text/plain": [
       "25.0"
      ]
     },
     "execution_count": 5,
     "metadata": {},
     "output_type": "execute_result"
    }
   ],
   "source": [
    "float(x)             # type dönüşümü, x variable ı float type yapılıyor"
   ]
  },
  {
   "cell_type": "code",
   "execution_count": null,
   "id": "a3aea848",
   "metadata": {},
   "outputs": [],
   "source": []
  },
  {
   "cell_type": "code",
   "execution_count": null,
   "id": "17952b50",
   "metadata": {},
   "outputs": [],
   "source": [
    "# sequence types \n",
    "\n",
    "    # list : [] içerisinde yazılır. list tipindeki bir data içerisinde list, tuple, dictionary yada string gibi farklı tiplerde \n",
    "    #        eleman barındırabilir. mutable özelliktedir        \n",
    "    \n",
    "    # tuple : () içerisinde yazılır. tuple tipindeki bir data içerisinde list, tuple, dictionary yada string gibi farklı tiplerde \n",
    "    #        eleman barındırabilir. immutable özelliktedir "
   ]
  },
  {
   "cell_type": "code",
   "execution_count": 7,
   "id": "01c30df6",
   "metadata": {},
   "outputs": [
    {
     "name": "stdout",
     "output_type": "stream",
     "text": [
      "<class 'list'>\n",
      "<class 'tuple'>\n"
     ]
    }
   ],
   "source": [
    "x= [\"apple\", \"banana\", \"cherry\"]\n",
    "y= (\"apple\", \"banana\", \"cherry\")\n",
    "print(type(x))\n",
    "print(type(y))"
   ]
  },
  {
   "cell_type": "code",
   "execution_count": null,
   "id": "c5b1f4a6",
   "metadata": {},
   "outputs": [],
   "source": []
  },
  {
   "cell_type": "code",
   "execution_count": null,
   "id": "aaf83cfe",
   "metadata": {},
   "outputs": [],
   "source": [
    "# map type : dictionary (dict)\n",
    "\n",
    "    # {} içeriisnde yazılırlar. key ve value değerleri olur. mutable özelliktedir"
   ]
  },
  {
   "cell_type": "code",
   "execution_count": 8,
   "id": "607642a6",
   "metadata": {},
   "outputs": [
    {
     "name": "stdout",
     "output_type": "stream",
     "text": [
      "<class 'dict'>\n"
     ]
    }
   ],
   "source": [
    "x= {\"name\": \"john\", \"age\": 30}\n",
    "print(type(x))"
   ]
  },
  {
   "cell_type": "code",
   "execution_count": null,
   "id": "cb3c1a81",
   "metadata": {},
   "outputs": [],
   "source": []
  },
  {
   "cell_type": "code",
   "execution_count": null,
   "id": "9e62b758",
   "metadata": {},
   "outputs": [],
   "source": [
    "# set type : set\n",
    "\n",
    "    # {} içerisnde yazılırlar. mutable özelliktedir, matematikteki kümeler mantığında çalışır. \n",
    "    # duplicate olmaz benzer elemanlardan birkac tane içermez.değişken tanımlanırken birkaç defa yazılabilir fakat sonuc olarak\n",
    "    # duplicate içermeyen sonuc döndürülür"
   ]
  },
  {
   "cell_type": "code",
   "execution_count": null,
   "id": "8100fc12",
   "metadata": {},
   "outputs": [],
   "source": [
    "x= {\"apple\", \"banana\", \"cherry\"}\n",
    "print(type(x))"
   ]
  },
  {
   "cell_type": "code",
   "execution_count": 10,
   "id": "a1f41b2a",
   "metadata": {},
   "outputs": [],
   "source": [
    "x1= {\"apple\", \"banana\", \"cherry\", \"apple\", \"banana\", \"cherry\", \"apple\", \"banana\", \"cherry\"}"
   ]
  },
  {
   "cell_type": "code",
   "execution_count": 11,
   "id": "091c5f6f",
   "metadata": {},
   "outputs": [
    {
     "data": {
      "text/plain": [
       "{'apple', 'banana', 'cherry'}"
      ]
     },
     "execution_count": 11,
     "metadata": {},
     "output_type": "execute_result"
    }
   ],
   "source": [
    "x1"
   ]
  },
  {
   "cell_type": "code",
   "execution_count": 12,
   "id": "812ef5a1",
   "metadata": {},
   "outputs": [],
   "source": [
    "bos_set= set()                      # boş bir set türünde değişken tanımlamak istersek set() şeklinde tanımlarız. normalde \n",
    "                                    # set ler {} ile yazılır buna dikkat"
   ]
  },
  {
   "cell_type": "code",
   "execution_count": 13,
   "id": "4f1b341f",
   "metadata": {},
   "outputs": [
    {
     "data": {
      "text/plain": [
       "set()"
      ]
     },
     "execution_count": 13,
     "metadata": {},
     "output_type": "execute_result"
    }
   ],
   "source": [
    "bos_set                         "
   ]
  },
  {
   "cell_type": "code",
   "execution_count": null,
   "id": "4936f975",
   "metadata": {},
   "outputs": [],
   "source": []
  },
  {
   "cell_type": "code",
   "execution_count": null,
   "id": "daf4f877",
   "metadata": {},
   "outputs": [],
   "source": [
    "# boolean type : bool\n",
    "\n",
    "    # True/False değerlerinin atandığı deişkenlerden oluşan veri tipleri. immutable özelliktedir."
   ]
  },
  {
   "cell_type": "code",
   "execution_count": 9,
   "id": "d414c8c0",
   "metadata": {},
   "outputs": [
    {
     "name": "stdout",
     "output_type": "stream",
     "text": [
      "<class 'bool'>\n"
     ]
    }
   ],
   "source": [
    "x=True\n",
    "print(type(x))"
   ]
  },
  {
   "cell_type": "code",
   "execution_count": null,
   "id": "cec2a023",
   "metadata": {},
   "outputs": [],
   "source": []
  },
  {
   "cell_type": "markdown",
   "id": "4ef34bed",
   "metadata": {},
   "source": [
    "mutable / immutable data types"
   ]
  },
  {
   "cell_type": "code",
   "execution_count": null,
   "id": "c64e02dc",
   "metadata": {},
   "outputs": [],
   "source": [
    "\"\"\"\n",
    "\n",
    "    bir datanın içerisinde yer alan elaman değiştirilebiliyorsa mutable dır. değiştirilemiyorsa immutable dır\n",
    "    \n",
    "    \n",
    "immutable                         mutable\n",
    "\n",
    "-string                           -list\n",
    "-tuple                            -dictionary\n",
    "-frozenset                        -set\n",
    "-boolean\n",
    "-number\n",
    "  -integer\n",
    "  -float\n",
    "  -long integer\n",
    "  -complex\n"
   ]
  }
 ],
 "metadata": {
  "kernelspec": {
   "display_name": "Python 3 (ipykernel)",
   "language": "python",
   "name": "python3"
  },
  "language_info": {
   "codemirror_mode": {
    "name": "ipython",
    "version": 3
   },
   "file_extension": ".py",
   "mimetype": "text/x-python",
   "name": "python",
   "nbconvert_exporter": "python",
   "pygments_lexer": "ipython3",
   "version": "3.9.12"
  }
 },
 "nbformat": 4,
 "nbformat_minor": 5
}
