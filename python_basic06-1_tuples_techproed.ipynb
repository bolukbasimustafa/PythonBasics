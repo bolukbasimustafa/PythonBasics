{
 "cells": [
  {
   "cell_type": "markdown",
   "id": "38000325",
   "metadata": {},
   "source": [
    "tuple"
   ]
  },
  {
   "cell_type": "code",
   "execution_count": null,
   "id": "1c95c11d",
   "metadata": {},
   "outputs": [],
   "source": [
    "# ordered          : index eğerleri ile tutulur elemanları\n",
    "# unchangecable    : değiştirilmez\n",
    "# allow duplicate items \n",
    "\n",
    "# farklı data tiplerinden eleman barındırabilir"
   ]
  },
  {
   "cell_type": "code",
   "execution_count": null,
   "id": "c2de2138",
   "metadata": {},
   "outputs": [],
   "source": []
  },
  {
   "cell_type": "code",
   "execution_count": 1,
   "id": "913b0988",
   "metadata": {},
   "outputs": [],
   "source": [
    "mytuple= (\"apple\", \"banana\", \"cherry\")"
   ]
  },
  {
   "cell_type": "code",
   "execution_count": 2,
   "id": "47e734e7",
   "metadata": {},
   "outputs": [
    {
     "data": {
      "text/plain": [
       "('apple', 'banana', 'cherry')"
      ]
     },
     "execution_count": 2,
     "metadata": {},
     "output_type": "execute_result"
    }
   ],
   "source": [
    "mytuple"
   ]
  },
  {
   "cell_type": "code",
   "execution_count": null,
   "id": "45c18948",
   "metadata": {},
   "outputs": [],
   "source": []
  },
  {
   "cell_type": "code",
   "execution_count": 3,
   "id": "a7e8980c",
   "metadata": {},
   "outputs": [],
   "source": [
    "mytuple1=(\"hello\", 1, 2, True, [5,6])"
   ]
  },
  {
   "cell_type": "code",
   "execution_count": 5,
   "id": "46fdfdb2",
   "metadata": {},
   "outputs": [
    {
     "data": {
      "text/plain": [
       "('hello', 1, 2, True, [5, 6])"
      ]
     },
     "execution_count": 5,
     "metadata": {},
     "output_type": "execute_result"
    }
   ],
   "source": [
    "mytuple1"
   ]
  },
  {
   "cell_type": "code",
   "execution_count": null,
   "id": "848596cd",
   "metadata": {},
   "outputs": [],
   "source": []
  },
  {
   "cell_type": "code",
   "execution_count": null,
   "id": "114c295b",
   "metadata": {},
   "outputs": [],
   "source": [
    "# assignment"
   ]
  },
  {
   "cell_type": "code",
   "execution_count": 6,
   "id": "823bd6ef",
   "metadata": {},
   "outputs": [],
   "source": [
    "nums=1,2,3,4,5          # tuple atama bu şekildede olur\n",
    "# nums=(1,2,3,4,5)"
   ]
  },
  {
   "cell_type": "code",
   "execution_count": 7,
   "id": "a1ea39c5",
   "metadata": {},
   "outputs": [
    {
     "data": {
      "text/plain": [
       "(1, 2, 3, 4, 5)"
      ]
     },
     "execution_count": 7,
     "metadata": {},
     "output_type": "execute_result"
    }
   ],
   "source": [
    "nums"
   ]
  },
  {
   "cell_type": "code",
   "execution_count": 8,
   "id": "56b115f1",
   "metadata": {},
   "outputs": [
    {
     "data": {
      "text/plain": [
       "tuple"
      ]
     },
     "execution_count": 8,
     "metadata": {},
     "output_type": "execute_result"
    }
   ],
   "source": [
    "type(nums)"
   ]
  },
  {
   "cell_type": "code",
   "execution_count": 36,
   "id": "218b0fd2",
   "metadata": {},
   "outputs": [],
   "source": [
    "myTuple = \"hello\", 1, 3, \"merhaba\""
   ]
  },
  {
   "cell_type": "code",
   "execution_count": 37,
   "id": "36c64eb5",
   "metadata": {},
   "outputs": [
    {
     "data": {
      "text/plain": [
       "('hello', 1, 3, 'merhaba')"
      ]
     },
     "execution_count": 37,
     "metadata": {},
     "output_type": "execute_result"
    }
   ],
   "source": [
    "myTuple"
   ]
  },
  {
   "cell_type": "code",
   "execution_count": null,
   "id": "8931d424",
   "metadata": {},
   "outputs": [],
   "source": []
  },
  {
   "cell_type": "code",
   "execution_count": 9,
   "id": "1b76f832",
   "metadata": {},
   "outputs": [],
   "source": [
    "name1=(\"Jeff\",)          # virgül bu data tipinin tuple olduğunu gösterir. olmasaydı string olurdu"
   ]
  },
  {
   "cell_type": "code",
   "execution_count": 10,
   "id": "f7f0eac0",
   "metadata": {},
   "outputs": [
    {
     "data": {
      "text/plain": [
       "('Jeff',)"
      ]
     },
     "execution_count": 10,
     "metadata": {},
     "output_type": "execute_result"
    }
   ],
   "source": [
    "name1"
   ]
  },
  {
   "cell_type": "code",
   "execution_count": 11,
   "id": "279ee1cc",
   "metadata": {},
   "outputs": [
    {
     "data": {
      "text/plain": [
       "tuple"
      ]
     },
     "execution_count": 11,
     "metadata": {},
     "output_type": "execute_result"
    }
   ],
   "source": [
    "type(name1)"
   ]
  },
  {
   "cell_type": "code",
   "execution_count": 12,
   "id": "f7014291",
   "metadata": {},
   "outputs": [],
   "source": [
    "name2=(\"Jeff\")"
   ]
  },
  {
   "cell_type": "code",
   "execution_count": 13,
   "id": "735d7f66",
   "metadata": {},
   "outputs": [
    {
     "data": {
      "text/plain": [
       "'Jeff'"
      ]
     },
     "execution_count": 13,
     "metadata": {},
     "output_type": "execute_result"
    }
   ],
   "source": [
    "name2"
   ]
  },
  {
   "cell_type": "code",
   "execution_count": 14,
   "id": "3763d370",
   "metadata": {},
   "outputs": [
    {
     "data": {
      "text/plain": [
       "str"
      ]
     },
     "execution_count": 14,
     "metadata": {},
     "output_type": "execute_result"
    }
   ],
   "source": [
    "type(name2)"
   ]
  },
  {
   "cell_type": "code",
   "execution_count": null,
   "id": "3a97b6f5",
   "metadata": {},
   "outputs": [],
   "source": []
  },
  {
   "cell_type": "code",
   "execution_count": 38,
   "id": "c89a0525",
   "metadata": {},
   "outputs": [],
   "source": [
    "names=\"Ali\", \"Veli\", \"Mehmet\", \"Hasan\""
   ]
  },
  {
   "cell_type": "code",
   "execution_count": 41,
   "id": "b4fc3a06",
   "metadata": {},
   "outputs": [],
   "source": [
    "isim1, isim2, isim3, isim4 = names "
   ]
  },
  {
   "cell_type": "code",
   "execution_count": 42,
   "id": "7746643c",
   "metadata": {},
   "outputs": [
    {
     "data": {
      "text/plain": [
       "'Ali'"
      ]
     },
     "execution_count": 42,
     "metadata": {},
     "output_type": "execute_result"
    }
   ],
   "source": [
    "isim1"
   ]
  },
  {
   "cell_type": "code",
   "execution_count": 43,
   "id": "815d8134",
   "metadata": {},
   "outputs": [
    {
     "data": {
      "text/plain": [
       "'Mehmet'"
      ]
     },
     "execution_count": 43,
     "metadata": {},
     "output_type": "execute_result"
    }
   ],
   "source": [
    "isim3"
   ]
  },
  {
   "cell_type": "code",
   "execution_count": null,
   "id": "8e175f8f",
   "metadata": {},
   "outputs": [],
   "source": []
  },
  {
   "cell_type": "code",
   "execution_count": null,
   "id": "46f43331",
   "metadata": {},
   "outputs": [],
   "source": []
  },
  {
   "cell_type": "code",
   "execution_count": 15,
   "id": "ea0c2504",
   "metadata": {},
   "outputs": [],
   "source": [
    "# access"
   ]
  },
  {
   "cell_type": "code",
   "execution_count": 16,
   "id": "bcbd02e5",
   "metadata": {},
   "outputs": [],
   "source": [
    "mytuple1=(\"hello\", 1, 2, True, [5,6])"
   ]
  },
  {
   "cell_type": "code",
   "execution_count": 17,
   "id": "b9b29688",
   "metadata": {},
   "outputs": [
    {
     "data": {
      "text/plain": [
       "True"
      ]
     },
     "execution_count": 17,
     "metadata": {},
     "output_type": "execute_result"
    }
   ],
   "source": [
    "mytuple1[3]"
   ]
  },
  {
   "cell_type": "code",
   "execution_count": 18,
   "id": "84d0b8a9",
   "metadata": {},
   "outputs": [
    {
     "data": {
      "text/plain": [
       "[5, 6]"
      ]
     },
     "execution_count": 18,
     "metadata": {},
     "output_type": "execute_result"
    }
   ],
   "source": [
    "mytuple1[-1]"
   ]
  },
  {
   "cell_type": "code",
   "execution_count": 46,
   "id": "c5120046",
   "metadata": {},
   "outputs": [],
   "source": [
    "mytuple1[-1][0]=11       # herne kadar tuple lar değiştirilemez olsada değiştirilebilir yapıdaki \n",
    "                         # elemanlarının içinde değişiklik yapılabilir"
   ]
  },
  {
   "cell_type": "code",
   "execution_count": 49,
   "id": "449b0115",
   "metadata": {},
   "outputs": [
    {
     "data": {
      "text/plain": [
       "('hello', 1, 2, True, [11, 6])"
      ]
     },
     "execution_count": 49,
     "metadata": {},
     "output_type": "execute_result"
    }
   ],
   "source": [
    "mytuple1"
   ]
  },
  {
   "cell_type": "code",
   "execution_count": 45,
   "id": "8dbccd3c",
   "metadata": {},
   "outputs": [
    {
     "data": {
      "text/plain": [
       "'l'"
      ]
     },
     "execution_count": 45,
     "metadata": {},
     "output_type": "execute_result"
    }
   ],
   "source": [
    "mytuple1[0][2]"
   ]
  },
  {
   "cell_type": "code",
   "execution_count": null,
   "id": "a7f425ce",
   "metadata": {},
   "outputs": [],
   "source": []
  },
  {
   "cell_type": "code",
   "execution_count": null,
   "id": "0549af52",
   "metadata": {},
   "outputs": [],
   "source": [
    "# slicing"
   ]
  },
  {
   "cell_type": "code",
   "execution_count": 19,
   "id": "41beaa12",
   "metadata": {},
   "outputs": [],
   "source": [
    "mytuple1=(\"hello\", 1, 2, True, [5,6])"
   ]
  },
  {
   "cell_type": "code",
   "execution_count": 20,
   "id": "60a6fc4f",
   "metadata": {},
   "outputs": [
    {
     "data": {
      "text/plain": [
       "('hello', 1)"
      ]
     },
     "execution_count": 20,
     "metadata": {},
     "output_type": "execute_result"
    }
   ],
   "source": [
    "mytuple1[:2]"
   ]
  },
  {
   "cell_type": "code",
   "execution_count": 21,
   "id": "854f0efb",
   "metadata": {},
   "outputs": [
    {
     "data": {
      "text/plain": [
       "(2, True, [5, 6])"
      ]
     },
     "execution_count": 21,
     "metadata": {},
     "output_type": "execute_result"
    }
   ],
   "source": [
    "mytuple1[2:]"
   ]
  },
  {
   "cell_type": "code",
   "execution_count": null,
   "id": "13004a7d",
   "metadata": {},
   "outputs": [],
   "source": []
  },
  {
   "cell_type": "code",
   "execution_count": null,
   "id": "8ab395d1",
   "metadata": {},
   "outputs": [],
   "source": [
    "# update tuple values\n",
    "\n",
    "# tuple lar değiştirilemez özelliktedirler. listeye dönüştürerek değişim yapılıp tekrar tuple a dönüştürülür"
   ]
  },
  {
   "cell_type": "code",
   "execution_count": 22,
   "id": "ee3c6a27",
   "metadata": {},
   "outputs": [],
   "source": [
    "mytuple= (\"apple\", \"banana\", \"cherry\")"
   ]
  },
  {
   "cell_type": "code",
   "execution_count": 23,
   "id": "a08e602b",
   "metadata": {},
   "outputs": [],
   "source": [
    "mylist=list(mytuple)"
   ]
  },
  {
   "cell_type": "code",
   "execution_count": 24,
   "id": "4fb7524e",
   "metadata": {},
   "outputs": [
    {
     "data": {
      "text/plain": [
       "['apple', 'banana', 'cherry']"
      ]
     },
     "execution_count": 24,
     "metadata": {},
     "output_type": "execute_result"
    }
   ],
   "source": [
    "mylist"
   ]
  },
  {
   "cell_type": "code",
   "execution_count": 25,
   "id": "0184f4ae",
   "metadata": {},
   "outputs": [],
   "source": [
    "mylist[1]=\"kiwi\""
   ]
  },
  {
   "cell_type": "code",
   "execution_count": 26,
   "id": "c9823aff",
   "metadata": {},
   "outputs": [],
   "source": [
    "mytuple=tuple(mylist)"
   ]
  },
  {
   "cell_type": "code",
   "execution_count": 27,
   "id": "ed8a478b",
   "metadata": {},
   "outputs": [
    {
     "data": {
      "text/plain": [
       "('apple', 'kiwi', 'cherry')"
      ]
     },
     "execution_count": 27,
     "metadata": {},
     "output_type": "execute_result"
    }
   ],
   "source": [
    "mytuple"
   ]
  },
  {
   "cell_type": "code",
   "execution_count": null,
   "id": "21572271",
   "metadata": {},
   "outputs": [],
   "source": []
  },
  {
   "cell_type": "code",
   "execution_count": 52,
   "id": "d917a3eb",
   "metadata": {},
   "outputs": [],
   "source": [
    "mytuple1=(\"hello\", 1, 2, True, [5,6])   # herne kadar tuple lar değiştirilemez olsada değiştirilebilir yapıdaki \n",
    "                                        # elemanlarının içinde değişiklik yapılabilir"
   ]
  },
  {
   "cell_type": "code",
   "execution_count": 53,
   "id": "b9da50c9",
   "metadata": {},
   "outputs": [],
   "source": [
    "mytuple1[-1][1]=555"
   ]
  },
  {
   "cell_type": "code",
   "execution_count": 55,
   "id": "1ca84165",
   "metadata": {},
   "outputs": [
    {
     "data": {
      "text/plain": [
       "('hello', 1, 2, True, [5, 555])"
      ]
     },
     "execution_count": 55,
     "metadata": {},
     "output_type": "execute_result"
    }
   ],
   "source": [
    "mytuple1"
   ]
  },
  {
   "cell_type": "code",
   "execution_count": 57,
   "id": "1e899b5c",
   "metadata": {},
   "outputs": [],
   "source": [
    "mytuple1[-1].append(\"yeni bir değer\")"
   ]
  },
  {
   "cell_type": "code",
   "execution_count": 58,
   "id": "bf4d13ee",
   "metadata": {},
   "outputs": [
    {
     "data": {
      "text/plain": [
       "('hello', 1, 2, True, [5, 555, 'yeni bir değer'])"
      ]
     },
     "execution_count": 58,
     "metadata": {},
     "output_type": "execute_result"
    }
   ],
   "source": [
    "mytuple1"
   ]
  },
  {
   "cell_type": "code",
   "execution_count": null,
   "id": "bc6c0728",
   "metadata": {},
   "outputs": [],
   "source": []
  },
  {
   "cell_type": "code",
   "execution_count": null,
   "id": "ca736e84",
   "metadata": {},
   "outputs": [],
   "source": []
  },
  {
   "cell_type": "code",
   "execution_count": null,
   "id": "a2c10668",
   "metadata": {},
   "outputs": [],
   "source": [
    "# concatanate"
   ]
  },
  {
   "cell_type": "code",
   "execution_count": 28,
   "id": "bc17be0b",
   "metadata": {},
   "outputs": [],
   "source": [
    "mytuple= (\"apple\", \"banana\", \"cherry\")\n",
    "mytuple1=(\"hello\", 1, 2, True, [5,6])"
   ]
  },
  {
   "cell_type": "code",
   "execution_count": 29,
   "id": "2b042a34",
   "metadata": {},
   "outputs": [],
   "source": [
    "mytuple2 = mytuple + mytuple1"
   ]
  },
  {
   "cell_type": "code",
   "execution_count": 30,
   "id": "cb045c06",
   "metadata": {},
   "outputs": [
    {
     "data": {
      "text/plain": [
       "('apple', 'banana', 'cherry', 'hello', 1, 2, True, [5, 6])"
      ]
     },
     "execution_count": 30,
     "metadata": {},
     "output_type": "execute_result"
    }
   ],
   "source": [
    "mytuple2"
   ]
  },
  {
   "cell_type": "code",
   "execution_count": null,
   "id": "2514c9c7",
   "metadata": {},
   "outputs": [],
   "source": []
  },
  {
   "cell_type": "code",
   "execution_count": null,
   "id": "b60e6857",
   "metadata": {},
   "outputs": [],
   "source": [
    "# index\n",
    "\n",
    "# tuple da elemanlar index değerleri ile tutulur. index değerlerini öğrenebiliriz"
   ]
  },
  {
   "cell_type": "code",
   "execution_count": 31,
   "id": "c1c9a0dc",
   "metadata": {},
   "outputs": [],
   "source": [
    "mytuple= (\"apple\", \"banana\", \"cherry\")"
   ]
  },
  {
   "cell_type": "code",
   "execution_count": 32,
   "id": "e74dc9f3",
   "metadata": {},
   "outputs": [
    {
     "data": {
      "text/plain": [
       "1"
      ]
     },
     "execution_count": 32,
     "metadata": {},
     "output_type": "execute_result"
    }
   ],
   "source": [
    "mytuple.index(\"banana\")"
   ]
  },
  {
   "cell_type": "code",
   "execution_count": null,
   "id": "70f7163e",
   "metadata": {},
   "outputs": [],
   "source": []
  },
  {
   "cell_type": "code",
   "execution_count": null,
   "id": "eabede60",
   "metadata": {},
   "outputs": [],
   "source": [
    "# count\n",
    "\n",
    "# tuple içeriisinde bir eleman kac adet var onu gösterir"
   ]
  },
  {
   "cell_type": "code",
   "execution_count": 33,
   "id": "738bb84b",
   "metadata": {},
   "outputs": [],
   "source": [
    "mytuple=(1,2,3,1,3,4,1,3,5,6)"
   ]
  },
  {
   "cell_type": "code",
   "execution_count": 35,
   "id": "3efd07b6",
   "metadata": {},
   "outputs": [
    {
     "data": {
      "text/plain": [
       "3"
      ]
     },
     "execution_count": 35,
     "metadata": {},
     "output_type": "execute_result"
    }
   ],
   "source": [
    "mytuple.count(1)"
   ]
  },
  {
   "cell_type": "code",
   "execution_count": null,
   "id": "b83d0ee2",
   "metadata": {},
   "outputs": [],
   "source": []
  },
  {
   "cell_type": "code",
   "execution_count": 59,
   "id": "533a66a0",
   "metadata": {},
   "outputs": [],
   "source": [
    "mytuple= (\"apple\", \"banana\", \"cherry\")"
   ]
  },
  {
   "cell_type": "code",
   "execution_count": 60,
   "id": "502c9b52",
   "metadata": {},
   "outputs": [
    {
     "data": {
      "text/plain": [
       "True"
      ]
     },
     "execution_count": 60,
     "metadata": {},
     "output_type": "execute_result"
    }
   ],
   "source": [
    "\"apple\" in mytuple"
   ]
  },
  {
   "cell_type": "code",
   "execution_count": null,
   "id": "6bd3e48b",
   "metadata": {},
   "outputs": [],
   "source": []
  },
  {
   "cell_type": "code",
   "execution_count": null,
   "id": "c7dd2a1c",
   "metadata": {},
   "outputs": [],
   "source": []
  },
  {
   "cell_type": "code",
   "execution_count": null,
   "id": "3867ad35",
   "metadata": {},
   "outputs": [],
   "source": []
  },
  {
   "cell_type": "code",
   "execution_count": null,
   "id": "ce5cb474",
   "metadata": {},
   "outputs": [],
   "source": []
  },
  {
   "cell_type": "code",
   "execution_count": null,
   "id": "c3033c90",
   "metadata": {},
   "outputs": [],
   "source": []
  },
  {
   "cell_type": "code",
   "execution_count": null,
   "id": "505a585d",
   "metadata": {},
   "outputs": [],
   "source": []
  },
  {
   "cell_type": "code",
   "execution_count": null,
   "id": "24ac62c3",
   "metadata": {},
   "outputs": [],
   "source": []
  },
  {
   "cell_type": "code",
   "execution_count": null,
   "id": "898399cd",
   "metadata": {},
   "outputs": [],
   "source": []
  },
  {
   "cell_type": "code",
   "execution_count": null,
   "id": "e3c76cc2",
   "metadata": {},
   "outputs": [],
   "source": []
  },
  {
   "cell_type": "code",
   "execution_count": null,
   "id": "5fc90c71",
   "metadata": {},
   "outputs": [],
   "source": []
  },
  {
   "cell_type": "code",
   "execution_count": null,
   "id": "542d2164",
   "metadata": {},
   "outputs": [],
   "source": []
  },
  {
   "cell_type": "code",
   "execution_count": null,
   "id": "83c8107e",
   "metadata": {},
   "outputs": [],
   "source": []
  }
 ],
 "metadata": {
  "kernelspec": {
   "display_name": "Python 3 (ipykernel)",
   "language": "python",
   "name": "python3"
  },
  "language_info": {
   "codemirror_mode": {
    "name": "ipython",
    "version": 3
   },
   "file_extension": ".py",
   "mimetype": "text/x-python",
   "name": "python",
   "nbconvert_exporter": "python",
   "pygments_lexer": "ipython3",
   "version": "3.9.12"
  }
 },
 "nbformat": 4,
 "nbformat_minor": 5
}
