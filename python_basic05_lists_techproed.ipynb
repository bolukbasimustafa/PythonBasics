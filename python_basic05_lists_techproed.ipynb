{
 "cells": [
  {
   "cell_type": "markdown",
   "id": "1b638a4e",
   "metadata": {},
   "source": [
    "lists"
   ]
  },
  {
   "cell_type": "code",
   "execution_count": 1,
   "id": "7e9714d3",
   "metadata": {},
   "outputs": [],
   "source": [
    "# ordered : index değerleri ile tutulur\n",
    "# changeable: mutable yani değiştirilebilir\n",
    "# dublicate values yer alabilir\n",
    "\n",
    "# farklı data tiplerinnde elemanları bulundurabilir"
   ]
  },
  {
   "cell_type": "code",
   "execution_count": 2,
   "id": "9d499815",
   "metadata": {},
   "outputs": [
    {
     "data": {
      "text/plain": [
       "['hello', 1, 2, True, [1, 2]]"
      ]
     },
     "execution_count": 2,
     "metadata": {},
     "output_type": "execute_result"
    }
   ],
   "source": [
    "[\"hello\", 1, 2, True, [1,2] ]"
   ]
  },
  {
   "cell_type": "code",
   "execution_count": 77,
   "id": "aa49fba2",
   "metadata": {},
   "outputs": [],
   "source": [
    "mylist=[\"apple\", \"banana\", \"cherry\"]"
   ]
  },
  {
   "cell_type": "code",
   "execution_count": 78,
   "id": "a8063562",
   "metadata": {},
   "outputs": [
    {
     "data": {
      "text/plain": [
       "['apple', 'banana', 'cherry']"
      ]
     },
     "execution_count": 78,
     "metadata": {},
     "output_type": "execute_result"
    }
   ],
   "source": [
    "mylist"
   ]
  },
  {
   "cell_type": "code",
   "execution_count": null,
   "id": "320db014",
   "metadata": {},
   "outputs": [],
   "source": []
  },
  {
   "cell_type": "code",
   "execution_count": 79,
   "id": "a0ae8626",
   "metadata": {},
   "outputs": [
    {
     "data": {
      "text/plain": [
       "list"
      ]
     },
     "execution_count": 79,
     "metadata": {},
     "output_type": "execute_result"
    }
   ],
   "source": [
    "type(mylist)          # listenin tipini sorgulama"
   ]
  },
  {
   "cell_type": "code",
   "execution_count": 82,
   "id": "914c5f4e",
   "metadata": {},
   "outputs": [
    {
     "data": {
      "text/plain": [
       "str"
      ]
     },
     "execution_count": 82,
     "metadata": {},
     "output_type": "execute_result"
    }
   ],
   "source": [
    "type(mylist[1])       # listenin bir elemanının tipini sorgulama. listenin elemanı string ise bunun üzerinde string metodları \n",
    "                      # çalıştırabiliriz"
   ]
  },
  {
   "cell_type": "code",
   "execution_count": 83,
   "id": "97e3793c",
   "metadata": {},
   "outputs": [
    {
     "data": {
      "text/plain": [
       "'BANANA'"
      ]
     },
     "execution_count": 83,
     "metadata": {},
     "output_type": "execute_result"
    }
   ],
   "source": [
    "mylist[1].upper()     # yapılan işlem kalıcı değişiklik yapmaz. stringler ummutable dır"
   ]
  },
  {
   "cell_type": "code",
   "execution_count": 85,
   "id": "2fc685e1",
   "metadata": {},
   "outputs": [
    {
     "data": {
      "text/plain": [
       "'A'"
      ]
     },
     "execution_count": 85,
     "metadata": {},
     "output_type": "execute_result"
    }
   ],
   "source": [
    "mylist[1][3].upper()"
   ]
  },
  {
   "cell_type": "code",
   "execution_count": 84,
   "id": "0aaba60f",
   "metadata": {},
   "outputs": [
    {
     "data": {
      "text/plain": [
       "['apple', 'banana', 'cherry']"
      ]
     },
     "execution_count": 84,
     "metadata": {},
     "output_type": "execute_result"
    }
   ],
   "source": [
    "mylist"
   ]
  },
  {
   "cell_type": "code",
   "execution_count": null,
   "id": "f8b9756c",
   "metadata": {},
   "outputs": [],
   "source": []
  },
  {
   "cell_type": "code",
   "execution_count": null,
   "id": "57333c8a",
   "metadata": {},
   "outputs": [],
   "source": []
  },
  {
   "cell_type": "code",
   "execution_count": 5,
   "id": "53b8ceeb",
   "metadata": {},
   "outputs": [],
   "source": [
    "myString=\"Hello World\""
   ]
  },
  {
   "cell_type": "code",
   "execution_count": 6,
   "id": "29a9f6a5",
   "metadata": {},
   "outputs": [
    {
     "data": {
      "text/plain": [
       "['H', 'e', 'l', 'l', 'o', ' ', 'W', 'o', 'r', 'l', 'd']"
      ]
     },
     "execution_count": 6,
     "metadata": {},
     "output_type": "execute_result"
    }
   ],
   "source": [
    "list(myString)                # string data tipindeki bir değişken liste ye dönüştürülür"
   ]
  },
  {
   "cell_type": "code",
   "execution_count": 7,
   "id": "91284ac8",
   "metadata": {},
   "outputs": [],
   "source": [
    "newlist=list(myString) "
   ]
  },
  {
   "cell_type": "code",
   "execution_count": 8,
   "id": "58332657",
   "metadata": {},
   "outputs": [
    {
     "data": {
      "text/plain": [
       "['H', 'e', 'l', 'l', 'o', ' ', 'W', 'o', 'r', 'l', 'd']"
      ]
     },
     "execution_count": 8,
     "metadata": {},
     "output_type": "execute_result"
    }
   ],
   "source": [
    "newlist"
   ]
  },
  {
   "cell_type": "code",
   "execution_count": null,
   "id": "5736bf10",
   "metadata": {},
   "outputs": [],
   "source": []
  },
  {
   "cell_type": "code",
   "execution_count": 9,
   "id": "8088b9aa",
   "metadata": {},
   "outputs": [
    {
     "data": {
      "text/plain": [
       "['H',\n",
       " 'e',\n",
       " 'l',\n",
       " 'l',\n",
       " 'o',\n",
       " ' ',\n",
       " 'W',\n",
       " 'o',\n",
       " 'r',\n",
       " 'l',\n",
       " 'd',\n",
       " 'H',\n",
       " 'e',\n",
       " 'l',\n",
       " 'l',\n",
       " 'o',\n",
       " ' ',\n",
       " 'W',\n",
       " 'o',\n",
       " 'r',\n",
       " 'l',\n",
       " 'd',\n",
       " 'H',\n",
       " 'e',\n",
       " 'l',\n",
       " 'l',\n",
       " 'o',\n",
       " ' ',\n",
       " 'W',\n",
       " 'o',\n",
       " 'r',\n",
       " 'l',\n",
       " 'd']"
      ]
     },
     "execution_count": 9,
     "metadata": {},
     "output_type": "execute_result"
    }
   ],
   "source": [
    "newlist*3                     # çarpma işlemi stringlerde olduğu gibi yanyana yazarak olur"
   ]
  },
  {
   "cell_type": "code",
   "execution_count": 10,
   "id": "b418a6aa",
   "metadata": {},
   "outputs": [
    {
     "data": {
      "text/plain": [
       "['H',\n",
       " 'e',\n",
       " 'l',\n",
       " 'l',\n",
       " 'o',\n",
       " ' ',\n",
       " 'W',\n",
       " 'o',\n",
       " 'r',\n",
       " 'l',\n",
       " 'd',\n",
       " 'apple',\n",
       " 'banana',\n",
       " 'cherry']"
      ]
     },
     "execution_count": 10,
     "metadata": {},
     "output_type": "execute_result"
    }
   ],
   "source": [
    "newlist + mylist"
   ]
  },
  {
   "cell_type": "code",
   "execution_count": null,
   "id": "cb14bdd1",
   "metadata": {},
   "outputs": [],
   "source": []
  },
  {
   "cell_type": "code",
   "execution_count": null,
   "id": "3b4096e2",
   "metadata": {},
   "outputs": [],
   "source": []
  },
  {
   "cell_type": "code",
   "execution_count": 11,
   "id": "e3b77f96",
   "metadata": {},
   "outputs": [],
   "source": [
    "# len()\n",
    "\n",
    "# liste içerisindeki elemanların sayısını verir, her virgülle ayrılan elemanı 1 sayar"
   ]
  },
  {
   "cell_type": "code",
   "execution_count": 12,
   "id": "ec9ce691",
   "metadata": {},
   "outputs": [
    {
     "data": {
      "text/plain": [
       "3"
      ]
     },
     "execution_count": 12,
     "metadata": {},
     "output_type": "execute_result"
    }
   ],
   "source": [
    "len(mylist)              "
   ]
  },
  {
   "cell_type": "code",
   "execution_count": 13,
   "id": "92bfc9ce",
   "metadata": {},
   "outputs": [
    {
     "data": {
      "text/plain": [
       "5"
      ]
     },
     "execution_count": 13,
     "metadata": {},
     "output_type": "execute_result"
    }
   ],
   "source": [
    "len([\"hello\", 1, 2, True, [1,2]])"
   ]
  },
  {
   "cell_type": "code",
   "execution_count": 14,
   "id": "c4cdb8fe",
   "metadata": {},
   "outputs": [
    {
     "data": {
      "text/plain": [
       "['m',\n",
       " 'e',\n",
       " 'r',\n",
       " 'h',\n",
       " 'a',\n",
       " 'b',\n",
       " 'a',\n",
       " 'm',\n",
       " 'e',\n",
       " 'r',\n",
       " 'h',\n",
       " 'a',\n",
       " 'b',\n",
       " 'a',\n",
       " 'm',\n",
       " 'e',\n",
       " 'r',\n",
       " 'h',\n",
       " 'a',\n",
       " 'b',\n",
       " 'a']"
      ]
     },
     "execution_count": 14,
     "metadata": {},
     "output_type": "execute_result"
    }
   ],
   "source": [
    "list(\"merhaba\")*3"
   ]
  },
  {
   "cell_type": "code",
   "execution_count": 15,
   "id": "8c55eb11",
   "metadata": {},
   "outputs": [
    {
     "data": {
      "text/plain": [
       "21"
      ]
     },
     "execution_count": 15,
     "metadata": {},
     "output_type": "execute_result"
    }
   ],
   "source": [
    "len(list(\"merhaba\")*3)"
   ]
  },
  {
   "cell_type": "code",
   "execution_count": null,
   "id": "ac29aaf9",
   "metadata": {},
   "outputs": [],
   "source": []
  },
  {
   "cell_type": "code",
   "execution_count": 16,
   "id": "764b3ddb",
   "metadata": {},
   "outputs": [],
   "source": [
    "# Access Items\n",
    "\n",
    "# stringlerde olduğu gibi çalışır. istenilen index teki elemanı döndürür"
   ]
  },
  {
   "cell_type": "code",
   "execution_count": 17,
   "id": "6d3ea82d",
   "metadata": {},
   "outputs": [
    {
     "data": {
      "text/plain": [
       "['apple', 'banana', 'cherry']"
      ]
     },
     "execution_count": 17,
     "metadata": {},
     "output_type": "execute_result"
    }
   ],
   "source": [
    "mylist"
   ]
  },
  {
   "cell_type": "code",
   "execution_count": 18,
   "id": "362fe101",
   "metadata": {},
   "outputs": [
    {
     "data": {
      "text/plain": [
       "'banana'"
      ]
     },
     "execution_count": 18,
     "metadata": {},
     "output_type": "execute_result"
    }
   ],
   "source": [
    "mylist[1]"
   ]
  },
  {
   "cell_type": "code",
   "execution_count": 19,
   "id": "338f3636",
   "metadata": {},
   "outputs": [
    {
     "data": {
      "text/plain": [
       "'cherry'"
      ]
     },
     "execution_count": 19,
     "metadata": {},
     "output_type": "execute_result"
    }
   ],
   "source": [
    "mylist[-1]"
   ]
  },
  {
   "cell_type": "code",
   "execution_count": 20,
   "id": "231ad52c",
   "metadata": {},
   "outputs": [
    {
     "data": {
      "text/plain": [
       "'p'"
      ]
     },
     "execution_count": 20,
     "metadata": {},
     "output_type": "execute_result"
    }
   ],
   "source": [
    "mylist[0][2]       # 0 index eleman olan apple ın 2 index değere sahip elemanı "
   ]
  },
  {
   "cell_type": "code",
   "execution_count": 21,
   "id": "60ccd656",
   "metadata": {},
   "outputs": [
    {
     "data": {
      "text/plain": [
       "'a'"
      ]
     },
     "execution_count": 21,
     "metadata": {},
     "output_type": "execute_result"
    }
   ],
   "source": [
    "mylist[1][5]"
   ]
  },
  {
   "cell_type": "code",
   "execution_count": 22,
   "id": "677e6541",
   "metadata": {},
   "outputs": [
    {
     "data": {
      "text/plain": [
       "'r'"
      ]
     },
     "execution_count": 22,
     "metadata": {},
     "output_type": "execute_result"
    }
   ],
   "source": [
    "mylist[2][3]"
   ]
  },
  {
   "cell_type": "code",
   "execution_count": 23,
   "id": "6b949c55",
   "metadata": {},
   "outputs": [],
   "source": [
    "mylonglist=[[[[1,2],[1,8,9],5],15]]"
   ]
  },
  {
   "cell_type": "code",
   "execution_count": 24,
   "id": "0b739d6a",
   "metadata": {},
   "outputs": [
    {
     "data": {
      "text/plain": [
       "9"
      ]
     },
     "execution_count": 24,
     "metadata": {},
     "output_type": "execute_result"
    }
   ],
   "source": [
    "mylonglist[0][0][1][2]"
   ]
  },
  {
   "cell_type": "code",
   "execution_count": null,
   "id": "e5ea35b5",
   "metadata": {},
   "outputs": [],
   "source": []
  },
  {
   "cell_type": "code",
   "execution_count": null,
   "id": "6a6b4a99",
   "metadata": {},
   "outputs": [],
   "source": []
  },
  {
   "cell_type": "code",
   "execution_count": 25,
   "id": "ba9939a1",
   "metadata": {},
   "outputs": [],
   "source": [
    "# slicing"
   ]
  },
  {
   "cell_type": "code",
   "execution_count": 26,
   "id": "f0a941f3",
   "metadata": {},
   "outputs": [],
   "source": [
    "thislist=[\"apple\", \"banana\", \"cherry\", \"orange\", \"kiwi\", \"melon\", \"mango\"]"
   ]
  },
  {
   "cell_type": "code",
   "execution_count": 27,
   "id": "14518ef2",
   "metadata": {},
   "outputs": [
    {
     "data": {
      "text/plain": [
       "['cherry', 'orange', 'kiwi']"
      ]
     },
     "execution_count": 27,
     "metadata": {},
     "output_type": "execute_result"
    }
   ],
   "source": [
    "thislist[2:5]"
   ]
  },
  {
   "cell_type": "code",
   "execution_count": 28,
   "id": "dbb25601",
   "metadata": {},
   "outputs": [
    {
     "data": {
      "text/plain": [
       "['apple', 'banana', 'cherry', 'orange', 'kiwi']"
      ]
     },
     "execution_count": 28,
     "metadata": {},
     "output_type": "execute_result"
    }
   ],
   "source": [
    "thislist[:5]"
   ]
  },
  {
   "cell_type": "code",
   "execution_count": 29,
   "id": "ecaf89e7",
   "metadata": {},
   "outputs": [
    {
     "data": {
      "text/plain": [
       "['kiwi', 'melon', 'mango']"
      ]
     },
     "execution_count": 29,
     "metadata": {},
     "output_type": "execute_result"
    }
   ],
   "source": [
    "thislist[-3:]"
   ]
  },
  {
   "cell_type": "code",
   "execution_count": 30,
   "id": "52705393",
   "metadata": {},
   "outputs": [
    {
     "data": {
      "text/plain": [
       "['apple', 'banana', 'cherry', 'orange', 'kiwi', 'melon', 'mango']"
      ]
     },
     "execution_count": 30,
     "metadata": {},
     "output_type": "execute_result"
    }
   ],
   "source": [
    "thislist"
   ]
  },
  {
   "cell_type": "code",
   "execution_count": 31,
   "id": "fa381001",
   "metadata": {},
   "outputs": [],
   "source": [
    "thislist[1:3]=[\"muz\", \"çeri\"]"
   ]
  },
  {
   "cell_type": "code",
   "execution_count": 32,
   "id": "747d27ad",
   "metadata": {},
   "outputs": [
    {
     "data": {
      "text/plain": [
       "['apple', 'muz', 'çeri', 'orange', 'kiwi', 'melon', 'mango']"
      ]
     },
     "execution_count": 32,
     "metadata": {},
     "output_type": "execute_result"
    }
   ],
   "source": [
    "thislist"
   ]
  },
  {
   "cell_type": "code",
   "execution_count": null,
   "id": "ce37b881",
   "metadata": {},
   "outputs": [],
   "source": []
  },
  {
   "cell_type": "code",
   "execution_count": null,
   "id": "82e6dcbc",
   "metadata": {},
   "outputs": [],
   "source": []
  },
  {
   "cell_type": "code",
   "execution_count": 33,
   "id": "ca2c05bf",
   "metadata": {},
   "outputs": [],
   "source": [
    "# change list items\n",
    "\n",
    "# access işlemi ile belirtilen elemana yeni bir değer atayarak kalıcı bir değişiklik yapılabilir"
   ]
  },
  {
   "cell_type": "code",
   "execution_count": 34,
   "id": "b46a79a2",
   "metadata": {},
   "outputs": [],
   "source": [
    "newlist=[\"apple\", \"banana\", \"cherry\", \"orange\", \"kiwi\", \"melon\", \"mango\"]"
   ]
  },
  {
   "cell_type": "code",
   "execution_count": 35,
   "id": "31581693",
   "metadata": {},
   "outputs": [],
   "source": [
    "newlist[3]=\"portakal\""
   ]
  },
  {
   "cell_type": "code",
   "execution_count": 36,
   "id": "88d7a75f",
   "metadata": {},
   "outputs": [
    {
     "data": {
      "text/plain": [
       "['apple', 'banana', 'cherry', 'portakal', 'kiwi', 'melon', 'mango']"
      ]
     },
     "execution_count": 36,
     "metadata": {},
     "output_type": "execute_result"
    }
   ],
   "source": [
    "newlist"
   ]
  },
  {
   "cell_type": "code",
   "execution_count": null,
   "id": "088d1a12",
   "metadata": {},
   "outputs": [],
   "source": []
  },
  {
   "cell_type": "code",
   "execution_count": 37,
   "id": "d5063717",
   "metadata": {},
   "outputs": [],
   "source": [
    "# list methods"
   ]
  },
  {
   "cell_type": "code",
   "execution_count": 86,
   "id": "b670aaa2",
   "metadata": {},
   "outputs": [
    {
     "data": {
      "text/plain": [
       "['__add__',\n",
       " '__class__',\n",
       " '__class_getitem__',\n",
       " '__contains__',\n",
       " '__delattr__',\n",
       " '__delitem__',\n",
       " '__dir__',\n",
       " '__doc__',\n",
       " '__eq__',\n",
       " '__format__',\n",
       " '__ge__',\n",
       " '__getattribute__',\n",
       " '__getitem__',\n",
       " '__gt__',\n",
       " '__hash__',\n",
       " '__iadd__',\n",
       " '__imul__',\n",
       " '__init__',\n",
       " '__init_subclass__',\n",
       " '__iter__',\n",
       " '__le__',\n",
       " '__len__',\n",
       " '__lt__',\n",
       " '__mul__',\n",
       " '__ne__',\n",
       " '__new__',\n",
       " '__reduce__',\n",
       " '__reduce_ex__',\n",
       " '__repr__',\n",
       " '__reversed__',\n",
       " '__rmul__',\n",
       " '__setattr__',\n",
       " '__setitem__',\n",
       " '__sizeof__',\n",
       " '__str__',\n",
       " '__subclasshook__',\n",
       " 'append',\n",
       " 'clear',\n",
       " 'copy',\n",
       " 'count',\n",
       " 'extend',\n",
       " 'index',\n",
       " 'insert',\n",
       " 'pop',\n",
       " 'remove',\n",
       " 'reverse',\n",
       " 'sort']"
      ]
     },
     "execution_count": 86,
     "metadata": {},
     "output_type": "execute_result"
    }
   ],
   "source": [
    "dir(list)"
   ]
  },
  {
   "cell_type": "code",
   "execution_count": null,
   "id": "4fc8ffd2",
   "metadata": {},
   "outputs": [],
   "source": [
    "# index()\n",
    "\n",
    "# stringlerdeki mantıkla çalışır. sorgulanan elemanın bulunduğu ilk index değeri döndürür yoksa hata döndürür"
   ]
  },
  {
   "cell_type": "code",
   "execution_count": 87,
   "id": "7021d063",
   "metadata": {},
   "outputs": [],
   "source": [
    "myString=\"Hello World\""
   ]
  },
  {
   "cell_type": "code",
   "execution_count": 89,
   "id": "e3434bb7",
   "metadata": {},
   "outputs": [],
   "source": [
    "myList=list(myString)"
   ]
  },
  {
   "cell_type": "code",
   "execution_count": 90,
   "id": "b632da7f",
   "metadata": {},
   "outputs": [
    {
     "data": {
      "text/plain": [
       "['H', 'e', 'l', 'l', 'o', ' ', 'W', 'o', 'r', 'l', 'd']"
      ]
     },
     "execution_count": 90,
     "metadata": {},
     "output_type": "execute_result"
    }
   ],
   "source": [
    "myList"
   ]
  },
  {
   "cell_type": "code",
   "execution_count": 91,
   "id": "065e97c1",
   "metadata": {},
   "outputs": [
    {
     "data": {
      "text/plain": [
       "5"
      ]
     },
     "execution_count": 91,
     "metadata": {},
     "output_type": "execute_result"
    }
   ],
   "source": [
    "myList.index(\" \")"
   ]
  },
  {
   "cell_type": "code",
   "execution_count": 92,
   "id": "319ff682",
   "metadata": {},
   "outputs": [
    {
     "data": {
      "text/plain": [
       "2"
      ]
     },
     "execution_count": 92,
     "metadata": {},
     "output_type": "execute_result"
    }
   ],
   "source": [
    "myList.index(\"l\")"
   ]
  },
  {
   "cell_type": "code",
   "execution_count": 93,
   "id": "83f0b9eb",
   "metadata": {},
   "outputs": [
    {
     "ename": "ValueError",
     "evalue": "'h' is not in list",
     "output_type": "error",
     "traceback": [
      "\u001b[1;31m---------------------------------------------------------------------------\u001b[0m",
      "\u001b[1;31mValueError\u001b[0m                                Traceback (most recent call last)",
      "Input \u001b[1;32mIn [93]\u001b[0m, in \u001b[0;36m<cell line: 1>\u001b[1;34m()\u001b[0m\n\u001b[1;32m----> 1\u001b[0m \u001b[43mmyList\u001b[49m\u001b[38;5;241;43m.\u001b[39;49m\u001b[43mindex\u001b[49m\u001b[43m(\u001b[49m\u001b[38;5;124;43m\"\u001b[39;49m\u001b[38;5;124;43mh\u001b[39;49m\u001b[38;5;124;43m\"\u001b[39;49m\u001b[43m)\u001b[49m\n",
      "\u001b[1;31mValueError\u001b[0m: 'h' is not in list"
     ]
    }
   ],
   "source": [
    "myList.index(\"h\")"
   ]
  },
  {
   "cell_type": "code",
   "execution_count": null,
   "id": "517b840d",
   "metadata": {},
   "outputs": [],
   "source": []
  },
  {
   "cell_type": "code",
   "execution_count": 38,
   "id": "73640c81",
   "metadata": {},
   "outputs": [],
   "source": [
    "# append()    /     insert()\n",
    "\n",
    "# append()     :   listenin sonuna yeni bir eleman ekler\n",
    "# insert()     :   listede index değeri belirtilen yere yeni bir eleman ekler"
   ]
  },
  {
   "cell_type": "code",
   "execution_count": 39,
   "id": "371e9933",
   "metadata": {},
   "outputs": [],
   "source": [
    "liste1=['apple', 'banana', 'cherry']"
   ]
  },
  {
   "cell_type": "code",
   "execution_count": 40,
   "id": "1ca6cd8d",
   "metadata": {},
   "outputs": [],
   "source": [
    "liste1.append(\"orange\")"
   ]
  },
  {
   "cell_type": "code",
   "execution_count": 41,
   "id": "c8b00dbd",
   "metadata": {},
   "outputs": [
    {
     "data": {
      "text/plain": [
       "['apple', 'banana', 'cherry', 'orange']"
      ]
     },
     "execution_count": 41,
     "metadata": {},
     "output_type": "execute_result"
    }
   ],
   "source": [
    "liste1"
   ]
  },
  {
   "cell_type": "code",
   "execution_count": 42,
   "id": "f55b07d7",
   "metadata": {},
   "outputs": [],
   "source": [
    "listeee=[1,2]"
   ]
  },
  {
   "cell_type": "code",
   "execution_count": 43,
   "id": "0e0d770c",
   "metadata": {},
   "outputs": [],
   "source": [
    "liste1.append(listeee)         # bir listede listeye yeni bir eleman olarak eklenir"
   ]
  },
  {
   "cell_type": "code",
   "execution_count": 44,
   "id": "c1b9ec8c",
   "metadata": {},
   "outputs": [
    {
     "data": {
      "text/plain": [
       "['apple', 'banana', 'cherry', 'orange', [1, 2]]"
      ]
     },
     "execution_count": 44,
     "metadata": {},
     "output_type": "execute_result"
    }
   ],
   "source": [
    "liste1"
   ]
  },
  {
   "cell_type": "code",
   "execution_count": null,
   "id": "80f577d3",
   "metadata": {},
   "outputs": [],
   "source": []
  },
  {
   "cell_type": "code",
   "execution_count": 45,
   "id": "a09cd065",
   "metadata": {},
   "outputs": [],
   "source": [
    "liste2=[\"mango\", \"pineapple\", \"papaya\"]"
   ]
  },
  {
   "cell_type": "code",
   "execution_count": 46,
   "id": "1d8db3af",
   "metadata": {},
   "outputs": [],
   "source": [
    "liste2.insert(1,\"watermelon\")"
   ]
  },
  {
   "cell_type": "code",
   "execution_count": 47,
   "id": "7598d6b1",
   "metadata": {},
   "outputs": [
    {
     "data": {
      "text/plain": [
       "['mango', 'watermelon', 'pineapple', 'papaya']"
      ]
     },
     "execution_count": 47,
     "metadata": {},
     "output_type": "execute_result"
    }
   ],
   "source": [
    "liste2"
   ]
  },
  {
   "cell_type": "code",
   "execution_count": 48,
   "id": "6177e77c",
   "metadata": {},
   "outputs": [],
   "source": [
    "cities=[\"Mumbai\", \"London\", \"Paris\", \"New York\"]\n",
    "\n",
    "cities.insert(3, \"Tokyo\")"
   ]
  },
  {
   "cell_type": "code",
   "execution_count": 49,
   "id": "7988ab8c",
   "metadata": {},
   "outputs": [
    {
     "data": {
      "text/plain": [
       "['Mumbai', 'London', 'Paris', 'Tokyo', 'New York']"
      ]
     },
     "execution_count": 49,
     "metadata": {},
     "output_type": "execute_result"
    }
   ],
   "source": [
    "cities"
   ]
  },
  {
   "cell_type": "code",
   "execution_count": null,
   "id": "f2803267",
   "metadata": {},
   "outputs": [],
   "source": []
  },
  {
   "cell_type": "code",
   "execution_count": 50,
   "id": "1cdcdf73",
   "metadata": {},
   "outputs": [],
   "source": [
    "# remove()    /  pop()     /   del    /   clear()\n",
    "\n",
    "# remove()   :  liste içerisinden belirtilen elemanı çıkarır\n",
    "# pop()      :  liste içerisinden verilen index değerdeki elemanı çıkarır ve çıkarılan elemanı döndürür\n",
    "# clear()    :  listenin içini boşaltır boş liste olarak kalır\n",
    "# del        :  listeyi komple siler böyle bir liste kalmaz yada listenin istenilen bir kısmını siler"
   ]
  },
  {
   "cell_type": "code",
   "execution_count": 51,
   "id": "ad18d32c",
   "metadata": {},
   "outputs": [],
   "source": [
    "liste1=['apple', 'banana', 'cherry']"
   ]
  },
  {
   "cell_type": "code",
   "execution_count": 52,
   "id": "39a7c5a0",
   "metadata": {},
   "outputs": [],
   "source": [
    "liste1.remove(\"banana\")"
   ]
  },
  {
   "cell_type": "code",
   "execution_count": 53,
   "id": "15a83175",
   "metadata": {},
   "outputs": [
    {
     "data": {
      "text/plain": [
       "['apple', 'cherry']"
      ]
     },
     "execution_count": 53,
     "metadata": {},
     "output_type": "execute_result"
    }
   ],
   "source": [
    "liste1"
   ]
  },
  {
   "cell_type": "code",
   "execution_count": 54,
   "id": "eea20ebe",
   "metadata": {},
   "outputs": [],
   "source": [
    "liste1.remove(liste1[1])"
   ]
  },
  {
   "cell_type": "code",
   "execution_count": 55,
   "id": "f8b0a133",
   "metadata": {},
   "outputs": [
    {
     "data": {
      "text/plain": [
       "['apple']"
      ]
     },
     "execution_count": 55,
     "metadata": {},
     "output_type": "execute_result"
    }
   ],
   "source": [
    "liste1"
   ]
  },
  {
   "cell_type": "code",
   "execution_count": 56,
   "id": "9df23a27",
   "metadata": {},
   "outputs": [],
   "source": [
    "cities=[\"Mumbai\", \"London\", \"Paris\", \"New York\"]"
   ]
  },
  {
   "cell_type": "code",
   "execution_count": 57,
   "id": "80e6c8dc",
   "metadata": {},
   "outputs": [],
   "source": [
    "cities.remove(\"Mumbai\")"
   ]
  },
  {
   "cell_type": "code",
   "execution_count": 58,
   "id": "08bfd579",
   "metadata": {},
   "outputs": [
    {
     "data": {
      "text/plain": [
       "['London', 'Paris', 'New York']"
      ]
     },
     "execution_count": 58,
     "metadata": {},
     "output_type": "execute_result"
    }
   ],
   "source": [
    "cities"
   ]
  },
  {
   "cell_type": "code",
   "execution_count": 59,
   "id": "1fcfcea0",
   "metadata": {},
   "outputs": [],
   "source": [
    "cities.remove(cities[-1])"
   ]
  },
  {
   "cell_type": "code",
   "execution_count": 60,
   "id": "c9837d6f",
   "metadata": {},
   "outputs": [
    {
     "data": {
      "text/plain": [
       "['London', 'Paris']"
      ]
     },
     "execution_count": 60,
     "metadata": {},
     "output_type": "execute_result"
    }
   ],
   "source": [
    "cities"
   ]
  },
  {
   "cell_type": "code",
   "execution_count": null,
   "id": "ac0f2366",
   "metadata": {},
   "outputs": [],
   "source": []
  },
  {
   "cell_type": "code",
   "execution_count": 61,
   "id": "49c404bc",
   "metadata": {},
   "outputs": [],
   "source": [
    "liste11=['apple', 'banana', 'cherry']"
   ]
  },
  {
   "cell_type": "code",
   "execution_count": 62,
   "id": "a3e44c71",
   "metadata": {},
   "outputs": [
    {
     "data": {
      "text/plain": [
       "'banana'"
      ]
     },
     "execution_count": 62,
     "metadata": {},
     "output_type": "execute_result"
    }
   ],
   "source": [
    "liste11.pop(1)"
   ]
  },
  {
   "cell_type": "code",
   "execution_count": 63,
   "id": "52682938",
   "metadata": {},
   "outputs": [
    {
     "data": {
      "text/plain": [
       "['apple', 'cherry']"
      ]
     },
     "execution_count": 63,
     "metadata": {},
     "output_type": "execute_result"
    }
   ],
   "source": [
    "liste11"
   ]
  },
  {
   "cell_type": "code",
   "execution_count": 64,
   "id": "e6149b76",
   "metadata": {},
   "outputs": [],
   "source": [
    "cities=[\"Mumbai\", \"London\", \"Paris\", \"New York\"]"
   ]
  },
  {
   "cell_type": "code",
   "execution_count": 65,
   "id": "2b3581a4",
   "metadata": {},
   "outputs": [
    {
     "data": {
      "text/plain": [
       "'Paris'"
      ]
     },
     "execution_count": 65,
     "metadata": {},
     "output_type": "execute_result"
    }
   ],
   "source": [
    "cities.pop(2)"
   ]
  },
  {
   "cell_type": "code",
   "execution_count": null,
   "id": "bfd8c729",
   "metadata": {},
   "outputs": [],
   "source": []
  },
  {
   "cell_type": "code",
   "execution_count": 66,
   "id": "5935ac43",
   "metadata": {},
   "outputs": [],
   "source": [
    "liste12=['apple', 'banana', 'cherry', 'mango', 'watermelon', 'pineapple', 'papaya']"
   ]
  },
  {
   "cell_type": "code",
   "execution_count": 67,
   "id": "676bb6a6",
   "metadata": {},
   "outputs": [],
   "source": [
    "liste12.clear()                     # listenin tüm elemanlarını siler, boş liste kalır"
   ]
  },
  {
   "cell_type": "code",
   "execution_count": 68,
   "id": "858d3206",
   "metadata": {},
   "outputs": [
    {
     "data": {
      "text/plain": [
       "[]"
      ]
     },
     "execution_count": 68,
     "metadata": {},
     "output_type": "execute_result"
    }
   ],
   "source": [
    "liste12"
   ]
  },
  {
   "cell_type": "code",
   "execution_count": null,
   "id": "6d649866",
   "metadata": {},
   "outputs": [],
   "source": []
  },
  {
   "cell_type": "code",
   "execution_count": 69,
   "id": "c428e794",
   "metadata": {},
   "outputs": [],
   "source": [
    "liste13=['apple', 'banana', 'cherry', 'mango', 'watermelon', 'pineapple', 'papaya']"
   ]
  },
  {
   "cell_type": "code",
   "execution_count": 70,
   "id": "d0857a00",
   "metadata": {},
   "outputs": [],
   "source": [
    "del liste13[2:5]                    # istenilen aralığı siler"
   ]
  },
  {
   "cell_type": "code",
   "execution_count": 71,
   "id": "1c96ca89",
   "metadata": {},
   "outputs": [
    {
     "data": {
      "text/plain": [
       "['apple', 'banana', 'pineapple', 'papaya']"
      ]
     },
     "execution_count": 71,
     "metadata": {},
     "output_type": "execute_result"
    }
   ],
   "source": [
    "liste13"
   ]
  },
  {
   "cell_type": "code",
   "execution_count": 72,
   "id": "5304f6b2",
   "metadata": {},
   "outputs": [],
   "source": [
    "del liste13                         # listeyi komple siler"
   ]
  },
  {
   "cell_type": "code",
   "execution_count": 73,
   "id": "c501741c",
   "metadata": {},
   "outputs": [
    {
     "ename": "NameError",
     "evalue": "name 'liste13' is not defined",
     "output_type": "error",
     "traceback": [
      "\u001b[1;31m---------------------------------------------------------------------------\u001b[0m",
      "\u001b[1;31mNameError\u001b[0m                                 Traceback (most recent call last)",
      "Input \u001b[1;32mIn [73]\u001b[0m, in \u001b[0;36m<cell line: 1>\u001b[1;34m()\u001b[0m\n\u001b[1;32m----> 1\u001b[0m \u001b[43mliste13\u001b[49m\n",
      "\u001b[1;31mNameError\u001b[0m: name 'liste13' is not defined"
     ]
    }
   ],
   "source": [
    "liste13"
   ]
  },
  {
   "cell_type": "code",
   "execution_count": null,
   "id": "f7428f96",
   "metadata": {},
   "outputs": [],
   "source": []
  },
  {
   "cell_type": "code",
   "execution_count": null,
   "id": "73186fad",
   "metadata": {},
   "outputs": [],
   "source": [
    "# sort()\n",
    "\n",
    "# liste içindeki elemanları sıralar"
   ]
  },
  {
   "cell_type": "code",
   "execution_count": null,
   "id": "db9b50b3",
   "metadata": {},
   "outputs": [],
   "source": [
    "liste=['apple', 'watermelon', 'cherry', 'papaya', 'mango', 'banana', 'pineapple']"
   ]
  },
  {
   "cell_type": "code",
   "execution_count": null,
   "id": "be7bb43c",
   "metadata": {},
   "outputs": [],
   "source": [
    "liste.sort()                      # listeyi alfabetik olarak sıraladı"
   ]
  },
  {
   "cell_type": "code",
   "execution_count": null,
   "id": "caa30e13",
   "metadata": {},
   "outputs": [],
   "source": [
    "liste"
   ]
  },
  {
   "cell_type": "code",
   "execution_count": null,
   "id": "dd0e8d33",
   "metadata": {},
   "outputs": [],
   "source": [
    "liste.sort(reverse=True)          # listeyi alfabetik olarak sondan başlayarak sıralar"
   ]
  },
  {
   "cell_type": "code",
   "execution_count": null,
   "id": "309e1a21",
   "metadata": {},
   "outputs": [],
   "source": [
    "liste"
   ]
  },
  {
   "cell_type": "code",
   "execution_count": null,
   "id": "ab95fca2",
   "metadata": {},
   "outputs": [],
   "source": [
    "liste.sort(key=len)               # key değeri neye göre sıralanacağını belirler. elemanların uzunluğuna göre sıraladık"
   ]
  },
  {
   "cell_type": "code",
   "execution_count": null,
   "id": "f8489eef",
   "metadata": {},
   "outputs": [],
   "source": [
    "liste"
   ]
  },
  {
   "cell_type": "code",
   "execution_count": null,
   "id": "eea59295",
   "metadata": {},
   "outputs": [],
   "source": [
    "liste.sort(key=len, reverse=True) "
   ]
  },
  {
   "cell_type": "code",
   "execution_count": null,
   "id": "b58a0db8",
   "metadata": {},
   "outputs": [],
   "source": [
    "liste"
   ]
  },
  {
   "cell_type": "code",
   "execution_count": null,
   "id": "bb8d2cab",
   "metadata": {},
   "outputs": [],
   "source": []
  },
  {
   "cell_type": "code",
   "execution_count": null,
   "id": "1c04699b",
   "metadata": {},
   "outputs": [],
   "source": [
    "# copy()\n",
    "\n",
    "# listenin aynısından kopya elde etmek için kullanılır"
   ]
  },
  {
   "cell_type": "code",
   "execution_count": null,
   "id": "a5b8af60",
   "metadata": {},
   "outputs": [],
   "source": [
    "liste=['apple', 'watermelon', 'cherry', 'papaya', 'mango', 'banana', 'pineapple']"
   ]
  },
  {
   "cell_type": "code",
   "execution_count": null,
   "id": "fd0539b9",
   "metadata": {},
   "outputs": [],
   "source": [
    "newlist=liste.copy()"
   ]
  },
  {
   "cell_type": "code",
   "execution_count": null,
   "id": "adacd3e0",
   "metadata": {},
   "outputs": [],
   "source": [
    "newlist"
   ]
  },
  {
   "cell_type": "code",
   "execution_count": null,
   "id": "8e518454",
   "metadata": {},
   "outputs": [],
   "source": []
  },
  {
   "cell_type": "code",
   "execution_count": null,
   "id": "08f0e7c8",
   "metadata": {},
   "outputs": [],
   "source": [
    "# extend()  /   join()\n",
    "\n",
    "# extend()  : iki listeyi birleştirir. ikinci liste birinci listeye eklenir\n",
    "# join()    : listenin string tipte olan elemanlarını birleştirip string olarak döndürür elemanları birleştirirken \n",
    "#             \"\" içine yazılan karakteri aralarına yazar. karakter yazılmazsa direk birleştirir"
   ]
  },
  {
   "cell_type": "code",
   "execution_count": null,
   "id": "1ffa4b86",
   "metadata": {},
   "outputs": [],
   "source": [
    "liste1=['apple', 'banana', 'cherry']\n",
    "liste2=[\"mango\", \"pineapple\", \"papaya\"]"
   ]
  },
  {
   "cell_type": "code",
   "execution_count": null,
   "id": "826030fc",
   "metadata": {},
   "outputs": [],
   "source": [
    "liste1.extend(liste2)"
   ]
  },
  {
   "cell_type": "code",
   "execution_count": null,
   "id": "a1765f31",
   "metadata": {},
   "outputs": [],
   "source": [
    "liste1"
   ]
  },
  {
   "cell_type": "code",
   "execution_count": null,
   "id": "b4cf0b81",
   "metadata": {},
   "outputs": [],
   "source": [
    "cities=[\"Mumbai\", \"London\", \"Paris\", \"New York\"]\n",
    "newcities=[\"Tokyo\", \"Sydney\"]\n",
    "\n",
    "cities.extend(newcities)"
   ]
  },
  {
   "cell_type": "code",
   "execution_count": null,
   "id": "cd5e638c",
   "metadata": {},
   "outputs": [],
   "source": [
    "cities"
   ]
  },
  {
   "cell_type": "code",
   "execution_count": null,
   "id": "1749fb56",
   "metadata": {},
   "outputs": [],
   "source": []
  },
  {
   "cell_type": "code",
   "execution_count": null,
   "id": "bf799079",
   "metadata": {},
   "outputs": [],
   "source": []
  },
  {
   "cell_type": "code",
   "execution_count": 96,
   "id": "413afcac",
   "metadata": {},
   "outputs": [],
   "source": [
    "liste3=[\"mer\", \"ha\", \"ba\"]"
   ]
  },
  {
   "cell_type": "code",
   "execution_count": 101,
   "id": "a4602990",
   "metadata": {},
   "outputs": [],
   "source": [
    "yeniString=\"\".join(liste3)           # listenin string tipte olan elemanlarını birleştirip string olarak döndürür\n",
    "                          # elemanları birleştirirken \"\" içine yazılan karakteri aralarına yazar. boş olursa araya birşey koymaz"
   ]
  },
  {
   "cell_type": "code",
   "execution_count": 102,
   "id": "0119daf8",
   "metadata": {},
   "outputs": [
    {
     "data": {
      "text/plain": [
       "'merhaba'"
      ]
     },
     "execution_count": 102,
     "metadata": {},
     "output_type": "execute_result"
    }
   ],
   "source": [
    "yeniString"
   ]
  },
  {
   "cell_type": "code",
   "execution_count": 103,
   "id": "7bdad101",
   "metadata": {},
   "outputs": [
    {
     "data": {
      "text/plain": [
       "'mer-ha-ba'"
      ]
     },
     "execution_count": 103,
     "metadata": {},
     "output_type": "execute_result"
    }
   ],
   "source": [
    "\"-\".join(liste3)"
   ]
  },
  {
   "cell_type": "code",
   "execution_count": null,
   "id": "4b9b9349",
   "metadata": {},
   "outputs": [],
   "source": []
  },
  {
   "cell_type": "code",
   "execution_count": 94,
   "id": "66a1b672",
   "metadata": {},
   "outputs": [],
   "source": [
    "liste4=[\"once\", \"upon\", \"a\", \"time\"]"
   ]
  },
  {
   "cell_type": "code",
   "execution_count": 99,
   "id": "ef665822",
   "metadata": {},
   "outputs": [],
   "source": [
    "NewString=\" \".join(liste4)"
   ]
  },
  {
   "cell_type": "code",
   "execution_count": 100,
   "id": "f338b794",
   "metadata": {},
   "outputs": [
    {
     "data": {
      "text/plain": [
       "'once upon a time'"
      ]
     },
     "execution_count": 100,
     "metadata": {},
     "output_type": "execute_result"
    }
   ],
   "source": [
    "NewString"
   ]
  },
  {
   "cell_type": "code",
   "execution_count": null,
   "id": "0df21941",
   "metadata": {},
   "outputs": [],
   "source": []
  },
  {
   "cell_type": "code",
   "execution_count": null,
   "id": "249cf6e7",
   "metadata": {},
   "outputs": [],
   "source": [
    "# bir eleman liste içierisinde varmı "
   ]
  },
  {
   "cell_type": "code",
   "execution_count": null,
   "id": "4d7e26cf",
   "metadata": {},
   "outputs": [],
   "source": [
    "yeniliste=[\"hello\", 1, 2, True, [1,2]]"
   ]
  },
  {
   "cell_type": "code",
   "execution_count": null,
   "id": "48ef8170",
   "metadata": {},
   "outputs": [],
   "source": [
    "1 in yeniliste"
   ]
  },
  {
   "cell_type": "code",
   "execution_count": null,
   "id": "3768ec09",
   "metadata": {},
   "outputs": [],
   "source": [
    "\"hello\" in yeniliste"
   ]
  },
  {
   "cell_type": "code",
   "execution_count": null,
   "id": "10029654",
   "metadata": {},
   "outputs": [],
   "source": []
  },
  {
   "cell_type": "code",
   "execution_count": null,
   "id": "3a6445dd",
   "metadata": {},
   "outputs": [],
   "source": [
    "# list() \n",
    "\n",
    "# fonksiyondur, içine aldığı farklı veri tiplerindeki değişkenleri liste olarak dönüştürür"
   ]
  },
  {
   "cell_type": "code",
   "execution_count": null,
   "id": "675c4132",
   "metadata": {},
   "outputs": [],
   "source": [
    "list(\"merhaba\")"
   ]
  },
  {
   "cell_type": "code",
   "execution_count": null,
   "id": "fa091ab6",
   "metadata": {},
   "outputs": [],
   "source": [
    "tuple=(1,23,57)"
   ]
  },
  {
   "cell_type": "code",
   "execution_count": null,
   "id": "7ed2c7c8",
   "metadata": {},
   "outputs": [],
   "source": [
    "list(tuple)"
   ]
  },
  {
   "cell_type": "code",
   "execution_count": null,
   "id": "6158f172",
   "metadata": {},
   "outputs": [],
   "source": []
  },
  {
   "cell_type": "code",
   "execution_count": null,
   "id": "6aabcc65",
   "metadata": {},
   "outputs": [],
   "source": [
    "# range()    \n",
    "\n",
    "# sayı üretmek için kullanılır (start,stop,step) argümanları vardır"
   ]
  },
  {
   "cell_type": "code",
   "execution_count": 108,
   "id": "aeab34d0",
   "metadata": {},
   "outputs": [
    {
     "data": {
      "text/plain": [
       "range(10, 101, 10)"
      ]
     },
     "execution_count": 108,
     "metadata": {},
     "output_type": "execute_result"
    }
   ],
   "source": [
    "range(10,101,10)              # bu şekilde çalıştırırsak bir obje üretmiş olur fakat istediğimiz liste formatında olmaz"
   ]
  },
  {
   "cell_type": "code",
   "execution_count": 109,
   "id": "5a9c7d85",
   "metadata": {},
   "outputs": [
    {
     "data": {
      "text/plain": [
       "[10, 20, 30, 40, 50, 60, 70, 80, 90, 100]"
      ]
     },
     "execution_count": 109,
     "metadata": {},
     "output_type": "execute_result"
    }
   ],
   "source": [
    "list(range(10,101,10) )        # 10 dan başlayıp 101 e kadar dahil değil 10 ar artarak sayı üretti"
   ]
  },
  {
   "cell_type": "code",
   "execution_count": 110,
   "id": "8aee4146",
   "metadata": {},
   "outputs": [
    {
     "data": {
      "text/plain": [
       "[1,\n",
       " 2,\n",
       " 3,\n",
       " 4,\n",
       " 5,\n",
       " 6,\n",
       " 7,\n",
       " 8,\n",
       " 9,\n",
       " 10,\n",
       " 11,\n",
       " 12,\n",
       " 13,\n",
       " 14,\n",
       " 15,\n",
       " 16,\n",
       " 17,\n",
       " 18,\n",
       " 19,\n",
       " 20,\n",
       " 21,\n",
       " 22,\n",
       " 23,\n",
       " 24,\n",
       " 25,\n",
       " 26,\n",
       " 27,\n",
       " 28,\n",
       " 29,\n",
       " 30,\n",
       " 31,\n",
       " 32,\n",
       " 33,\n",
       " 34,\n",
       " 35,\n",
       " 36,\n",
       " 37,\n",
       " 38,\n",
       " 39,\n",
       " 40,\n",
       " 41,\n",
       " 42,\n",
       " 43,\n",
       " 44,\n",
       " 45,\n",
       " 46,\n",
       " 47,\n",
       " 48,\n",
       " 49]"
      ]
     },
     "execution_count": 110,
     "metadata": {},
     "output_type": "execute_result"
    }
   ],
   "source": [
    "list(range(1,50))"
   ]
  },
  {
   "cell_type": "code",
   "execution_count": null,
   "id": "a70031ad",
   "metadata": {},
   "outputs": [],
   "source": []
  },
  {
   "cell_type": "code",
   "execution_count": null,
   "id": "802b9fa3",
   "metadata": {},
   "outputs": [],
   "source": [
    "# any  /  all\n",
    "\n",
    "# listenin true yada false durumunu incelemeye yarar\n",
    "# all  : and ler. and ile aynı mantıkta çalışır. listenin bir elemanı False ise False döner\n",
    "# any  : or lar. or la aynı mantıkta çalışır, listenin bir elemanı True ise True döner"
   ]
  },
  {
   "cell_type": "code",
   "execution_count": 111,
   "id": "44927207",
   "metadata": {},
   "outputs": [],
   "source": [
    "numbers=[1,0,0,1,1]"
   ]
  },
  {
   "cell_type": "code",
   "execution_count": 112,
   "id": "58f931a3",
   "metadata": {},
   "outputs": [
    {
     "data": {
      "text/plain": [
       "True"
      ]
     },
     "execution_count": 112,
     "metadata": {},
     "output_type": "execute_result"
    }
   ],
   "source": [
    "any(numbers)"
   ]
  },
  {
   "cell_type": "code",
   "execution_count": 113,
   "id": "25e07bbe",
   "metadata": {},
   "outputs": [
    {
     "data": {
      "text/plain": [
       "False"
      ]
     },
     "execution_count": 113,
     "metadata": {},
     "output_type": "execute_result"
    }
   ],
   "source": [
    "all(numbers)"
   ]
  },
  {
   "cell_type": "code",
   "execution_count": null,
   "id": "3ae6e3ab",
   "metadata": {},
   "outputs": [],
   "source": []
  },
  {
   "cell_type": "code",
   "execution_count": null,
   "id": "28c7b9c3",
   "metadata": {},
   "outputs": [],
   "source": [
    "# sum()   /  max()    /    min()\n",
    " \n",
    "# listenin elemanlarının toplamını , en küçük ve en büyük elemanlarını döndürürler"
   ]
  },
  {
   "cell_type": "code",
   "execution_count": null,
   "id": "38760edb",
   "metadata": {},
   "outputs": [],
   "source": [
    "numberslist=[5, 8, 15, 2, 11, 34]"
   ]
  },
  {
   "cell_type": "code",
   "execution_count": null,
   "id": "5b81adc7",
   "metadata": {},
   "outputs": [],
   "source": [
    "max(numberslist)"
   ]
  },
  {
   "cell_type": "code",
   "execution_count": null,
   "id": "dfd6090e",
   "metadata": {},
   "outputs": [],
   "source": [
    "min(numberslist)"
   ]
  },
  {
   "cell_type": "code",
   "execution_count": null,
   "id": "95d2b475",
   "metadata": {},
   "outputs": [],
   "source": [
    "sum(numberslist)            "
   ]
  },
  {
   "cell_type": "code",
   "execution_count": null,
   "id": "94858dd3",
   "metadata": {},
   "outputs": [],
   "source": [
    "ortalama=sum(numberslist)/len(numberslist)"
   ]
  },
  {
   "cell_type": "code",
   "execution_count": null,
   "id": "aece0b9f",
   "metadata": {},
   "outputs": [],
   "source": [
    "ortalama"
   ]
  },
  {
   "cell_type": "code",
   "execution_count": null,
   "id": "95088897",
   "metadata": {},
   "outputs": [],
   "source": []
  },
  {
   "cell_type": "code",
   "execution_count": 104,
   "id": "4c227e1f",
   "metadata": {},
   "outputs": [],
   "source": [
    "liste1=['apple', 'banana', 'cherry']\n",
    "liste2=[\"mango\", \"pineapple\", \"papaya\"]"
   ]
  },
  {
   "cell_type": "code",
   "execution_count": 105,
   "id": "78325f3f",
   "metadata": {},
   "outputs": [
    {
     "data": {
      "text/plain": [
       "['apple', 'banana', 'cherry', 'mango', 'pineapple', 'papaya']"
      ]
     },
     "execution_count": 105,
     "metadata": {},
     "output_type": "execute_result"
    }
   ],
   "source": [
    "liste1+liste2"
   ]
  },
  {
   "cell_type": "code",
   "execution_count": null,
   "id": "150c0a2d",
   "metadata": {},
   "outputs": [],
   "source": []
  },
  {
   "cell_type": "code",
   "execution_count": 106,
   "id": "8936d6ea",
   "metadata": {},
   "outputs": [
    {
     "data": {
      "text/plain": [
       "True"
      ]
     },
     "execution_count": 106,
     "metadata": {},
     "output_type": "execute_result"
    }
   ],
   "source": [
    "[1,10,100]>[1,10,99]"
   ]
  },
  {
   "cell_type": "code",
   "execution_count": null,
   "id": "f6457381",
   "metadata": {},
   "outputs": [],
   "source": []
  },
  {
   "cell_type": "code",
   "execution_count": 107,
   "id": "7f14dd7f",
   "metadata": {},
   "outputs": [
    {
     "name": "stdout",
     "output_type": "stream",
     "text": [
      "kelime giriniznaber\n",
      "[5]\n"
     ]
    }
   ],
   "source": [
    "# kullanıcıdan alınan kelimenin tplam karakter sayısını bir listeye ekleyen program yazın\n",
    "\n",
    "listem=[]\n",
    "\n",
    "word=input(\"kelime giriniz\")\n",
    "listem.append(len(word))\n",
    "\n",
    "print(listem)"
   ]
  },
  {
   "cell_type": "code",
   "execution_count": null,
   "id": "e002bad3",
   "metadata": {},
   "outputs": [],
   "source": [
    "# range ile 0 ile 100 arasında ikişer ikişer artan bir liste oluşturalım listedeki 88 in sağına \"istanbul ekleyeli\""
   ]
  },
  {
   "cell_type": "code",
   "execution_count": 124,
   "id": "53befe7b",
   "metadata": {},
   "outputs": [
    {
     "data": {
      "text/plain": [
       "44"
      ]
     },
     "execution_count": 124,
     "metadata": {},
     "output_type": "execute_result"
    }
   ],
   "source": [
    "mylist=list(range(0,101,2))\n",
    "\n",
    "mylist.index(88)"
   ]
  },
  {
   "cell_type": "code",
   "execution_count": 122,
   "id": "108a224b",
   "metadata": {},
   "outputs": [],
   "source": [
    "mylist.insert(45,\"istanbul\")"
   ]
  },
  {
   "cell_type": "code",
   "execution_count": 123,
   "id": "40964a7b",
   "metadata": {},
   "outputs": [
    {
     "data": {
      "text/plain": [
       "[0,\n",
       " 2,\n",
       " 4,\n",
       " 6,\n",
       " 8,\n",
       " 10,\n",
       " 12,\n",
       " 14,\n",
       " 16,\n",
       " 18,\n",
       " 20,\n",
       " 22,\n",
       " 24,\n",
       " 26,\n",
       " 28,\n",
       " 30,\n",
       " 32,\n",
       " 34,\n",
       " 36,\n",
       " 38,\n",
       " 40,\n",
       " 42,\n",
       " 44,\n",
       " 46,\n",
       " 48,\n",
       " 50,\n",
       " 52,\n",
       " 54,\n",
       " 56,\n",
       " 58,\n",
       " 60,\n",
       " 62,\n",
       " 64,\n",
       " 66,\n",
       " 68,\n",
       " 70,\n",
       " 72,\n",
       " 74,\n",
       " 76,\n",
       " 78,\n",
       " 80,\n",
       " 82,\n",
       " 84,\n",
       " 86,\n",
       " 88,\n",
       " 'istanbul',\n",
       " 90,\n",
       " 92,\n",
       " 94,\n",
       " 96,\n",
       " 98,\n",
       " 100]"
      ]
     },
     "execution_count": 123,
     "metadata": {},
     "output_type": "execute_result"
    }
   ],
   "source": [
    "mylist"
   ]
  },
  {
   "cell_type": "code",
   "execution_count": 114,
   "id": "98cef024",
   "metadata": {},
   "outputs": [],
   "source": [
    "liste1=['apple', 'banana', 'cherry']"
   ]
  },
  {
   "cell_type": "code",
   "execution_count": 115,
   "id": "8948d8ec",
   "metadata": {},
   "outputs": [],
   "source": [
    "liste1[-1]=\"kivi\""
   ]
  },
  {
   "cell_type": "code",
   "execution_count": 116,
   "id": "d776e490",
   "metadata": {},
   "outputs": [
    {
     "data": {
      "text/plain": [
       "['apple', 'banana', 'kivi']"
      ]
     },
     "execution_count": 116,
     "metadata": {},
     "output_type": "execute_result"
    }
   ],
   "source": [
    "liste1"
   ]
  },
  {
   "cell_type": "code",
   "execution_count": 117,
   "id": "7c9e6bc4",
   "metadata": {},
   "outputs": [],
   "source": [
    "liste1[:1]=\"cherry\"                 # eşitlik için bir alan secersek eşitlediğimiz elemanı parcalayarak listeye donusturup ekler"
   ]
  },
  {
   "cell_type": "code",
   "execution_count": 118,
   "id": "2caf5dd9",
   "metadata": {},
   "outputs": [
    {
     "data": {
      "text/plain": [
       "['c', 'h', 'e', 'r', 'r', 'y', 'banana', 'kivi']"
      ]
     },
     "execution_count": 118,
     "metadata": {},
     "output_type": "execute_result"
    }
   ],
   "source": [
    "liste1"
   ]
  },
  {
   "cell_type": "code",
   "execution_count": null,
   "id": "f23dc185",
   "metadata": {},
   "outputs": [],
   "source": []
  }
 ],
 "metadata": {
  "kernelspec": {
   "display_name": "Python 3 (ipykernel)",
   "language": "python",
   "name": "python3"
  },
  "language_info": {
   "codemirror_mode": {
    "name": "ipython",
    "version": 3
   },
   "file_extension": ".py",
   "mimetype": "text/x-python",
   "name": "python",
   "nbconvert_exporter": "python",
   "pygments_lexer": "ipython3",
   "version": "3.9.12"
  }
 },
 "nbformat": 4,
 "nbformat_minor": 5
}
