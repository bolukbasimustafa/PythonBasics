{
 "cells": [
  {
   "cell_type": "markdown",
   "id": "d64121fe",
   "metadata": {},
   "source": [
    "# string"
   ]
  },
  {
   "cell_type": "markdown",
   "id": "b050603d",
   "metadata": {},
   "source": [
    "- Assign String to a Variable"
   ]
  },
  {
   "cell_type": "code",
   "execution_count": 1,
   "id": "9e70d295",
   "metadata": {},
   "outputs": [],
   "source": [
    "x= \"hello\"            # bir değişkene string bir ifade tanımlama"
   ]
  },
  {
   "cell_type": "code",
   "execution_count": 2,
   "id": "3e4db9f7",
   "metadata": {},
   "outputs": [
    {
     "data": {
      "text/plain": [
       "'hello'"
      ]
     },
     "execution_count": 2,
     "metadata": {},
     "output_type": "execute_result"
    }
   ],
   "source": [
    "x"
   ]
  },
  {
   "cell_type": "code",
   "execution_count": null,
   "id": "193de148",
   "metadata": {},
   "outputs": [],
   "source": []
  },
  {
   "cell_type": "markdown",
   "id": "6320ea5c",
   "metadata": {},
   "source": [
    "- len() function"
   ]
  },
  {
   "cell_type": "code",
   "execution_count": 3,
   "id": "25d105c1",
   "metadata": {},
   "outputs": [],
   "source": [
    "# len() fonksiyonu print() ve input() gibi bir builtin function dır. tüm data tipleri için kullanılır. \n",
    "# içerisinde yer alan string değişkenin karakter sayısını döndürür\n",
    "# lenght den geliyor"
   ]
  },
  {
   "cell_type": "code",
   "execution_count": 4,
   "id": "18821897",
   "metadata": {},
   "outputs": [],
   "source": [
    "x=\"Hello, World!\""
   ]
  },
  {
   "cell_type": "code",
   "execution_count": 5,
   "id": "a40a41d3",
   "metadata": {},
   "outputs": [
    {
     "data": {
      "text/plain": [
       "13"
      ]
     },
     "execution_count": 5,
     "metadata": {},
     "output_type": "execute_result"
    }
   ],
   "source": [
    "len(x)             \n",
    "# print(len(x))"
   ]
  },
  {
   "cell_type": "code",
   "execution_count": 6,
   "id": "9b7eb680",
   "metadata": {},
   "outputs": [],
   "source": [
    "# dk 45"
   ]
  },
  {
   "cell_type": "code",
   "execution_count": 7,
   "id": "37b8b72d",
   "metadata": {},
   "outputs": [
    {
     "data": {
      "text/plain": [
       "7"
      ]
     },
     "execution_count": 7,
     "metadata": {},
     "output_type": "execute_result"
    }
   ],
   "source": [
    "len(\"merhaba\")"
   ]
  },
  {
   "cell_type": "code",
   "execution_count": 8,
   "id": "cdc5c335",
   "metadata": {},
   "outputs": [
    {
     "data": {
      "text/plain": [
       "17"
      ]
     },
     "execution_count": 8,
     "metadata": {},
     "output_type": "execute_result"
    }
   ],
   "source": [
    "len(\"     ------      \")"
   ]
  },
  {
   "cell_type": "code",
   "execution_count": 9,
   "id": "85dd7841",
   "metadata": {},
   "outputs": [],
   "source": [
    "myString=\"Hello World????....\""
   ]
  },
  {
   "cell_type": "code",
   "execution_count": 10,
   "id": "022dab71",
   "metadata": {},
   "outputs": [
    {
     "data": {
      "text/plain": [
       "19"
      ]
     },
     "execution_count": 10,
     "metadata": {},
     "output_type": "execute_result"
    }
   ],
   "source": [
    "len(myString)"
   ]
  },
  {
   "cell_type": "code",
   "execution_count": 11,
   "id": "679ed064",
   "metadata": {},
   "outputs": [],
   "source": [
    "myList=[\"hello\", 1, 1.5, False, [5,6,7]]"
   ]
  },
  {
   "cell_type": "code",
   "execution_count": 12,
   "id": "7566c22f",
   "metadata": {},
   "outputs": [
    {
     "data": {
      "text/plain": [
       "5"
      ]
     },
     "execution_count": 12,
     "metadata": {},
     "output_type": "execute_result"
    }
   ],
   "source": [
    "len(myList)"
   ]
  },
  {
   "cell_type": "code",
   "execution_count": 13,
   "id": "f6c7d0be",
   "metadata": {},
   "outputs": [],
   "source": [
    "myTuple=(\"hello\", 1, 1.5, False, [5,6,7])"
   ]
  },
  {
   "cell_type": "code",
   "execution_count": 14,
   "id": "112fc9ac",
   "metadata": {},
   "outputs": [
    {
     "data": {
      "text/plain": [
       "5"
      ]
     },
     "execution_count": 14,
     "metadata": {},
     "output_type": "execute_result"
    }
   ],
   "source": [
    "len(myTuple)"
   ]
  },
  {
   "cell_type": "code",
   "execution_count": null,
   "id": "a076cd86",
   "metadata": {},
   "outputs": [],
   "source": []
  },
  {
   "cell_type": "markdown",
   "id": "46a106f2",
   "metadata": {},
   "source": [
    "- Access elements of the string"
   ]
  },
  {
   "cell_type": "code",
   "execution_count": 15,
   "id": "a2b7aa45",
   "metadata": {},
   "outputs": [],
   "source": [
    "# Bir string değişkenin içerisinde belirli nokta, harf ve karaktere ulaşmak için kullanılır\n",
    "# String değerin arka planda tutulan index değerlerine göre işlem yapar. istenilen index teki elemanı döndürür\n",
    "# indexler soldan sağa 0 dan başlar 0,1,2,3... devam eder, sağdan sola -1 den başlar ...,-3,-2,-1 olarak devam eder"
   ]
  },
  {
   "cell_type": "code",
   "execution_count": 16,
   "id": "9e1b60b4",
   "metadata": {},
   "outputs": [],
   "source": [
    "x=\"Hello World!\""
   ]
  },
  {
   "cell_type": "code",
   "execution_count": 17,
   "id": "48bd076e",
   "metadata": {},
   "outputs": [
    {
     "data": {
      "text/plain": [
       "'H'"
      ]
     },
     "execution_count": 17,
     "metadata": {},
     "output_type": "execute_result"
    }
   ],
   "source": [
    "x[0]"
   ]
  },
  {
   "cell_type": "code",
   "execution_count": 18,
   "id": "24bb237c",
   "metadata": {},
   "outputs": [
    {
     "data": {
      "text/plain": [
       "'W'"
      ]
     },
     "execution_count": 18,
     "metadata": {},
     "output_type": "execute_result"
    }
   ],
   "source": [
    "x[6]"
   ]
  },
  {
   "cell_type": "code",
   "execution_count": 19,
   "id": "3c93ce9b",
   "metadata": {},
   "outputs": [
    {
     "data": {
      "text/plain": [
       "'!'"
      ]
     },
     "execution_count": 19,
     "metadata": {},
     "output_type": "execute_result"
    }
   ],
   "source": [
    "x[-1]"
   ]
  },
  {
   "cell_type": "code",
   "execution_count": 20,
   "id": "3d702c75",
   "metadata": {},
   "outputs": [
    {
     "data": {
      "text/plain": [
       "'e'"
      ]
     },
     "execution_count": 20,
     "metadata": {},
     "output_type": "execute_result"
    }
   ],
   "source": [
    "x[-11]"
   ]
  },
  {
   "cell_type": "code",
   "execution_count": null,
   "id": "6092846f",
   "metadata": {},
   "outputs": [],
   "source": []
  },
  {
   "cell_type": "code",
   "execution_count": 21,
   "id": "83511474",
   "metadata": {},
   "outputs": [],
   "source": [
    "# dk 55"
   ]
  },
  {
   "cell_type": "code",
   "execution_count": 22,
   "id": "f0e65b4f",
   "metadata": {},
   "outputs": [],
   "source": [
    "myString=\"Hi, how are you?\""
   ]
  },
  {
   "cell_type": "code",
   "execution_count": 23,
   "id": "9e9ae6c9",
   "metadata": {},
   "outputs": [
    {
     "data": {
      "text/plain": [
       "'o'"
      ]
     },
     "execution_count": 23,
     "metadata": {},
     "output_type": "execute_result"
    }
   ],
   "source": [
    "myString[5]"
   ]
  },
  {
   "cell_type": "code",
   "execution_count": 24,
   "id": "b5f5974e",
   "metadata": {},
   "outputs": [
    {
     "data": {
      "text/plain": [
       "'H'"
      ]
     },
     "execution_count": 24,
     "metadata": {},
     "output_type": "execute_result"
    }
   ],
   "source": [
    "myString[0]"
   ]
  },
  {
   "cell_type": "code",
   "execution_count": 25,
   "id": "c8fc72b7",
   "metadata": {},
   "outputs": [],
   "source": [
    "SonHarf = myString[-1]                     # myString in -1 index değeri SonHarf değişkenine atanmış oldu"
   ]
  },
  {
   "cell_type": "code",
   "execution_count": 26,
   "id": "e84b55f0",
   "metadata": {},
   "outputs": [
    {
     "data": {
      "text/plain": [
       "'?'"
      ]
     },
     "execution_count": 26,
     "metadata": {},
     "output_type": "execute_result"
    }
   ],
   "source": [
    "SonHarf"
   ]
  },
  {
   "cell_type": "code",
   "execution_count": 27,
   "id": "90f97dae",
   "metadata": {},
   "outputs": [
    {
     "data": {
      "text/plain": [
       "'?'"
      ]
     },
     "execution_count": 27,
     "metadata": {},
     "output_type": "execute_result"
    }
   ],
   "source": [
    "myString[len(myString)-1]   # myString değişkeninin son index değerine ulaşmak için len() değerinden 1 cıkarılır\n",
    "                            # index ler 0 dan başlar. len() ise uzunluğu karakter sayısını verir, len() index ten 1 fazla olur "
   ]
  },
  {
   "cell_type": "code",
   "execution_count": 21,
   "id": "36e86d03",
   "metadata": {},
   "outputs": [
    {
     "data": {
      "text/plain": [
       "'l'"
      ]
     },
     "execution_count": 21,
     "metadata": {},
     "output_type": "execute_result"
    }
   ],
   "source": [
    "\"hello\"[2]                  # atama yapılmadan string bir iafede de access işlemi yapılır"
   ]
  },
  {
   "cell_type": "code",
   "execution_count": null,
   "id": "5f92c02e",
   "metadata": {},
   "outputs": [],
   "source": []
  },
  {
   "cell_type": "markdown",
   "id": "151ae08b",
   "metadata": {},
   "source": [
    "- Slicing Strings"
   ]
  },
  {
   "cell_type": "code",
   "execution_count": 28,
   "id": "f65f8939",
   "metadata": {},
   "outputs": [],
   "source": [
    "# Bir string değişkenin içerisinde belirli bir aralığa ulaşmak için kullanılır\n",
    "# String değerin arka planda tutulan index değerlerine göre işlem yapar. \n",
    "# istenilen index değerler arasında yer alan elemanları döndürür. . \n",
    "# [start : stop] mantığı ile çalışır. start değeri dahildir stop değeri dahil değildir\n",
    "# index ler soldan sağa 0 dan başlar 0,1,2,3... devam eder, sağdan sola -1 den başlar ...,-3,-2,-1 olarak devam eder"
   ]
  },
  {
   "cell_type": "code",
   "execution_count": 29,
   "id": "76630894",
   "metadata": {},
   "outputs": [],
   "source": [
    "x=\"Hello World!\""
   ]
  },
  {
   "cell_type": "code",
   "execution_count": 30,
   "id": "75777b74",
   "metadata": {},
   "outputs": [
    {
     "data": {
      "text/plain": [
       "'lo Wo'"
      ]
     },
     "execution_count": 30,
     "metadata": {},
     "output_type": "execute_result"
    }
   ],
   "source": [
    "x[3:8]            # 3üncü index değer olan l den (dahil) başlar ve 8inci index değer olan r ye (dahil değil) kadar olanları alır"
   ]
  },
  {
   "cell_type": "code",
   "execution_count": 31,
   "id": "242e6869",
   "metadata": {},
   "outputs": [
    {
     "data": {
      "text/plain": [
       "'Hello Wo'"
      ]
     },
     "execution_count": 31,
     "metadata": {},
     "output_type": "execute_result"
    }
   ],
   "source": [
    "x[:8]             # start yazılmazsa 0 index den başlar ve 8inci index değer olan r ye (dahil değil) kadar olanları alır"
   ]
  },
  {
   "cell_type": "code",
   "execution_count": 32,
   "id": "e4623e49",
   "metadata": {},
   "outputs": [
    {
     "data": {
      "text/plain": [
       "'lo World!'"
      ]
     },
     "execution_count": 32,
     "metadata": {},
     "output_type": "execute_result"
    }
   ],
   "source": [
    "x[3:]             # stop yazılmazsa 3üncü index değer olan l den (dahil) başlar ve sona kadar olanları alır"
   ]
  },
  {
   "cell_type": "code",
   "execution_count": 33,
   "id": "6c7ee31e",
   "metadata": {},
   "outputs": [
    {
     "data": {
      "text/plain": [
       "'o Wor'"
      ]
     },
     "execution_count": 33,
     "metadata": {},
     "output_type": "execute_result"
    }
   ],
   "source": [
    "x[-8:-3]"
   ]
  },
  {
   "cell_type": "code",
   "execution_count": 34,
   "id": "cb0e480a",
   "metadata": {},
   "outputs": [
    {
     "data": {
      "text/plain": [
       "'o World!'"
      ]
     },
     "execution_count": 34,
     "metadata": {},
     "output_type": "execute_result"
    }
   ],
   "source": [
    "x[-8:]"
   ]
  },
  {
   "cell_type": "code",
   "execution_count": 35,
   "id": "60a5ac66",
   "metadata": {},
   "outputs": [
    {
     "data": {
      "text/plain": [
       "'Hello Wor'"
      ]
     },
     "execution_count": 35,
     "metadata": {},
     "output_type": "execute_result"
    }
   ],
   "source": [
    "x[:-3]"
   ]
  },
  {
   "cell_type": "code",
   "execution_count": null,
   "id": "5a2c8fb8",
   "metadata": {},
   "outputs": [],
   "source": []
  },
  {
   "cell_type": "code",
   "execution_count": 36,
   "id": "0ac0fc51",
   "metadata": {},
   "outputs": [],
   "source": [
    "# dk 80 (1h 20min)"
   ]
  },
  {
   "cell_type": "code",
   "execution_count": 37,
   "id": "7905c805",
   "metadata": {},
   "outputs": [],
   "source": [
    "myString=\"Apple Banana Cherry\""
   ]
  },
  {
   "cell_type": "code",
   "execution_count": 38,
   "id": "4ba2f72a",
   "metadata": {},
   "outputs": [
    {
     "data": {
      "text/plain": [
       "'Apple'"
      ]
     },
     "execution_count": 38,
     "metadata": {},
     "output_type": "execute_result"
    }
   ],
   "source": [
    "myString[:5]"
   ]
  },
  {
   "cell_type": "code",
   "execution_count": 39,
   "id": "4ada2877",
   "metadata": {},
   "outputs": [
    {
     "data": {
      "text/plain": [
       "'Banana'"
      ]
     },
     "execution_count": 39,
     "metadata": {},
     "output_type": "execute_result"
    }
   ],
   "source": [
    "myString[6:12]"
   ]
  },
  {
   "cell_type": "code",
   "execution_count": 40,
   "id": "c1e57ab4",
   "metadata": {},
   "outputs": [
    {
     "data": {
      "text/plain": [
       "'Cherry'"
      ]
     },
     "execution_count": 40,
     "metadata": {},
     "output_type": "execute_result"
    }
   ],
   "source": [
    "myString[-6:]"
   ]
  },
  {
   "cell_type": "code",
   "execution_count": 41,
   "id": "4ace4847",
   "metadata": {},
   "outputs": [
    {
     "data": {
      "text/plain": [
       "'Apple Banana'"
      ]
     },
     "execution_count": 41,
     "metadata": {},
     "output_type": "execute_result"
    }
   ],
   "source": [
    "myString[:12]"
   ]
  },
  {
   "cell_type": "code",
   "execution_count": 42,
   "id": "ddc904dd",
   "metadata": {},
   "outputs": [
    {
     "data": {
      "text/plain": [
       "'Apple Banana Cherry'"
      ]
     },
     "execution_count": 42,
     "metadata": {},
     "output_type": "execute_result"
    }
   ],
   "source": [
    "myString[:]"
   ]
  },
  {
   "cell_type": "code",
   "execution_count": 43,
   "id": "bef09e4e",
   "metadata": {},
   "outputs": [
    {
     "data": {
      "text/plain": [
       "'Apple Cherry'"
      ]
     },
     "execution_count": 43,
     "metadata": {},
     "output_type": "execute_result"
    }
   ],
   "source": [
    "myString[:5]+myString[-7:]"
   ]
  },
  {
   "cell_type": "code",
   "execution_count": null,
   "id": "0a6cd79e",
   "metadata": {},
   "outputs": [],
   "source": []
  },
  {
   "cell_type": "code",
   "execution_count": 23,
   "id": "8fa8b2e2",
   "metadata": {},
   "outputs": [],
   "source": [
    "string=\"muccratccakbbca\""
   ]
  },
  {
   "cell_type": "code",
   "execution_count": 24,
   "id": "b2eb7514",
   "metadata": {},
   "outputs": [
    {
     "data": {
      "text/plain": [
       "'murat akca'"
      ]
     },
     "execution_count": 24,
     "metadata": {},
     "output_type": "execute_result"
    }
   ],
   "source": [
    "string[:2] + string[4:7] +\" \"+ string[9:11] + string[-2:]"
   ]
  },
  {
   "cell_type": "code",
   "execution_count": null,
   "id": "b7c97ae7",
   "metadata": {},
   "outputs": [],
   "source": []
  },
  {
   "cell_type": "code",
   "execution_count": 25,
   "id": "7023801c",
   "metadata": {},
   "outputs": [
    {
     "data": {
      "text/plain": [
       "'ucac'"
      ]
     },
     "execution_count": 25,
     "metadata": {},
     "output_type": "execute_result"
    }
   ],
   "source": [
    "string[1:9:2]          # 1 index ten başlar 9 index e kadar gider 2 adımla"
   ]
  },
  {
   "cell_type": "code",
   "execution_count": 46,
   "id": "08f26048",
   "metadata": {},
   "outputs": [
    {
     "data": {
      "text/plain": [
       "'mctab'"
      ]
     },
     "execution_count": 46,
     "metadata": {},
     "output_type": "execute_result"
    }
   ],
   "source": [
    "string[::3]            # baştan sona 3 adımla gider. 0 index i yazar 3 index i yazar 6 index i yazar bu şekilde sona kadar gider"
   ]
  },
  {
   "cell_type": "code",
   "execution_count": 47,
   "id": "6d357f23",
   "metadata": {},
   "outputs": [
    {
     "data": {
      "text/plain": [
       "'mrcb'"
      ]
     },
     "execution_count": 47,
     "metadata": {},
     "output_type": "execute_result"
    }
   ],
   "source": [
    "string[::4]"
   ]
  },
  {
   "cell_type": "code",
   "execution_count": null,
   "id": "c34152ee",
   "metadata": {},
   "outputs": [],
   "source": []
  },
  {
   "cell_type": "code",
   "execution_count": 48,
   "id": "dc3f8c4a",
   "metadata": {},
   "outputs": [],
   "source": [
    "# slice() function"
   ]
  },
  {
   "cell_type": "code",
   "execution_count": 49,
   "id": "f275037d",
   "metadata": {},
   "outputs": [
    {
     "data": {
      "text/plain": [
       "slice(-4, -1, None)"
      ]
     },
     "execution_count": 49,
     "metadata": {},
     "output_type": "execute_result"
    }
   ],
   "source": [
    "slice(-4,-1)           # slice() ile sabit bir dilimleme yöntemi belirlenir. sonrasında istenilen tüm değişkenlerde \n",
    "                       # bu dilimleme yöntemi kulanılarak işlem yapılır\n",
    "                       # burda start stop yazılırken arada virgül var buna dikkat. \n",
    "                       # shift+tab ile parametrelere bak"
   ]
  },
  {
   "cell_type": "code",
   "execution_count": 50,
   "id": "6f9f0053",
   "metadata": {},
   "outputs": [],
   "source": [
    "myDilim=slice(-4,-1) "
   ]
  },
  {
   "cell_type": "code",
   "execution_count": 51,
   "id": "c15debfe",
   "metadata": {},
   "outputs": [
    {
     "data": {
      "text/plain": [
       "'err'"
      ]
     },
     "execution_count": 51,
     "metadata": {},
     "output_type": "execute_result"
    }
   ],
   "source": [
    "myString[slice(-4,-1)]"
   ]
  },
  {
   "cell_type": "code",
   "execution_count": 52,
   "id": "85aba091",
   "metadata": {},
   "outputs": [
    {
     "data": {
      "text/plain": [
       "'err'"
      ]
     },
     "execution_count": 52,
     "metadata": {},
     "output_type": "execute_result"
    }
   ],
   "source": [
    "myString[myDilim]"
   ]
  },
  {
   "cell_type": "code",
   "execution_count": 53,
   "id": "91a5bfee",
   "metadata": {},
   "outputs": [
    {
     "data": {
      "text/plain": [
       "'bbc'"
      ]
     },
     "execution_count": 53,
     "metadata": {},
     "output_type": "execute_result"
    }
   ],
   "source": [
    "string[myDilim]"
   ]
  },
  {
   "cell_type": "code",
   "execution_count": null,
   "id": "8c7ec947",
   "metadata": {},
   "outputs": [],
   "source": []
  },
  {
   "cell_type": "markdown",
   "id": "1df7afe7",
   "metadata": {},
   "source": [
    "- String Methods"
   ]
  },
  {
   "cell_type": "code",
   "execution_count": 54,
   "id": "feb11c77",
   "metadata": {},
   "outputs": [],
   "source": [
    "# methodlar aynı zamanda birer fonksiyondur. bir DATA TİPİNE BAĞLI olarak çalışırlar. \n",
    "# her metod fonksiyondur fakat her fonksiyon metod değildir\n",
    "# string metodlar, string bir değerin kendisi yada string bir değişkene bağlı olarak çalışırlar"
   ]
  },
  {
   "cell_type": "code",
   "execution_count": null,
   "id": "bdfc607d",
   "metadata": {},
   "outputs": [],
   "source": []
  },
  {
   "cell_type": "code",
   "execution_count": 55,
   "id": "226b2334",
   "metadata": {},
   "outputs": [],
   "source": [
    "# STRING.upper() / STRING.lower() \n",
    "\n",
    "# string değişkenin tüm elemanlarını büyük harf yapar (string.upper())\n",
    "# string değişkenin tüm elemanlarını küçük harf yapar (string.lower())"
   ]
  },
  {
   "cell_type": "code",
   "execution_count": 56,
   "id": "ec4b1b63",
   "metadata": {},
   "outputs": [],
   "source": [
    "x=\"Hello World!\""
   ]
  },
  {
   "cell_type": "code",
   "execution_count": 57,
   "id": "d6681440",
   "metadata": {},
   "outputs": [
    {
     "data": {
      "text/plain": [
       "'HELLO WORLD!'"
      ]
     },
     "execution_count": 57,
     "metadata": {},
     "output_type": "execute_result"
    }
   ],
   "source": [
    "x.upper()"
   ]
  },
  {
   "cell_type": "code",
   "execution_count": 58,
   "id": "4c244dc8",
   "metadata": {},
   "outputs": [
    {
     "data": {
      "text/plain": [
       "'MERHABA DÜNYA!'"
      ]
     },
     "execution_count": 58,
     "metadata": {},
     "output_type": "execute_result"
    }
   ],
   "source": [
    "\"Merhaba Dünya!\".upper()"
   ]
  },
  {
   "cell_type": "code",
   "execution_count": 59,
   "id": "5003a75f",
   "metadata": {},
   "outputs": [],
   "source": [
    "y='HELLO WORLD!'"
   ]
  },
  {
   "cell_type": "code",
   "execution_count": 60,
   "id": "978b6b1c",
   "metadata": {},
   "outputs": [
    {
     "data": {
      "text/plain": [
       "'hello world!'"
      ]
     },
     "execution_count": 60,
     "metadata": {},
     "output_type": "execute_result"
    }
   ],
   "source": [
    "y.lower()"
   ]
  },
  {
   "cell_type": "code",
   "execution_count": 61,
   "id": "ce6a5e78",
   "metadata": {},
   "outputs": [
    {
     "data": {
      "text/plain": [
       "'hello world!'"
      ]
     },
     "execution_count": 61,
     "metadata": {},
     "output_type": "execute_result"
    }
   ],
   "source": [
    "'HELLO WORLD!'.lower()"
   ]
  },
  {
   "cell_type": "code",
   "execution_count": 62,
   "id": "194c4fb9",
   "metadata": {},
   "outputs": [
    {
     "data": {
      "text/plain": [
       "'world!'"
      ]
     },
     "execution_count": 62,
     "metadata": {},
     "output_type": "execute_result"
    }
   ],
   "source": [
    "'HELLO WORLD!'[-6:].lower()"
   ]
  },
  {
   "cell_type": "code",
   "execution_count": 63,
   "id": "d7579f92",
   "metadata": {},
   "outputs": [],
   "source": [
    "# dk 110 (1h 50 min)"
   ]
  },
  {
   "cell_type": "code",
   "execution_count": 64,
   "id": "a832556d",
   "metadata": {},
   "outputs": [],
   "source": [
    "str1=\"hello\""
   ]
  },
  {
   "cell_type": "code",
   "execution_count": 65,
   "id": "c598bad1",
   "metadata": {},
   "outputs": [
    {
     "data": {
      "text/plain": [
       "'HELLO'"
      ]
     },
     "execution_count": 65,
     "metadata": {},
     "output_type": "execute_result"
    }
   ],
   "source": [
    "str1.upper()"
   ]
  },
  {
   "cell_type": "code",
   "execution_count": 66,
   "id": "a0b3307a",
   "metadata": {},
   "outputs": [
    {
     "data": {
      "text/plain": [
       "'hello'"
      ]
     },
     "execution_count": 66,
     "metadata": {},
     "output_type": "execute_result"
    }
   ],
   "source": [
    "str1            # methodlar string değeri değiştirmez. değişiklik olması yeni bir değişkene atama (asignment) yapılması gerekir"
   ]
  },
  {
   "cell_type": "code",
   "execution_count": 67,
   "id": "dd2e1bda",
   "metadata": {},
   "outputs": [],
   "source": [
    "newstr=str1.upper()"
   ]
  },
  {
   "cell_type": "code",
   "execution_count": 68,
   "id": "e373fa72",
   "metadata": {},
   "outputs": [
    {
     "data": {
      "text/plain": [
       "'HELLO'"
      ]
     },
     "execution_count": 68,
     "metadata": {},
     "output_type": "execute_result"
    }
   ],
   "source": [
    "newstr"
   ]
  },
  {
   "cell_type": "code",
   "execution_count": 69,
   "id": "c4a268fe",
   "metadata": {},
   "outputs": [],
   "source": [
    "str2=\"HELLO\""
   ]
  },
  {
   "cell_type": "code",
   "execution_count": 70,
   "id": "3298fdb5",
   "metadata": {},
   "outputs": [
    {
     "data": {
      "text/plain": [
       "'hello'"
      ]
     },
     "execution_count": 70,
     "metadata": {},
     "output_type": "execute_result"
    }
   ],
   "source": [
    "str2.lower()"
   ]
  },
  {
   "cell_type": "code",
   "execution_count": null,
   "id": "92275404",
   "metadata": {},
   "outputs": [],
   "source": []
  },
  {
   "cell_type": "code",
   "execution_count": 71,
   "id": "62ea8707",
   "metadata": {},
   "outputs": [],
   "source": [
    "# STRING.swapcase() \n",
    "\n",
    "# string değişkenin küçük harflerini büyük, büyük harflerini küçük yapar"
   ]
  },
  {
   "cell_type": "code",
   "execution_count": 72,
   "id": "3e52d3c7",
   "metadata": {},
   "outputs": [
    {
     "data": {
      "text/plain": [
       "'THIs Is a PENci̇l'"
      ]
     },
     "execution_count": 72,
     "metadata": {},
     "output_type": "execute_result"
    }
   ],
   "source": [
    "\"thiS iS A penCİL\".swapcase()"
   ]
  },
  {
   "cell_type": "code",
   "execution_count": null,
   "id": "78238a6b",
   "metadata": {},
   "outputs": [],
   "source": []
  },
  {
   "cell_type": "code",
   "execution_count": null,
   "id": "8e3d34f1",
   "metadata": {},
   "outputs": [],
   "source": [
    "# kullanıcıdan alınan ismin tüm harflerini büyük harf yapıp ekrana basan kodu yazın\n",
    "name=input(\"isim giriniz\")\n",
    "print(name.upper())"
   ]
  },
  {
   "cell_type": "code",
   "execution_count": null,
   "id": "a5aba098",
   "metadata": {},
   "outputs": [],
   "source": []
  },
  {
   "cell_type": "code",
   "execution_count": null,
   "id": "b7982133",
   "metadata": {},
   "outputs": [],
   "source": [
    "# STRING.title() \n",
    "\n",
    "# string değişken içerisindeki her kelimenin baş harflerini büyük yapar"
   ]
  },
  {
   "cell_type": "code",
   "execution_count": null,
   "id": "66119998",
   "metadata": {},
   "outputs": [],
   "source": [
    "\"this is s pencil\".title()"
   ]
  },
  {
   "cell_type": "code",
   "execution_count": null,
   "id": "0cb6d67a",
   "metadata": {},
   "outputs": [],
   "source": []
  },
  {
   "cell_type": "code",
   "execution_count": null,
   "id": "7a355f58",
   "metadata": {},
   "outputs": [],
   "source": [
    "# STRING.capitalize() \n",
    "\n",
    "# string değişkenin sadece baş harfini büyük yapar"
   ]
  },
  {
   "cell_type": "code",
   "execution_count": 13,
   "id": "92837f1a",
   "metadata": {},
   "outputs": [
    {
     "data": {
      "text/plain": [
       "'This is s pencil'"
      ]
     },
     "execution_count": 13,
     "metadata": {},
     "output_type": "execute_result"
    }
   ],
   "source": [
    "\"this is s pencil\".capitalize()"
   ]
  },
  {
   "cell_type": "code",
   "execution_count": null,
   "id": "94deb37d",
   "metadata": {},
   "outputs": [],
   "source": []
  },
  {
   "cell_type": "code",
   "execution_count": null,
   "id": "6459c09a",
   "metadata": {},
   "outputs": [],
   "source": [
    "# STRING.strip()       STRING.rstrip() / STRING.lstrip()\n",
    "\n",
    "# string değişkenin sağda ve solda yer alan boşlukları siler. (soymak anlamına gelir)\n",
    "# default değer boşluktur, boşlukları siler. parametre girilirse onu siler\n",
    "# STRING.rstrip() sadece sağ tarafı siler\n",
    "# STRING.lstrip() sadece sol tarafı siler"
   ]
  },
  {
   "cell_type": "code",
   "execution_count": null,
   "id": "49fe9cb9",
   "metadata": {},
   "outputs": [],
   "source": [
    "x=\"    Hello World!     \""
   ]
  },
  {
   "cell_type": "code",
   "execution_count": null,
   "id": "25e76cc4",
   "metadata": {},
   "outputs": [],
   "source": [
    "x.strip()"
   ]
  },
  {
   "cell_type": "code",
   "execution_count": null,
   "id": "c43d1772",
   "metadata": {},
   "outputs": [],
   "source": [
    "y=\"aaaaHello World!aaaa\""
   ]
  },
  {
   "cell_type": "code",
   "execution_count": null,
   "id": "ff4e0751",
   "metadata": {},
   "outputs": [],
   "source": [
    "y.strip(\"a\").upper()"
   ]
  },
  {
   "cell_type": "code",
   "execution_count": null,
   "id": "ae883274",
   "metadata": {},
   "outputs": [],
   "source": [
    "y.rstrip(\"a\")"
   ]
  },
  {
   "cell_type": "code",
   "execution_count": null,
   "id": "96cc2946",
   "metadata": {},
   "outputs": [],
   "source": [
    "y.lstrip(\"a\")"
   ]
  },
  {
   "cell_type": "code",
   "execution_count": null,
   "id": "ce0bc1ea",
   "metadata": {},
   "outputs": [],
   "source": []
  },
  {
   "cell_type": "code",
   "execution_count": null,
   "id": "a81a3803",
   "metadata": {},
   "outputs": [],
   "source": [
    "# STRING.split()\n",
    "\n",
    "# string değişkeni içerisinde yer alan parametreden bölerek liste tipinde döndürür\n",
    "# default değer boşluktur birşey yazılmazsa boşluktan böler."
   ]
  },
  {
   "cell_type": "code",
   "execution_count": null,
   "id": "b2450cd9",
   "metadata": {},
   "outputs": [],
   "source": [
    "x=\"Hello World!\""
   ]
  },
  {
   "cell_type": "code",
   "execution_count": null,
   "id": "050d55f7",
   "metadata": {},
   "outputs": [],
   "source": [
    "x.split()"
   ]
  },
  {
   "cell_type": "code",
   "execution_count": null,
   "id": "337d9d7d",
   "metadata": {},
   "outputs": [],
   "source": [
    "x.split(\"o\")"
   ]
  },
  {
   "cell_type": "code",
   "execution_count": null,
   "id": "8b29683c",
   "metadata": {},
   "outputs": [],
   "source": []
  },
  {
   "cell_type": "code",
   "execution_count": null,
   "id": "fcafc07e",
   "metadata": {},
   "outputs": [],
   "source": [
    "# STRING.replace()\n",
    "\n",
    "# (oldvalue,newvalue,count) parametreleri verilir. eski değeri yeni değerle değiştirir. count değeri yazılırsa o kadar yapar \n",
    "# bu değişikliği. yazılmazsa default değer -1 dir yani tüm değerler için yapar"
   ]
  },
  {
   "cell_type": "code",
   "execution_count": null,
   "id": "18d5346d",
   "metadata": {},
   "outputs": [],
   "source": [
    "x=\"Hello World!\""
   ]
  },
  {
   "cell_type": "code",
   "execution_count": null,
   "id": "b2d58f0f",
   "metadata": {},
   "outputs": [],
   "source": [
    "x.replace(\"e\",\"oooo\")              # default değer -1. tüm \"e\" lerin yerine \"oooo\" yazar"
   ]
  },
  {
   "cell_type": "code",
   "execution_count": null,
   "id": "d2e74d1b",
   "metadata": {},
   "outputs": [],
   "source": [
    "x.replace(\"l\",\"oooo\",2)            # count=2 olduğu için ilk 2 \"l\" değeri yerine \"oooo\" yazar"
   ]
  },
  {
   "cell_type": "code",
   "execution_count": null,
   "id": "44f40431",
   "metadata": {},
   "outputs": [],
   "source": [
    "x.replace(\"l\",\"oooo\")              # default değer -1. tüm \"l\" lerin yerine \"oooo\" yazar"
   ]
  },
  {
   "cell_type": "code",
   "execution_count": null,
   "id": "f298a4a8",
   "metadata": {},
   "outputs": [],
   "source": []
  },
  {
   "cell_type": "code",
   "execution_count": null,
   "id": "6b84e4b0",
   "metadata": {},
   "outputs": [],
   "source": [
    "# 150 (2h 30min)"
   ]
  },
  {
   "cell_type": "code",
   "execution_count": null,
   "id": "844c308c",
   "metadata": {},
   "outputs": [],
   "source": [
    "string=\"muccratccakbbca\""
   ]
  },
  {
   "cell_type": "code",
   "execution_count": null,
   "id": "56447420",
   "metadata": {},
   "outputs": [],
   "source": [
    "string.replace(\"cc\",\"\").replace(\"b\",\"\")"
   ]
  },
  {
   "cell_type": "code",
   "execution_count": null,
   "id": "8748c356",
   "metadata": {},
   "outputs": [],
   "source": []
  },
  {
   "cell_type": "code",
   "execution_count": null,
   "id": "fb8f0250",
   "metadata": {},
   "outputs": [],
   "source": [
    "# basit bir kriptolama"
   ]
  },
  {
   "cell_type": "code",
   "execution_count": null,
   "id": "38d20220",
   "metadata": {},
   "outputs": [],
   "source": [
    "sifreleyici=str.maketrans(\"aiouhe\",\"&5+^?=\")     \n",
    "# str.maketrans() metodu ile ilk parametredeki değerler yerine ikinci parametredeki değerler yazılır"
   ]
  },
  {
   "cell_type": "code",
   "execution_count": null,
   "id": "57217d42",
   "metadata": {},
   "outputs": [],
   "source": [
    "password=\"hello world\""
   ]
  },
  {
   "cell_type": "code",
   "execution_count": null,
   "id": "0bf17eeb",
   "metadata": {},
   "outputs": [],
   "source": [
    "kriptolupassword=password.translate(sifreleyici)"
   ]
  },
  {
   "cell_type": "code",
   "execution_count": null,
   "id": "cb9fec4b",
   "metadata": {},
   "outputs": [],
   "source": [
    "kriptolupassword"
   ]
  },
  {
   "cell_type": "code",
   "execution_count": null,
   "id": "38289b52",
   "metadata": {},
   "outputs": [],
   "source": []
  },
  {
   "cell_type": "code",
   "execution_count": null,
   "id": "77793cfe",
   "metadata": {},
   "outputs": [],
   "source": [
    "sifrecozucu=str.maketrans(\"&5+^?=\",\"aiouhe\")"
   ]
  },
  {
   "cell_type": "code",
   "execution_count": null,
   "id": "b0e59ed6",
   "metadata": {},
   "outputs": [],
   "source": [
    "cozulenpassword=kriptolupassword.translate(sifrecozucu)"
   ]
  },
  {
   "cell_type": "code",
   "execution_count": null,
   "id": "9bbc82d2",
   "metadata": {},
   "outputs": [],
   "source": [
    "cozulenpassword"
   ]
  },
  {
   "cell_type": "code",
   "execution_count": null,
   "id": "a4255671",
   "metadata": {},
   "outputs": [],
   "source": []
  },
  {
   "cell_type": "code",
   "execution_count": null,
   "id": "dc907ee7",
   "metadata": {},
   "outputs": [],
   "source": [
    "# string concatenation\n",
    "\n",
    "# iki string in yanyana yazılması birleştirilmesi. + işareti ile yapılır. burdaki matematiksel bir işlem değildir. "
   ]
  },
  {
   "cell_type": "code",
   "execution_count": null,
   "id": "8c3a681d",
   "metadata": {},
   "outputs": [],
   "source": [
    "x=\"Hello\"\n",
    "y=\"World\"\n",
    "\n",
    "z=x+y\n",
    "z"
   ]
  },
  {
   "cell_type": "code",
   "execution_count": null,
   "id": "70c94da5",
   "metadata": {},
   "outputs": [],
   "source": [
    "age=36\n",
    "\n",
    "txt=\"my name is john\" + age                     # typeerror veriyor. farklı data tipleri concat yapılmaz\n",
    "txt"
   ]
  },
  {
   "cell_type": "code",
   "execution_count": null,
   "id": "c9f7481a",
   "metadata": {},
   "outputs": [],
   "source": []
  },
  {
   "cell_type": "code",
   "execution_count": null,
   "id": "dcca6092",
   "metadata": {},
   "outputs": [],
   "source": [
    "# STRING.format(variable)\n",
    "\n",
    "# standart bir metin içerisinde belirli yer yada yerleri değiştimek istediğimizde, başka bir yerde tanımlanmış bir \n",
    "# değeri string değişken içerisinde kullanmak istediğimizde format metodu kullanılır \n",
    "# {} yer tutucu görevi yaparlar"
   ]
  },
  {
   "cell_type": "code",
   "execution_count": 1,
   "id": "5b5bf71a",
   "metadata": {},
   "outputs": [
    {
     "data": {
      "text/plain": [
       "'My name is John and I am 36'"
      ]
     },
     "execution_count": 1,
     "metadata": {},
     "output_type": "execute_result"
    }
   ],
   "source": [
    "age=36\n",
    "\n",
    "txt=\"My name is John and I am {}\"      # yer tutucu ile string içerisinde format metodu ile nereye ekleme yapacağımız belirlenir\n",
    "txt.format(age)                   # format metodu içeirisine yazacağımız parametre string içerisindeki yer tutucu yerine yazılır"
   ]
  },
  {
   "cell_type": "code",
   "execution_count": null,
   "id": "459db121",
   "metadata": {},
   "outputs": [],
   "source": []
  },
  {
   "cell_type": "code",
   "execution_count": 3,
   "id": "5a3ff8ac",
   "metadata": {},
   "outputs": [
    {
     "data": {
      "text/plain": [
       "'I want 3 pieces of item 567 for 49.95 dollars'"
      ]
     },
     "execution_count": 3,
     "metadata": {},
     "output_type": "execute_result"
    }
   ],
   "source": [
    "quantity=3\n",
    "itemno=567\n",
    "price=49.95\n",
    "\n",
    "myorder = \"I want {} pieces of item {} for {} dollars\"    # yer tutucularla format ile eklenecek yerler belirlenir\n",
    "\n",
    "myorder.format(quantity, itemno, price)                   # format içerisine yazılan variable lar sırasına göre yerleştirilir"
   ]
  },
  {
   "cell_type": "code",
   "execution_count": null,
   "id": "a40b850e",
   "metadata": {},
   "outputs": [],
   "source": []
  },
  {
   "cell_type": "code",
   "execution_count": 8,
   "id": "7a6ab52e",
   "metadata": {},
   "outputs": [
    {
     "data": {
      "text/plain": [
       "'I want to pay 49.95 dollars for 3 pieces of item 567'"
      ]
     },
     "execution_count": 8,
     "metadata": {},
     "output_type": "execute_result"
    }
   ],
   "source": [
    "quantity=3\n",
    "itemno=567\n",
    "price=49.95\n",
    "\n",
    "myorder = \"I want to pay {2} dollars for {0} pieces of item {1}\" # yer tutucular içerisinde hangi sırayla yerleştirme yapılacağı \n",
    "                                                                 # belirlenir. 0 index ten başlanır yazılmaya dikkat\n",
    "\n",
    "myorder.format(quantity, itemno, price)               # burdaki quantity 0 yazan yere itemno 1 yazan yere price 2 yazan yere"
   ]
  },
  {
   "cell_type": "code",
   "execution_count": null,
   "id": "abf9592f",
   "metadata": {},
   "outputs": [],
   "source": []
  },
  {
   "cell_type": "code",
   "execution_count": 33,
   "id": "78ac1d1a",
   "metadata": {},
   "outputs": [
    {
     "data": {
      "text/plain": [
       "'benim adım murat akca'"
      ]
     },
     "execution_count": 33,
     "metadata": {},
     "output_type": "execute_result"
    }
   ],
   "source": [
    "Name=\"murat\"\n",
    "Surname=\"akca\"\n",
    "\n",
    "\"benim adım {} {}\".format(Name,Surname)"
   ]
  },
  {
   "cell_type": "code",
   "execution_count": 34,
   "id": "5b7034ba",
   "metadata": {},
   "outputs": [
    {
     "data": {
      "text/plain": [
       "'benim adım akca murat'"
      ]
     },
     "execution_count": 34,
     "metadata": {},
     "output_type": "execute_result"
    }
   ],
   "source": [
    "\"benim adım {1} {0}\".format(Name,Surname)"
   ]
  },
  {
   "cell_type": "code",
   "execution_count": 35,
   "id": "e0d185cb",
   "metadata": {},
   "outputs": [
    {
     "data": {
      "text/plain": [
       "'benim adım mustafa Bölükbaşı'"
      ]
     },
     "execution_count": 35,
     "metadata": {},
     "output_type": "execute_result"
    }
   ],
   "source": [
    "\"benim adım {Name} {Surname}\".format(Name=\"mustafa\",Surname=\"Bölükbaşı\")"
   ]
  },
  {
   "cell_type": "code",
   "execution_count": 36,
   "id": "11b78664",
   "metadata": {},
   "outputs": [
    {
     "data": {
      "text/plain": [
       "'abracadabra'"
      ]
     },
     "execution_count": 36,
     "metadata": {},
     "output_type": "execute_result"
    }
   ],
   "source": [
    "\"{0}{1}{0}\".format(\"abra\",\"cad\")"
   ]
  },
  {
   "cell_type": "code",
   "execution_count": 37,
   "id": "22bb6a5b",
   "metadata": {},
   "outputs": [],
   "source": [
    "coor=(3,5)"
   ]
  },
  {
   "cell_type": "code",
   "execution_count": 42,
   "id": "25d87c59",
   "metadata": {},
   "outputs": [
    {
     "data": {
      "text/plain": [
       "'X:3, Y:5'"
      ]
     },
     "execution_count": 42,
     "metadata": {},
     "output_type": "execute_result"
    }
   ],
   "source": [
    "\"X:{0[0]}, Y:{0[1]}\".format(coor)  # coor 0 index paramatredir. 0[0]=3;  0[1]=5 slicing ile atanabilir"
   ]
  },
  {
   "cell_type": "code",
   "execution_count": 43,
   "id": "c3997ac3",
   "metadata": {},
   "outputs": [
    {
     "data": {
      "text/plain": [
       "'X:3, Y:e'"
      ]
     },
     "execution_count": 43,
     "metadata": {},
     "output_type": "execute_result"
    }
   ],
   "source": [
    "\"X:{0[0]}, Y:{1[1]}\".format(coor,\"hello\")"
   ]
  },
  {
   "cell_type": "code",
   "execution_count": 111,
   "id": "7b5084f4",
   "metadata": {},
   "outputs": [
    {
     "data": {
      "text/plain": [
       "'2 ile 4 toplamı 6 eder'"
      ]
     },
     "execution_count": 111,
     "metadata": {},
     "output_type": "execute_result"
    }
   ],
   "source": [
    "\"2 ile 4 toplamı {} eder\".format(2+4)"
   ]
  },
  {
   "cell_type": "code",
   "execution_count": 117,
   "id": "5f72b8b7",
   "metadata": {},
   "outputs": [
    {
     "name": "stdout",
     "output_type": "stream",
     "text": [
      "yarıcap bilgisi girin: 5\n",
      "girilen yarıçap değeri : 5, bu yarıçap değerine ait daire alanı 78.5, cevresi 31.4 dir\n"
     ]
    }
   ],
   "source": [
    "# kullancıdan alınan yarıçap bilgisine ait dairenin alanını ve cevre uzunluğunu hesaplayan programı yazalım\n",
    "\n",
    "yarıçap=int(input(\"yarıcap bilgisi girin: \"))\n",
    "alan=3.14*(yarıçap**2)\n",
    "cevre=round((2*3.14*yarıçap),2)             # round ile bir sayının virgülden sonra istenen basamağa yuvarlaması yapılır \n",
    "\n",
    "print(\"girilen yarıçap değeri : {}, bu yarıçap değerine ait daire alanı {}, cevresi {} dir\".format(yarıçap,alan,cevre))\n",
    "#print(\"girilen yarıçap değeri : {}, bu yarıçap değerine ait daire alanı {}, cevresi {} dir\".format(yarıçap,3.14*(yarıçap**2),round((2*3.14*yarıçap),2) ))"
   ]
  },
  {
   "cell_type": "code",
   "execution_count": 113,
   "id": "47ec33a4",
   "metadata": {},
   "outputs": [],
   "source": [
    "import math "
   ]
  },
  {
   "cell_type": "code",
   "execution_count": 114,
   "id": "1f7013db",
   "metadata": {},
   "outputs": [],
   "source": [
    "pi=math.pi"
   ]
  },
  {
   "cell_type": "code",
   "execution_count": 115,
   "id": "f6a79ddd",
   "metadata": {},
   "outputs": [
    {
     "data": {
      "text/plain": [
       "3.141592653589793"
      ]
     },
     "execution_count": 115,
     "metadata": {},
     "output_type": "execute_result"
    }
   ],
   "source": [
    "pi"
   ]
  },
  {
   "cell_type": "code",
   "execution_count": 116,
   "id": "f48bb30a",
   "metadata": {},
   "outputs": [
    {
     "data": {
      "text/plain": [
       "3.14"
      ]
     },
     "execution_count": 116,
     "metadata": {},
     "output_type": "execute_result"
    }
   ],
   "source": [
    "round(pi,2)"
   ]
  },
  {
   "cell_type": "code",
   "execution_count": null,
   "id": "4c9a7149",
   "metadata": {},
   "outputs": [],
   "source": []
  },
  {
   "cell_type": "code",
   "execution_count": null,
   "id": "f53fcb76",
   "metadata": {},
   "outputs": [],
   "source": []
  },
  {
   "cell_type": "code",
   "execution_count": null,
   "id": "9ccf065f",
   "metadata": {},
   "outputs": [],
   "source": [
    "# format metodunun % ile kullanımı"
   ]
  },
  {
   "cell_type": "code",
   "execution_count": 45,
   "id": "462731c2",
   "metadata": {},
   "outputs": [
    {
     "data": {
      "text/plain": [
       "'murat is 50 years old'"
      ]
     },
     "execution_count": 45,
     "metadata": {},
     "output_type": "execute_result"
    }
   ],
   "source": [
    "name=\"murat\"\n",
    "age=50\n",
    "\n",
    "\"%s is %d years old\"%(name,age)       # %s string i %d digit değer. format yerine de % yazılır"
   ]
  },
  {
   "cell_type": "code",
   "execution_count": null,
   "id": "7a024b65",
   "metadata": {},
   "outputs": [],
   "source": []
  },
  {
   "cell_type": "code",
   "execution_count": null,
   "id": "e94c9160",
   "metadata": {},
   "outputs": [],
   "source": [
    "# format_map\n",
    "\n",
    "# sözlük yapısındaki bir data tipinin format ile kullanmı\n",
    "# key değerleri yer tutucuların içine yazılır. key değerlerine karşılık gelen value değerleri döndürülür"
   ]
  },
  {
   "cell_type": "code",
   "execution_count": 109,
   "id": "46bceeb9",
   "metadata": {},
   "outputs": [
    {
     "data": {
      "text/plain": [
       "'adınız mustafa soyadınız bölükbaşı'"
      ]
     },
     "execution_count": 109,
     "metadata": {},
     "output_type": "execute_result"
    }
   ],
   "source": [
    "data={\"name\":\"mustafa\", \"surname\":\"bölükbaşı\"}\n",
    "\n",
    "\"adınız {name} soyadınız {surname}\".format_map(data)"
   ]
  },
  {
   "cell_type": "code",
   "execution_count": null,
   "id": "2eaca08f",
   "metadata": {},
   "outputs": [],
   "source": []
  },
  {
   "cell_type": "code",
   "execution_count": null,
   "id": "88306f7b",
   "metadata": {},
   "outputs": [],
   "source": []
  },
  {
   "cell_type": "code",
   "execution_count": null,
   "id": "1a1b3e74",
   "metadata": {},
   "outputs": [],
   "source": []
  },
  {
   "cell_type": "code",
   "execution_count": null,
   "id": "ba941a7d",
   "metadata": {},
   "outputs": [],
   "source": [
    "# escape characters\n",
    "\n",
    "# string değişken içerisinde \"\" ile belirttiğimiz bir kısım varsa, python bunu anlamaz. \"\" ile yazılmış ayrı bir string olarak\n",
    "# algılar  ve hata döndürür.\n",
    "# \" öncesinde yazacağımız \\ ile python ın bunu stirng içerisinde belirtilen bir ifade olduğunu anlamasını sağlarız"
   ]
  },
  {
   "cell_type": "code",
   "execution_count": null,
   "id": "45808af6",
   "metadata": {},
   "outputs": [],
   "source": [
    "# \\\""
   ]
  },
  {
   "cell_type": "code",
   "execution_count": 9,
   "id": "d47dbd8b",
   "metadata": {},
   "outputs": [
    {
     "ename": "SyntaxError",
     "evalue": "invalid syntax (3415735825.py, line 1)",
     "output_type": "error",
     "traceback": [
      "\u001b[1;36m  Input \u001b[1;32mIn [9]\u001b[1;36m\u001b[0m\n\u001b[1;33m    txt = \"We are the so_called \"Vikings\" from the north\"\u001b[0m\n\u001b[1;37m                                 ^\u001b[0m\n\u001b[1;31mSyntaxError\u001b[0m\u001b[1;31m:\u001b[0m invalid syntax\n"
     ]
    }
   ],
   "source": [
    "txt = \"We are the so-called \"Vikings\" from the north\""
   ]
  },
  {
   "cell_type": "code",
   "execution_count": 12,
   "id": "e7fe686b",
   "metadata": {},
   "outputs": [
    {
     "data": {
      "text/plain": [
       "'We are the so-called \"Vikings\" from the north'"
      ]
     },
     "execution_count": 12,
     "metadata": {},
     "output_type": "execute_result"
    }
   ],
   "source": [
    "txt = \"We are the so-called \\\"Vikings\\\" from the north\"\n",
    "\n",
    "txt"
   ]
  },
  {
   "cell_type": "code",
   "execution_count": null,
   "id": "9bea68c0",
   "metadata": {},
   "outputs": [],
   "source": [
    "# \\n                      alt satıra atar    "
   ]
  },
  {
   "cell_type": "code",
   "execution_count": 26,
   "id": "73f02fb9",
   "metadata": {},
   "outputs": [
    {
     "name": "stdout",
     "output_type": "stream",
     "text": [
      "hello\n",
      "world\n"
     ]
    }
   ],
   "source": [
    "print(\"hello\\nworld\")"
   ]
  },
  {
   "cell_type": "code",
   "execution_count": null,
   "id": "19ef383c",
   "metadata": {},
   "outputs": [],
   "source": [
    "# \\t                      bir tab boşluk bırakır"
   ]
  },
  {
   "cell_type": "code",
   "execution_count": 27,
   "id": "f314c877",
   "metadata": {},
   "outputs": [
    {
     "name": "stdout",
     "output_type": "stream",
     "text": [
      "hello\tworld\n"
     ]
    }
   ],
   "source": [
    "print(\"hello\\tworld\")"
   ]
  },
  {
   "cell_type": "code",
   "execution_count": 28,
   "id": "89d1764b",
   "metadata": {},
   "outputs": [
    {
     "name": "stdout",
     "output_type": "stream",
     "text": [
      "hello\t\t\tworld\n"
     ]
    }
   ],
   "source": [
    "print(\"hello\\t\\t\\tworld\")"
   ]
  },
  {
   "cell_type": "code",
   "execution_count": null,
   "id": "d3dc773d",
   "metadata": {},
   "outputs": [],
   "source": []
  },
  {
   "cell_type": "code",
   "execution_count": null,
   "id": "40abbe41",
   "metadata": {},
   "outputs": [],
   "source": [
    "# STRING.center()\n",
    "\n",
    "# string ifadeyi içine yazılan parametre uzunluğunde bir alana ortalayarak yerleştirir. sağa ve sola ise defaoult değer boşluk\n",
    "# yerleştirir. boşluk yerine atama yapılırsa farklı bir karakterde doldurulur"
   ]
  },
  {
   "cell_type": "code",
   "execution_count": 54,
   "id": "a6595a88",
   "metadata": {},
   "outputs": [
    {
     "data": {
      "text/plain": [
       "'       Global       '"
      ]
     },
     "execution_count": 54,
     "metadata": {},
     "output_type": "execute_result"
    }
   ],
   "source": [
    "txt=\" Global\"\n",
    "\n",
    "txt.center(20)"
   ]
  },
  {
   "cell_type": "code",
   "execution_count": 55,
   "id": "67c943e6",
   "metadata": {},
   "outputs": [
    {
     "data": {
      "text/plain": [
       "'------ Global-------'"
      ]
     },
     "execution_count": 55,
     "metadata": {},
     "output_type": "execute_result"
    }
   ],
   "source": [
    "txt.center(20, \"-\")"
   ]
  },
  {
   "cell_type": "code",
   "execution_count": 62,
   "id": "f7928f98",
   "metadata": {},
   "outputs": [
    {
     "name": "stdout",
     "output_type": "stream",
     "text": [
      "--#--\n",
      "-###-\n",
      "#####\n",
      "-###-\n",
      "--#--\n"
     ]
    }
   ],
   "source": [
    "print(\"#\".center(5,\"-\"))\n",
    "print(\"###\".center(5,\"-\"))\n",
    "print(\"#\"*5)\n",
    "print((\"#\"*3).center(5,\"-\"))\n",
    "print(\"#\".center(5,\"-\"))"
   ]
  },
  {
   "cell_type": "code",
   "execution_count": null,
   "id": "ac35bfca",
   "metadata": {},
   "outputs": [],
   "source": []
  },
  {
   "cell_type": "code",
   "execution_count": null,
   "id": "31661b72",
   "metadata": {},
   "outputs": [],
   "source": [
    "# STRING.count(value,start,end)\n",
    "\n",
    "# bir string içerisinde saymak istediğimiz ifade sayılır. kaç tane olduğunu gösterir. string ifade de baştan sona sayılacağı\n",
    "# gibi, başlangıç ve bitiş noktası yazılarak belirli bir aralıkta da saydırılabilir"
   ]
  },
  {
   "cell_type": "code",
   "execution_count": 17,
   "id": "d8f24da3",
   "metadata": {},
   "outputs": [
    {
     "data": {
      "text/plain": [
       "1"
      ]
     },
     "execution_count": 17,
     "metadata": {},
     "output_type": "execute_result"
    }
   ],
   "source": [
    "txt= \"Global On Time Analytics\"\n",
    "\n",
    "txt.count(\"On\")"
   ]
  },
  {
   "cell_type": "code",
   "execution_count": 120,
   "id": "7bfe4584",
   "metadata": {},
   "outputs": [
    {
     "data": {
      "text/plain": [
       "2"
      ]
     },
     "execution_count": 120,
     "metadata": {},
     "output_type": "execute_result"
    }
   ],
   "source": [
    "s= \" She sells seashells by the seashore.\"\n",
    "\n",
    "s.count(\"l\",10,-1)         # 10 index ile -1 index arasında sayar"
   ]
  },
  {
   "cell_type": "code",
   "execution_count": null,
   "id": "a1b9c54f",
   "metadata": {},
   "outputs": [],
   "source": []
  },
  {
   "cell_type": "code",
   "execution_count": null,
   "id": "64b533ed",
   "metadata": {},
   "outputs": [],
   "source": [
    "# STRING.encode(encoding=encoding, errors=errors)\n",
    "\n",
    "# her bir karakterin arka planda tutulan kodunu döndürür. özellikle farklı alfabetik karakterlerin kodunu görmeyi sağlar"
   ]
  },
  {
   "cell_type": "code",
   "execution_count": 18,
   "id": "583cd0b9",
   "metadata": {},
   "outputs": [
    {
     "data": {
      "text/plain": [
       "b'My name is St\\xc3\\xa5le'"
      ]
     },
     "execution_count": 18,
     "metadata": {},
     "output_type": "execute_result"
    }
   ],
   "source": [
    "txt = \"My name is Ståle\"\n",
    "\n",
    "txt.encode()"
   ]
  },
  {
   "cell_type": "code",
   "execution_count": null,
   "id": "489d79bc",
   "metadata": {},
   "outputs": [],
   "source": []
  },
  {
   "cell_type": "code",
   "execution_count": null,
   "id": "4802f867",
   "metadata": {},
   "outputs": [],
   "source": [
    "# STRING.startswith(value, start, end) / STRING.endswith(value, start, end)\n",
    "\n",
    "# string bir değişkenin yazılan value değeri ile başlayıp başlamadığını sorgular. True/False döner    (STRING.startswith())\n",
    "# string bir değişkenin yazılan value değeri ile bitip bitmediğini sorgular. True/False döner         (STRING.endswith())"
   ]
  },
  {
   "cell_type": "code",
   "execution_count": 46,
   "id": "cce7d565",
   "metadata": {},
   "outputs": [],
   "source": [
    "x=\"hello\""
   ]
  },
  {
   "cell_type": "code",
   "execution_count": 49,
   "id": "b8780ac1",
   "metadata": {},
   "outputs": [
    {
     "data": {
      "text/plain": [
       "True"
      ]
     },
     "execution_count": 49,
     "metadata": {},
     "output_type": "execute_result"
    }
   ],
   "source": [
    "x.endswith(\"o\")"
   ]
  },
  {
   "cell_type": "code",
   "execution_count": 50,
   "id": "b48c0050",
   "metadata": {},
   "outputs": [
    {
     "data": {
      "text/plain": [
       "False"
      ]
     },
     "execution_count": 50,
     "metadata": {},
     "output_type": "execute_result"
    }
   ],
   "source": [
    "x.endswith(\"e\")"
   ]
  },
  {
   "cell_type": "code",
   "execution_count": 51,
   "id": "90002a59",
   "metadata": {},
   "outputs": [
    {
     "data": {
      "text/plain": [
       "True"
      ]
     },
     "execution_count": 51,
     "metadata": {},
     "output_type": "execute_result"
    }
   ],
   "source": [
    "x.startswith(\"h\")"
   ]
  },
  {
   "cell_type": "code",
   "execution_count": 52,
   "id": "288319e0",
   "metadata": {},
   "outputs": [
    {
     "data": {
      "text/plain": [
       "False"
      ]
     },
     "execution_count": 52,
     "metadata": {},
     "output_type": "execute_result"
    }
   ],
   "source": [
    "x.startswith(\"l\")"
   ]
  },
  {
   "cell_type": "code",
   "execution_count": null,
   "id": "303e460b",
   "metadata": {},
   "outputs": [],
   "source": []
  },
  {
   "cell_type": "code",
   "execution_count": null,
   "id": "1a515d6a",
   "metadata": {},
   "outputs": [],
   "source": []
  },
  {
   "cell_type": "code",
   "execution_count": null,
   "id": "baf848fa",
   "metadata": {},
   "outputs": [],
   "source": [
    "# STRING.find() / STRING.index()\n",
    "\n",
    "# string bir ifade içerisinde aranan değer ilk olarak hangi index değerde onu döndürür\n",
    "# belirli bir aralıktada sorgulanabilir. başlangıç ve bitiş index değerleri yazılarak aralık belirtilir\n",
    "# aranan ifade yoksa find() -1 döndürür ve kod çalışır\n",
    "# aranan ifade yoksa index() hata verir ve kod çalışmaz"
   ]
  },
  {
   "cell_type": "code",
   "execution_count": 64,
   "id": "ed785697",
   "metadata": {},
   "outputs": [],
   "source": [
    "txt=\"Global\""
   ]
  },
  {
   "cell_type": "code",
   "execution_count": 65,
   "id": "6cc7e184",
   "metadata": {},
   "outputs": [
    {
     "data": {
      "text/plain": [
       "2"
      ]
     },
     "execution_count": 65,
     "metadata": {},
     "output_type": "execute_result"
    }
   ],
   "source": [
    "txt.find(\"o\")"
   ]
  },
  {
   "cell_type": "code",
   "execution_count": 66,
   "id": "cc5b907a",
   "metadata": {},
   "outputs": [
    {
     "data": {
      "text/plain": [
       "3"
      ]
     },
     "execution_count": 66,
     "metadata": {},
     "output_type": "execute_result"
    }
   ],
   "source": [
    "txt.find(\"ba\")     # coklu karakter sorgulamada ilk karakterin index i döndürülür"
   ]
  },
  {
   "cell_type": "code",
   "execution_count": 67,
   "id": "11c4b4f7",
   "metadata": {},
   "outputs": [
    {
     "data": {
      "text/plain": [
       "-1"
      ]
     },
     "execution_count": 67,
     "metadata": {},
     "output_type": "execute_result"
    }
   ],
   "source": [
    "txt.find(\"x\")      # yoksa -1 döndürür"
   ]
  },
  {
   "cell_type": "code",
   "execution_count": 68,
   "id": "b58ed195",
   "metadata": {},
   "outputs": [
    {
     "data": {
      "text/plain": [
       "2"
      ]
     },
     "execution_count": 68,
     "metadata": {},
     "output_type": "execute_result"
    }
   ],
   "source": [
    "txt.index(\"o\")"
   ]
  },
  {
   "cell_type": "code",
   "execution_count": 69,
   "id": "14015659",
   "metadata": {},
   "outputs": [
    {
     "data": {
      "text/plain": [
       "3"
      ]
     },
     "execution_count": 69,
     "metadata": {},
     "output_type": "execute_result"
    }
   ],
   "source": [
    "txt.index(\"ba\")"
   ]
  },
  {
   "cell_type": "code",
   "execution_count": 70,
   "id": "904ecbe6",
   "metadata": {},
   "outputs": [
    {
     "ename": "ValueError",
     "evalue": "substring not found",
     "output_type": "error",
     "traceback": [
      "\u001b[1;31m---------------------------------------------------------------------------\u001b[0m",
      "\u001b[1;31mValueError\u001b[0m                                Traceback (most recent call last)",
      "Input \u001b[1;32mIn [70]\u001b[0m, in \u001b[0;36m<cell line: 1>\u001b[1;34m()\u001b[0m\n\u001b[1;32m----> 1\u001b[0m \u001b[43mtxt\u001b[49m\u001b[38;5;241;43m.\u001b[39;49m\u001b[43mindex\u001b[49m\u001b[43m(\u001b[49m\u001b[38;5;124;43m\"\u001b[39;49m\u001b[38;5;124;43mx\u001b[39;49m\u001b[38;5;124;43m\"\u001b[39;49m\u001b[43m)\u001b[49m\n",
      "\u001b[1;31mValueError\u001b[0m: substring not found"
     ]
    }
   ],
   "source": [
    "txt.index(\"x\")    # yoksa hata verir"
   ]
  },
  {
   "cell_type": "code",
   "execution_count": 121,
   "id": "e13cd991",
   "metadata": {},
   "outputs": [],
   "source": [
    "s= \" She sells seashells by the seashore.\""
   ]
  },
  {
   "cell_type": "code",
   "execution_count": 122,
   "id": "392b3ea8",
   "metadata": {},
   "outputs": [
    {
     "data": {
      "text/plain": [
       "'by the seashore.'"
      ]
     },
     "execution_count": 122,
     "metadata": {},
     "output_type": "execute_result"
    }
   ],
   "source": [
    "s[s.find(\"b\"):]"
   ]
  },
  {
   "cell_type": "code",
   "execution_count": 130,
   "id": "c7344175",
   "metadata": {},
   "outputs": [
    {
     "data": {
      "text/plain": [
       "11"
      ]
     },
     "execution_count": 130,
     "metadata": {},
     "output_type": "execute_result"
    }
   ],
   "source": [
    "s.find(\"s\",10,-1)"
   ]
  },
  {
   "cell_type": "code",
   "execution_count": null,
   "id": "fc547f55",
   "metadata": {},
   "outputs": [],
   "source": []
  },
  {
   "cell_type": "code",
   "execution_count": null,
   "id": "965768e2",
   "metadata": {},
   "outputs": [],
   "source": []
  },
  {
   "cell_type": "markdown",
   "id": "a0c03ee8",
   "metadata": {},
   "source": [
    "python_basic04 videosu (100dk dan sonrası)"
   ]
  },
  {
   "cell_type": "code",
   "execution_count": null,
   "id": "47535561",
   "metadata": {},
   "outputs": [],
   "source": [
    "# güzel bir örenk"
   ]
  },
  {
   "cell_type": "code",
   "execution_count": 81,
   "id": "ca604714",
   "metadata": {},
   "outputs": [],
   "source": [
    "data=\"From murat.akca@techproed.com Sat Jan 19:10:16 2011\"\n",
    "data2=\"From mustafa.bolukbasi@techproed.com Sat Jan 19:10:16 2011\"\n",
    "data3=\"From ali.veli@techproed.com Sat Jan 19:10:16 2011\""
   ]
  },
  {
   "cell_type": "code",
   "execution_count": 72,
   "id": "4e8188b2",
   "metadata": {},
   "outputs": [
    {
     "data": {
      "text/plain": [
       "15"
      ]
     },
     "execution_count": 72,
     "metadata": {},
     "output_type": "execute_result"
    }
   ],
   "source": [
    "data.find(\"@\")"
   ]
  },
  {
   "cell_type": "code",
   "execution_count": 73,
   "id": "a4294039",
   "metadata": {},
   "outputs": [
    {
     "data": {
      "text/plain": [
       "4"
      ]
     },
     "execution_count": 73,
     "metadata": {},
     "output_type": "execute_result"
    }
   ],
   "source": [
    "data.find(\" \")"
   ]
  },
  {
   "cell_type": "code",
   "execution_count": 84,
   "id": "d80a7b36",
   "metadata": {},
   "outputs": [
    {
     "data": {
      "text/plain": [
       "' murat.akca'"
      ]
     },
     "execution_count": 84,
     "metadata": {},
     "output_type": "execute_result"
    }
   ],
   "source": [
    "data[data.find(\" \") : data.find(\"@\")]        # boşluktan başladığı için ilk karakter boşluk"
   ]
  },
  {
   "cell_type": "code",
   "execution_count": 80,
   "id": "2a9d4d3e",
   "metadata": {},
   "outputs": [
    {
     "data": {
      "text/plain": [
       "'murat.akca'"
      ]
     },
     "execution_count": 80,
     "metadata": {},
     "output_type": "execute_result"
    }
   ],
   "source": [
    "data[data.find(\" \")+1 : data.find(\"@\")]      # +1 ile boşluk yerine ismin ilk harfinden başlama sağlanır"
   ]
  },
  {
   "cell_type": "code",
   "execution_count": 82,
   "id": "f91800e6",
   "metadata": {},
   "outputs": [
    {
     "data": {
      "text/plain": [
       "'mustafa.bolukbasi'"
      ]
     },
     "execution_count": 82,
     "metadata": {},
     "output_type": "execute_result"
    }
   ],
   "source": [
    "data2[data2.find(\" \")+1 : data2.find(\"@\")]"
   ]
  },
  {
   "cell_type": "code",
   "execution_count": 83,
   "id": "73d81801",
   "metadata": {},
   "outputs": [
    {
     "data": {
      "text/plain": [
       "'ali.veli'"
      ]
     },
     "execution_count": 83,
     "metadata": {},
     "output_type": "execute_result"
    }
   ],
   "source": [
    "data3[data3.find(\" \")+1 : data3.find(\"@\")]"
   ]
  },
  {
   "cell_type": "code",
   "execution_count": null,
   "id": "a651e337",
   "metadata": {},
   "outputs": [],
   "source": []
  },
  {
   "cell_type": "code",
   "execution_count": 85,
   "id": "36eb0386",
   "metadata": {},
   "outputs": [
    {
     "data": {
      "text/plain": [
       "29"
      ]
     },
     "execution_count": 85,
     "metadata": {},
     "output_type": "execute_result"
    }
   ],
   "source": [
    "data.find(\" \", data.find(\"@\"))               # @ den sonraki boşluk bulunması için"
   ]
  },
  {
   "cell_type": "code",
   "execution_count": 86,
   "id": "5f50358f",
   "metadata": {},
   "outputs": [
    {
     "data": {
      "text/plain": [
       "'@techproed.com'"
      ]
     },
     "execution_count": 86,
     "metadata": {},
     "output_type": "execute_result"
    }
   ],
   "source": [
    "data[data.find(\"@\"):data.find(\" \", data.find(\"@\"))]"
   ]
  },
  {
   "cell_type": "code",
   "execution_count": null,
   "id": "b43eab3b",
   "metadata": {},
   "outputs": [],
   "source": []
  },
  {
   "cell_type": "code",
   "execution_count": null,
   "id": "ee7a1273",
   "metadata": {},
   "outputs": [],
   "source": [
    "# STRING.islower()    : hepsi küçük harfmi sorgular True/False döndürür\n",
    "# STRING.isalpha()    : hepsi harfmi sorgular True/False döndürür\n",
    "# STRING.isdigit()    : hepsi rakammı sorgular True/False döndürür"
   ]
  },
  {
   "cell_type": "code",
   "execution_count": 87,
   "id": "7a634844",
   "metadata": {},
   "outputs": [
    {
     "data": {
      "text/plain": [
       "False"
      ]
     },
     "execution_count": 87,
     "metadata": {},
     "output_type": "execute_result"
    }
   ],
   "source": [
    "\"Hello World\".islower()"
   ]
  },
  {
   "cell_type": "code",
   "execution_count": 88,
   "id": "eaf1532f",
   "metadata": {},
   "outputs": [
    {
     "data": {
      "text/plain": [
       "True"
      ]
     },
     "execution_count": 88,
     "metadata": {},
     "output_type": "execute_result"
    }
   ],
   "source": [
    "\"hello world\".islower()"
   ]
  },
  {
   "cell_type": "code",
   "execution_count": 89,
   "id": "77385c71",
   "metadata": {},
   "outputs": [
    {
     "data": {
      "text/plain": [
       "False"
      ]
     },
     "execution_count": 89,
     "metadata": {},
     "output_type": "execute_result"
    }
   ],
   "source": [
    "\"Hello World\".isalpha()"
   ]
  },
  {
   "cell_type": "code",
   "execution_count": 90,
   "id": "df6ce7c6",
   "metadata": {},
   "outputs": [
    {
     "data": {
      "text/plain": [
       "True"
      ]
     },
     "execution_count": 90,
     "metadata": {},
     "output_type": "execute_result"
    }
   ],
   "source": [
    "\"HelloWorld\".isalpha()"
   ]
  },
  {
   "cell_type": "code",
   "execution_count": 91,
   "id": "9b43cb19",
   "metadata": {},
   "outputs": [
    {
     "data": {
      "text/plain": [
       "False"
      ]
     },
     "execution_count": 91,
     "metadata": {},
     "output_type": "execute_result"
    }
   ],
   "source": [
    "\"1234567HW\".isdigit()"
   ]
  },
  {
   "cell_type": "code",
   "execution_count": 92,
   "id": "4624c45d",
   "metadata": {},
   "outputs": [
    {
     "data": {
      "text/plain": [
       "True"
      ]
     },
     "execution_count": 92,
     "metadata": {},
     "output_type": "execute_result"
    }
   ],
   "source": [
    "\"1234567\".isdigit()"
   ]
  },
  {
   "cell_type": "code",
   "execution_count": null,
   "id": "1df0292e",
   "metadata": {},
   "outputs": [],
   "source": []
  },
  {
   "cell_type": "code",
   "execution_count": 107,
   "id": "44c7230a",
   "metadata": {},
   "outputs": [
    {
     "data": {
      "text/plain": [
       "['__add__',\n",
       " '__class__',\n",
       " '__contains__',\n",
       " '__delattr__',\n",
       " '__dir__',\n",
       " '__doc__',\n",
       " '__eq__',\n",
       " '__format__',\n",
       " '__ge__',\n",
       " '__getattribute__',\n",
       " '__getitem__',\n",
       " '__getnewargs__',\n",
       " '__gt__',\n",
       " '__hash__',\n",
       " '__init__',\n",
       " '__init_subclass__',\n",
       " '__iter__',\n",
       " '__le__',\n",
       " '__len__',\n",
       " '__lt__',\n",
       " '__mod__',\n",
       " '__mul__',\n",
       " '__ne__',\n",
       " '__new__',\n",
       " '__reduce__',\n",
       " '__reduce_ex__',\n",
       " '__repr__',\n",
       " '__rmod__',\n",
       " '__rmul__',\n",
       " '__setattr__',\n",
       " '__sizeof__',\n",
       " '__str__',\n",
       " '__subclasshook__',\n",
       " 'capitalize',\n",
       " 'casefold',\n",
       " 'center',\n",
       " 'count',\n",
       " 'encode',\n",
       " 'endswith',\n",
       " 'expandtabs',\n",
       " 'find',\n",
       " 'format',\n",
       " 'format_map',\n",
       " 'index',\n",
       " 'isalnum',\n",
       " 'isalpha',\n",
       " 'isascii',\n",
       " 'isdecimal',\n",
       " 'isdigit',\n",
       " 'isidentifier',\n",
       " 'islower',\n",
       " 'isnumeric',\n",
       " 'isprintable',\n",
       " 'isspace',\n",
       " 'istitle',\n",
       " 'isupper',\n",
       " 'join',\n",
       " 'ljust',\n",
       " 'lower',\n",
       " 'lstrip',\n",
       " 'maketrans',\n",
       " 'partition',\n",
       " 'removeprefix',\n",
       " 'removesuffix',\n",
       " 'replace',\n",
       " 'rfind',\n",
       " 'rindex',\n",
       " 'rjust',\n",
       " 'rpartition',\n",
       " 'rsplit',\n",
       " 'rstrip',\n",
       " 'split',\n",
       " 'splitlines',\n",
       " 'startswith',\n",
       " 'strip',\n",
       " 'swapcase',\n",
       " 'title',\n",
       " 'translate',\n",
       " 'upper',\n",
       " 'zfill']"
      ]
     },
     "execution_count": 107,
     "metadata": {},
     "output_type": "execute_result"
    }
   ],
   "source": [
    "dir(string)                       # string metodlar burdan bakılabilir"
   ]
  },
  {
   "cell_type": "code",
   "execution_count": null,
   "id": "f2bdd3f3",
   "metadata": {},
   "outputs": [],
   "source": []
  },
  {
   "cell_type": "code",
   "execution_count": null,
   "id": "e2d4a340",
   "metadata": {},
   "outputs": [],
   "source": []
  },
  {
   "cell_type": "code",
   "execution_count": null,
   "id": "46f3fc6a",
   "metadata": {},
   "outputs": [],
   "source": [
    "# STRING.expandtabs(tabsize)\n",
    "\n",
    "# \\t ile belirtilen yerlere bir tab boşluk bırakır. tabsize=8 default değerdir. değiştirilebilir"
   ]
  },
  {
   "cell_type": "code",
   "execution_count": 105,
   "id": "d8e33f67",
   "metadata": {},
   "outputs": [
    {
     "data": {
      "text/plain": [
       "'h       e       l       l       o'"
      ]
     },
     "execution_count": 105,
     "metadata": {},
     "output_type": "execute_result"
    }
   ],
   "source": [
    "txt=\"h\\te\\tl\\tl\\to\"\n",
    "\n",
    "txt.expandtabs()"
   ]
  },
  {
   "cell_type": "code",
   "execution_count": 106,
   "id": "663cd442",
   "metadata": {},
   "outputs": [
    {
     "data": {
      "text/plain": [
       "'h   e   l   l   o'"
      ]
     },
     "execution_count": 106,
     "metadata": {},
     "output_type": "execute_result"
    }
   ],
   "source": [
    "txt=\"h\\te\\tl\\tl\\to\"\n",
    "\n",
    "txt.expandtabs(tabsize=4)"
   ]
  },
  {
   "cell_type": "code",
   "execution_count": null,
   "id": "379d31f8",
   "metadata": {},
   "outputs": [],
   "source": []
  },
  {
   "cell_type": "code",
   "execution_count": null,
   "id": "54fb19f7",
   "metadata": {},
   "outputs": [],
   "source": []
  },
  {
   "cell_type": "code",
   "execution_count": null,
   "id": "13815d72",
   "metadata": {},
   "outputs": [],
   "source": [
    "import string as str              # string kütüphanesi import edilerek bazı özellikleri kullanılabilir"
   ]
  },
  {
   "cell_type": "code",
   "execution_count": 94,
   "id": "862ad555",
   "metadata": {},
   "outputs": [
    {
     "data": {
      "text/plain": [
       "'abcdefghijklmnopqrstuvwxyzABCDEFGHIJKLMNOPQRSTUVWXYZ'"
      ]
     },
     "execution_count": 94,
     "metadata": {},
     "output_type": "execute_result"
    }
   ],
   "source": [
    "str.ascii_letters"
   ]
  },
  {
   "cell_type": "code",
   "execution_count": 96,
   "id": "0a28152e",
   "metadata": {},
   "outputs": [
    {
     "data": {
      "text/plain": [
       "'abcdefghijklmnopqrstuvwxyz'"
      ]
     },
     "execution_count": 96,
     "metadata": {},
     "output_type": "execute_result"
    }
   ],
   "source": [
    "str.ascii_lowercase"
   ]
  },
  {
   "cell_type": "code",
   "execution_count": 97,
   "id": "d619c48f",
   "metadata": {},
   "outputs": [
    {
     "data": {
      "text/plain": [
       "'ABCDEFGHIJKLMNOPQRSTUVWXYZ'"
      ]
     },
     "execution_count": 97,
     "metadata": {},
     "output_type": "execute_result"
    }
   ],
   "source": [
    "str.ascii_uppercase"
   ]
  },
  {
   "cell_type": "code",
   "execution_count": 101,
   "id": "5420a8f5",
   "metadata": {},
   "outputs": [
    {
     "data": {
      "text/plain": [
       "'0123456789abcdefABCDEF'"
      ]
     },
     "execution_count": 101,
     "metadata": {},
     "output_type": "execute_result"
    }
   ],
   "source": [
    "str.hexdigits"
   ]
  },
  {
   "cell_type": "code",
   "execution_count": 102,
   "id": "b953fe9d",
   "metadata": {},
   "outputs": [
    {
     "data": {
      "text/plain": [
       "'01234567'"
      ]
     },
     "execution_count": 102,
     "metadata": {},
     "output_type": "execute_result"
    }
   ],
   "source": [
    "str.octdigits"
   ]
  },
  {
   "cell_type": "code",
   "execution_count": 103,
   "id": "23e5725c",
   "metadata": {},
   "outputs": [
    {
     "data": {
      "text/plain": [
       "'0123456789abcdefghijklmnopqrstuvwxyzABCDEFGHIJKLMNOPQRSTUVWXYZ!\"#$%&\\'()*+,-./:;<=>?@[\\\\]^_`{|}~ \\t\\n\\r\\x0b\\x0c'"
      ]
     },
     "execution_count": 103,
     "metadata": {},
     "output_type": "execute_result"
    }
   ],
   "source": [
    "str.printable"
   ]
  },
  {
   "cell_type": "code",
   "execution_count": 104,
   "id": "228f68f6",
   "metadata": {},
   "outputs": [
    {
     "data": {
      "text/plain": [
       "' \\t\\n\\r\\x0b\\x0c'"
      ]
     },
     "execution_count": 104,
     "metadata": {},
     "output_type": "execute_result"
    }
   ],
   "source": [
    "str.whitespace"
   ]
  },
  {
   "cell_type": "code",
   "execution_count": 95,
   "id": "0fb35515",
   "metadata": {},
   "outputs": [
    {
     "data": {
      "text/plain": [
       "'!\"#$%&\\'()*+,-./:;<=>?@[\\\\]^_`{|}~'"
      ]
     },
     "execution_count": 95,
     "metadata": {},
     "output_type": "execute_result"
    }
   ],
   "source": [
    "str.punctuation"
   ]
  },
  {
   "cell_type": "code",
   "execution_count": 93,
   "id": "e6c33417",
   "metadata": {},
   "outputs": [
    {
     "data": {
      "text/plain": [
       "['Formatter',\n",
       " 'Template',\n",
       " '_ChainMap',\n",
       " '__all__',\n",
       " '__builtins__',\n",
       " '__cached__',\n",
       " '__doc__',\n",
       " '__file__',\n",
       " '__loader__',\n",
       " '__name__',\n",
       " '__package__',\n",
       " '__spec__',\n",
       " '_re',\n",
       " '_sentinel_dict',\n",
       " '_string',\n",
       " 'ascii_letters',\n",
       " 'ascii_lowercase',\n",
       " 'ascii_uppercase',\n",
       " 'capwords',\n",
       " 'digits',\n",
       " 'hexdigits',\n",
       " 'octdigits',\n",
       " 'printable',\n",
       " 'punctuation',\n",
       " 'whitespace']"
      ]
     },
     "execution_count": 93,
     "metadata": {},
     "output_type": "execute_result"
    }
   ],
   "source": [
    "dir(str)"
   ]
  },
  {
   "cell_type": "code",
   "execution_count": null,
   "id": "77fa38d3",
   "metadata": {},
   "outputs": [],
   "source": []
  },
  {
   "cell_type": "code",
   "execution_count": null,
   "id": "cf201f43",
   "metadata": {},
   "outputs": [],
   "source": [
    "# kullanıcıdan 2 vize 1 final notu alalım, vize notları ortalamasının % 60 ı ile final notunun % 40 ı toplamı 50 ve daha büyükse\n",
    "# geçer yoksa kalır durumunu döndüren programı yazın"
   ]
  },
  {
   "cell_type": "code",
   "execution_count": 139,
   "id": "306e6833",
   "metadata": {},
   "outputs": [
    {
     "name": "stdout",
     "output_type": "stream",
     "text": [
      "vize1 girin: 45\n",
      "vize2 girin: 55\n",
      "final girin: 45\n",
      "sınavdan geçme durumunuz: False \n"
     ]
    }
   ],
   "source": [
    "vize1=float(input(\"vize1 girin: \"))\n",
    "vize2=float(input(\"vize2 girin: \"))\n",
    "final=float(input(\"final girin: \"))\n",
    "\n",
    "sonuc=((vize1+vize2)/2*0.6) + (final*0.4)\n",
    "gecme_durumu=bool(sonuc >= 50)\n",
    "print(\"sınavdan geçme durumunuz: {} \".format(gecme_durumu))"
   ]
  },
  {
   "cell_type": "code",
   "execution_count": null,
   "id": "e790895e",
   "metadata": {},
   "outputs": [],
   "source": []
  },
  {
   "cell_type": "code",
   "execution_count": null,
   "id": "7bb55539",
   "metadata": {},
   "outputs": [],
   "source": []
  },
  {
   "cell_type": "code",
   "execution_count": null,
   "id": "ffd08a42",
   "metadata": {},
   "outputs": [],
   "source": []
  },
  {
   "cell_type": "code",
   "execution_count": null,
   "id": "a09fa7f1",
   "metadata": {},
   "outputs": [],
   "source": []
  },
  {
   "cell_type": "code",
   "execution_count": null,
   "id": "1149a3a0",
   "metadata": {},
   "outputs": [],
   "source": []
  },
  {
   "cell_type": "code",
   "execution_count": null,
   "id": "3c33912e",
   "metadata": {},
   "outputs": [],
   "source": []
  },
  {
   "cell_type": "code",
   "execution_count": null,
   "id": "1d36ba5b",
   "metadata": {},
   "outputs": [],
   "source": []
  },
  {
   "cell_type": "code",
   "execution_count": null,
   "id": "22ad25db",
   "metadata": {},
   "outputs": [],
   "source": []
  },
  {
   "cell_type": "code",
   "execution_count": null,
   "id": "ba259f7c",
   "metadata": {},
   "outputs": [],
   "source": []
  }
 ],
 "metadata": {
  "kernelspec": {
   "display_name": "Python 3 (ipykernel)",
   "language": "python",
   "name": "python3"
  },
  "language_info": {
   "codemirror_mode": {
    "name": "ipython",
    "version": 3
   },
   "file_extension": ".py",
   "mimetype": "text/x-python",
   "name": "python",
   "nbconvert_exporter": "python",
   "pygments_lexer": "ipython3",
   "version": "3.9.12"
  }
 },
 "nbformat": 4,
 "nbformat_minor": 5
}
